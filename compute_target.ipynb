{
 "cells": [
  {
   "cell_type": "code",
   "execution_count": 13,
   "metadata": {},
   "outputs": [],
   "source": [
    "import pyspark\n",
    "import s3fs"
   ]
  },
  {
   "cell_type": "code",
   "execution_count": 14,
   "metadata": {},
   "outputs": [],
   "source": [
    "sc = pyspark.SparkContext.getOrCreate()\n",
    "ss = pyspark.sql.SparkSession.builder.getOrCreate()"
   ]
  },
  {
   "cell_type": "code",
   "execution_count": 15,
   "metadata": {},
   "outputs": [
    {
     "data": {
      "text/plain": [
       "{'attributes': 's3a://msds630-kaggle-competition/attributes.csv',\n",
       " 'events': 's3a://msds630-kaggle-competition/events.csv',\n",
       " 'messages': 's3a://msds630-kaggle-competition/messages.csv',\n",
       " 'sessions': 's3a://msds630-kaggle-competition/sessions.csv'}"
      ]
     },
     "execution_count": 15,
     "metadata": {},
     "output_type": "execute_result"
    }
   ],
   "source": [
    "s3_address = \"s3a://msds630-kaggle-competition/\"\n",
    "dataset_addr_book = {}\n",
    "dataset_name_list = [\"events\", \"messages\", \"attributes\", \"sessions\"]\n",
    "for name in dataset_name_list:\n",
    "    dataset_addr_book[name] = \"\".join([s3_address, name, \".csv\"])\n",
    "    \n",
    "dataset_addr_book"
   ]
  },
  {
   "cell_type": "code",
   "execution_count": 16,
   "metadata": {},
   "outputs": [
    {
     "name": "stdout",
     "output_type": "stream",
     "text": [
      "['app_id', 'session_id', 'event', 'event_timestamp', 'event_value', 'user_id_hash']\n",
      "6\n"
     ]
    }
   ],
   "source": [
    "events_rdd = sc.textFile(dataset_addr_book[\"events\"])\\\n",
    "               .map(lambda line : line.encode('ascii', 'ignore'))\n",
    "cols_events = events_rdd.map(lambda x: x.split(',')).take(1)[0]\n",
    "print(cols_events)\n",
    "print(len(cols_events))"
   ]
  },
  {
   "cell_type": "code",
   "execution_count": 17,
   "metadata": {},
   "outputs": [
    {
     "data": {
      "text/plain": [
       "[['4724682771660800',\n",
       "  '5558845121177764917',\n",
       "  '45',\n",
       "  '1542215397132',\n",
       "  '0.0',\n",
       "  '9943447915df3a45fd6720a026af905b6da6b56a37701b8b2629802e9a541006']]"
      ]
     },
     "execution_count": 17,
     "metadata": {},
     "output_type": "execute_result"
    }
   ],
   "source": [
    "events_data = events_rdd.filter(lambda x: 'app_id' not in x)\\\n",
    "                        .map(lambda x: x.split(','))\n",
    "events_data.take(1)"
   ]
  },
  {
   "cell_type": "code",
   "execution_count": 18,
   "metadata": {},
   "outputs": [
    {
     "data": {
      "text/plain": [
       "['session_id',\n",
       " 'event',\n",
       " 'event_timestamp',\n",
       " 'event_value',\n",
       " 'user_id_hash',\n",
       " 'is_purchase']"
      ]
     },
     "execution_count": 18,
     "metadata": {},
     "output_type": "execute_result"
    }
   ],
   "source": [
    "cols_events_adj = cols_events[1:] # Drop app_id\n",
    "cols_events_adj.append('is_purchase') # Add column is_Purchase\n",
    "cols_events_adj"
   ]
  },
  {
   "cell_type": "code",
   "execution_count": 19,
   "metadata": {},
   "outputs": [
    {
     "data": {
      "text/plain": [
       "[['5558845121177764917',\n",
       "  '45',\n",
       "  '1542215397132',\n",
       "  '0.0',\n",
       "  '9943447915df3a45fd6720a026af905b6da6b56a37701b8b2629802e9a541006']]"
      ]
     },
     "execution_count": 19,
     "metadata": {},
     "output_type": "execute_result"
    }
   ],
   "source": [
    "events_data_adj = events_data.map(lambda x: x[1:]) # Drop app_id\n",
    "events_data_adj.take(1)"
   ]
  },
  {
   "cell_type": "code",
   "execution_count": 20,
   "metadata": {},
   "outputs": [
    {
     "data": {
      "text/plain": [
       "'-1'"
      ]
     },
     "execution_count": 20,
     "metadata": {},
     "output_type": "execute_result"
    }
   ],
   "source": [
    "def isPurchase(event):\n",
    "    if event == '8':\n",
    "        return '1'\n",
    "    else:\n",
    "        return '-1'\n",
    "\n",
    "# Test\n",
    "isPurchase('8')\n",
    "isPurchase('9')"
   ]
  },
  {
   "cell_type": "code",
   "execution_count": 21,
   "metadata": {},
   "outputs": [
    {
     "data": {
      "text/plain": [
       "[['5558845121177764917',\n",
       "  '45',\n",
       "  '1542215397132',\n",
       "  '0.0',\n",
       "  '9943447915df3a45fd6720a026af905b6da6b56a37701b8b2629802e9a541006',\n",
       "  '-1']]"
      ]
     },
     "execution_count": 21,
     "metadata": {},
     "output_type": "execute_result"
    }
   ],
   "source": [
    "# Add is_purchase\n",
    "events_data_adj = events_data_adj.map(lambda x: [x[0], x[1], x[2], x[3], x[4], isPurchase(x[1])])\n",
    "events_data_adj.take(1)"
   ]
  },
  {
   "cell_type": "code",
   "execution_count": 25,
   "metadata": {},
   "outputs": [],
   "source": [
    "# new_events_filename = \"events_adj.csv\"\n",
    "with open(new_events_filename, \"w\") as f:\n",
    "    f.write(','.join(cols_events_adj))\n",
    "    f.write('\\n')\n",
    "    for line in events_data_adj.collect():        \n",
    "        f.write(','.join(line))\n",
    "        f.write('\\n')        "
   ]
  },
  {
   "cell_type": "code",
   "execution_count": 12,
   "metadata": {},
   "outputs": [],
   "source": [
    "sc.stop()"
   ]
  },
  {
   "cell_type": "code",
   "execution_count": null,
   "metadata": {},
   "outputs": [],
   "source": []
  }
 ],
 "metadata": {
  "kernelspec": {
   "display_name": "Python 3",
   "language": "python",
   "name": "python3"
  },
  "language_info": {
   "codemirror_mode": {
    "name": "ipython",
    "version": 3
   },
   "file_extension": ".py",
   "mimetype": "text/x-python",
   "name": "python",
   "nbconvert_exporter": "python",
   "pygments_lexer": "ipython3",
   "version": "3.6.6"
  }
 },
 "nbformat": 4,
 "nbformat_minor": 2
}
