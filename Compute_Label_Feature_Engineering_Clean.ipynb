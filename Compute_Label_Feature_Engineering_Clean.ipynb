{
 "cells": [
  {
   "cell_type": "code",
   "execution_count": null,
   "metadata": {},
   "outputs": [],
   "source": [
    "! pip install s3fs"
   ]
  },
  {
   "cell_type": "code",
   "execution_count": 1,
   "metadata": {
    "ExecuteTime": {
     "end_time": "2019-02-19T06:57:49.628136Z",
     "start_time": "2019-02-19T06:57:49.493799Z"
    }
   },
   "outputs": [],
   "source": [
    "import numpy as np\n",
    "import pyspark\n",
    "import s3fs\n",
    "from datetime import datetime"
   ]
  },
  {
   "cell_type": "code",
   "execution_count": 2,
   "metadata": {
    "ExecuteTime": {
     "end_time": "2019-02-19T06:57:50.088634Z",
     "start_time": "2019-02-19T06:57:50.082440Z"
    }
   },
   "outputs": [],
   "source": [
    "sc = pyspark.SparkContext.getOrCreate()\n",
    "ss = pyspark.sql.SparkSession.builder.getOrCreate()"
   ]
  },
  {
   "cell_type": "code",
   "execution_count": 3,
   "metadata": {
    "ExecuteTime": {
     "end_time": "2019-02-19T06:58:15.482692Z",
     "start_time": "2019-02-19T06:57:50.422312Z"
    }
   },
   "outputs": [
    {
     "data": {
      "text/plain": [
       "5999419"
      ]
     },
     "execution_count": 3,
     "metadata": {},
     "output_type": "execute_result"
    }
   ],
   "source": [
    "test_rdd = sc.textFile(\"s3a://msds630-kaggle-competition/sessions_events_modified_v2.csv/part-00000\")\\\n",
    "               .map(lambda line : line.encode('ascii', 'ignore'))\n",
    "test_rdd.count()"
   ]
  },
  {
   "cell_type": "code",
   "execution_count": 4,
   "metadata": {
    "ExecuteTime": {
     "end_time": "2019-02-19T06:58:15.496494Z",
     "start_time": "2019-02-19T06:58:15.487278Z"
    }
   },
   "outputs": [
    {
     "name": "stdout",
     "output_type": "stream",
     "text": [
      "16\n"
     ]
    }
   ],
   "source": [
    "columns = [\"session_id\", \"start_timestamp\",\"time_zone\",\"timezone_offset\",\"previous_sessions\",\n",
    "           \"user_created_stamp\",\"is_first_session\",\"country\", \"region\",\"city\",\"latitude\",\n",
    "           \"longitude\",\"local\",\"os_name\",\"session_index\",\"device_id\",\"user_id_hash\",\n",
    "           \"num_events\",\"num_purchases\",\"weekend_purchase\",\"is_purchase\",'purchase_times',\n",
    "           'sum_purchase','1week','2week']\n",
    "for i in range(len(columns)):\n",
    "    if columns[i] == \"user_id_hash\": \n",
    "        print(i)"
   ]
  },
  {
   "cell_type": "code",
   "execution_count": 5,
   "metadata": {
    "ExecuteTime": {
     "end_time": "2019-02-19T06:58:15.510994Z",
     "start_time": "2019-02-19T06:58:15.500465Z"
    }
   },
   "outputs": [
    {
     "data": {
      "text/plain": [
       "'2018-11-08 00:53:44'"
      ]
     },
     "execution_count": 5,
     "metadata": {},
     "output_type": "execute_result"
    }
   ],
   "source": [
    "def convertTime(ts_str):\n",
    "    if ts_str != \"\":\n",
    "        return datetime.utcfromtimestamp(float(ts_str)/1000.0).strftime('%Y-%m-%d %H:%M:%S')\n",
    "    else:\n",
    "        return \"\"\n",
    "convertTime('1541638424150')"
   ]
  },
  {
   "cell_type": "code",
   "execution_count": 6,
   "metadata": {
    "ExecuteTime": {
     "end_time": "2019-02-19T06:58:15.519613Z",
     "start_time": "2019-02-19T06:58:15.513810Z"
    }
   },
   "outputs": [],
   "source": [
    "new_columns = [\"user_id_hash\", \"session_id\", \"start_timestamp\",\"time_zone\",\"timezone_offset\",\"previous_sessions\",\n",
    "               \"user_created_stamp\",\"is_first_session\",\"country\", \"region\",\"city\",\"latitude\",\n",
    "               \"longitude\",\"local\",\"os_name\",\"session_index\",\"device_id\",\n",
    "               \"num_events\",\"num_purchases\",\"weekend_purchase\",\"is_purchase\",'purchase_times',\n",
    "               'sum_purchase','1week','2week']"
   ]
  },
  {
   "cell_type": "code",
   "execution_count": 7,
   "metadata": {
    "ExecuteTime": {
     "end_time": "2019-02-19T06:58:15.534604Z",
     "start_time": "2019-02-19T06:58:15.523437Z"
    }
   },
   "outputs": [],
   "source": [
    "test_rdd_1 = test_rdd.map(lambda x: x.split(\",\"))\n",
    "test_rdd_2 = test_rdd_1.map(lambda x: [x[16],x[0],x[1],x[2],x[3],x[4],x[5],x[6],x[7],\n",
    "                                       x[8],x[9],x[10],x[11],x[12],x[13],x[14],x[15],\n",
    "                                       x[17],x[18],x[19],x[20],x[21],x[22],x[23],x[24]])\n",
    "test_rdd_3 = test_rdd_2.map(lambda x: [x[0],x[1],convertTime(x[2]),x[3],x[4],x[5],x[6],x[7],x[8],x[9],x[10],\n",
    "                                       x[11],x[12],x[13],x[14],x[15],x[16],x[17],x[18],x[19],x[20],\n",
    "                                       x[21],x[22],x[23],x[24]])\n",
    "test_rdd_4 = test_rdd_3.filter(lambda x: x[2] != \"\")"
   ]
  },
  {
   "cell_type": "code",
   "execution_count": 8,
   "metadata": {
    "ExecuteTime": {
     "end_time": "2019-02-19T06:58:15.543959Z",
     "start_time": "2019-02-19T06:58:15.538511Z"
    }
   },
   "outputs": [],
   "source": [
    "train_rdd = test_rdd_4.filter(lambda x: x[2] != \"\").filter(lambda x: x[2] < \"2018-12-02\")\n",
    "train_label = test_rdd_4.filter(lambda x: x[2] != \"\").filter(lambda x: x[2] > \"2018-12-01\")"
   ]
  },
  {
   "cell_type": "markdown",
   "metadata": {},
   "source": [
    "## Compute Label"
   ]
  },
  {
   "cell_type": "code",
   "execution_count": 9,
   "metadata": {
    "ExecuteTime": {
     "end_time": "2019-02-19T06:58:15.557411Z",
     "start_time": "2019-02-19T06:58:15.548036Z"
    }
   },
   "outputs": [
    {
     "data": {
      "text/plain": [
       "1.0"
      ]
     },
     "execution_count": 9,
     "metadata": {},
     "output_type": "execute_result"
    }
   ],
   "source": [
    "def findPur(purchase_list):\n",
    "    if '1.0' in purchase_list:\n",
    "        return 1.0\n",
    "    else:\n",
    "        return -1.0\n",
    "    \n",
    "findPur([\"1.0\", \"\"])"
   ]
  },
  {
   "cell_type": "code",
   "execution_count": 10,
   "metadata": {
    "ExecuteTime": {
     "end_time": "2019-02-19T06:58:15.669648Z",
     "start_time": "2019-02-19T06:58:15.561139Z"
    }
   },
   "outputs": [],
   "source": [
    "train_label_1 = train_label.map(lambda x: [x[0], x[23], x[24]])\n",
    "train_label_1_wk = train_label_1.map(lambda x: (x[0], x[1]))\n",
    "train_label_2_wk = train_label_1.map(lambda x: (x[0], x[2]))\n",
    "train_label_1_wk_1 = train_label_1_wk.groupByKey()\\\n",
    "                                     .map(lambda x: [x[0], list(x[1])])\\\n",
    "                                     .map(lambda x: (x[0], findPur(x[1])))\n",
    "train_label_2_wk_1 = train_label_2_wk.groupByKey()\\\n",
    "                                     .map(lambda x: [x[0], list(x[1])])\\\n",
    "                                     .map(lambda x: (x[0], findPur(x[1])))\n",
    "train_label_2 = train_label_1_wk_1.join(train_label_2_wk_1)\\\n",
    "                                  .map(lambda x: [x[0], x[1][0], x[1][1]])"
   ]
  },
  {
   "cell_type": "code",
   "execution_count": 11,
   "metadata": {
    "ExecuteTime": {
     "end_time": "2019-02-19T06:58:55.801558Z",
     "start_time": "2019-02-19T06:58:15.673733Z"
    }
   },
   "outputs": [
    {
     "name": "stdout",
     "output_type": "stream",
     "text": [
      "62825\n",
      "[['d6cf11a892144d6d2b5d953a5dba12033b2041655aaf26647f1f253e079f7951', -1.0, -1.0]]\n",
      "[['b3755eea4d7e2c03d0d6a2492b7baba5844fdc23da0e6419eca99d4b95aba7ab', 1.0, 1.0]]\n",
      "[['4a459979ce845aca82f5ef93f3bf7344447b66c76f9318ebdb8d2fa8a516075b', -1.0, 1.0]]\n"
     ]
    }
   ],
   "source": [
    "print(train_label_2.count())\n",
    "print(train_label_2.take(1))\n",
    "print(train_label_2.filter(lambda x: x[2]==1).take(1))\n",
    "print(train_label_2.filter(lambda x: x[1]!=1 and x[2] == 1).take(1))"
   ]
  },
  {
   "cell_type": "markdown",
   "metadata": {},
   "source": [
    "## Compute Train Dataset / Test Dataset"
   ]
  },
  {
   "cell_type": "code",
   "execution_count": 12,
   "metadata": {
    "ExecuteTime": {
     "end_time": "2019-02-19T06:58:55.811643Z",
     "start_time": "2019-02-19T06:58:55.805323Z"
    }
   },
   "outputs": [],
   "source": [
    "target_drop_column_name_list = ['time_zone', 'timezone_offset', \"is_first_session\", \n",
    "                                \"region\", \"city\", \"latitude\",\n",
    "                                \"longitude\", \"local\", \"session_index\"]"
   ]
  },
  {
   "cell_type": "code",
   "execution_count": 13,
   "metadata": {
    "ExecuteTime": {
     "end_time": "2019-02-19T06:58:55.831043Z",
     "start_time": "2019-02-19T06:58:55.817669Z"
    }
   },
   "outputs": [
    {
     "data": {
      "text/plain": [
       "['user_id_hash',\n",
       " 'session_id',\n",
       " 'start_timestamp',\n",
       " 'previous_sessions',\n",
       " 'user_created_stamp',\n",
       " 'country',\n",
       " 'os_name',\n",
       " 'device_id',\n",
       " 'num_events',\n",
       " 'num_purchases',\n",
       " 'weekend_purchase',\n",
       " 'is_purchase',\n",
       " 'purchase_times',\n",
       " 'sum_purchase',\n",
       " '1week',\n",
       " '2week']"
      ]
     },
     "execution_count": 13,
     "metadata": {},
     "output_type": "execute_result"
    }
   ],
   "source": [
    "new_columns_4 = list(set(new_columns)-set(target_drop_column_name_list))\n",
    "new_columns_4_1 = []\n",
    "for item in new_columns:\n",
    "    if item in new_columns_4:\n",
    "        new_columns_4_1.append(item)\n",
    "new_columns_4_1"
   ]
  },
  {
   "cell_type": "code",
   "execution_count": 14,
   "metadata": {
    "ExecuteTime": {
     "end_time": "2019-02-19T06:58:55.839924Z",
     "start_time": "2019-02-19T06:58:55.835630Z"
    }
   },
   "outputs": [],
   "source": [
    "def floatSafe(value): # In case there are non-integer type to be converted.\n",
    "    try:\n",
    "        return float(value)\n",
    "    except ValueError:\n",
    "        return 0.0"
   ]
  },
  {
   "cell_type": "code",
   "execution_count": 15,
   "metadata": {
    "ExecuteTime": {
     "end_time": "2019-02-19T06:58:55.859987Z",
     "start_time": "2019-02-19T06:58:55.843834Z"
    }
   },
   "outputs": [],
   "source": [
    "test_rdd_4_1 = test_rdd_4.map(lambda x: [x[0],x[1],x[2],x[5],x[6],x[8],\n",
    "                                         x[14],x[16],x[17],x[18],x[19],\n",
    "                                         x[20],x[21],x[22],x[23],x[24]])\n",
    "train_rdd_4_1 = train_rdd.map(lambda x: [x[0],x[1],x[2],x[5],x[6],x[8],\n",
    "                                         x[14],x[16],x[17],x[18],x[19],\n",
    "                                         x[20],x[21],x[22],x[23],x[24]])\n",
    "test_rdd_4_2 = test_rdd_4_1.map(lambda x: [x[0], x[1], x[2], floatSafe(x[3]), convertTime(x[4]),\n",
    "                                           x[5], x[6], x[7], floatSafe(x[8]), floatSafe(x[9]),\n",
    "                                           x[10], x[11], x[12], floatSafe(x[13]), \n",
    "                                           x[14], x[15]])\n",
    "train_rdd_4_2 = train_rdd_4_1.map(lambda x: [x[0], x[1], x[2], floatSafe(x[3]), convertTime(x[4]),\n",
    "                                             x[5], x[6], x[7], floatSafe(x[8]), floatSafe(x[9]),\n",
    "                                             x[10], x[11], x[12], floatSafe(x[13]), \n",
    "                                             x[14], x[15]])"
   ]
  },
  {
   "cell_type": "code",
   "execution_count": 16,
   "metadata": {
    "ExecuteTime": {
     "end_time": "2019-02-19T06:58:55.875271Z",
     "start_time": "2019-02-19T06:58:55.864446Z"
    }
   },
   "outputs": [],
   "source": [
    "def getMode(nat_list):\n",
    "    if nat_list == []:\n",
    "        return \"\"\n",
    "    count_list = []\n",
    "    elem_list = list(set(nat_list))\n",
    "    for elem in elem_list:\n",
    "        count_list.append((nat_list.count(elem), elem))\n",
    "    return sorted(count_list, reverse = True)[0][1]\n",
    "\n",
    "def getMax(num_event_list):\n",
    "    if num_event_list == []:\n",
    "        return 0.0\n",
    "    return max(num_event_list)"
   ]
  },
  {
   "cell_type": "code",
   "execution_count": 17,
   "metadata": {
    "ExecuteTime": {
     "end_time": "2019-02-19T06:58:56.278133Z",
     "start_time": "2019-02-19T06:58:55.879207Z"
    }
   },
   "outputs": [],
   "source": [
    "# user_id_hash & session_id\n",
    "# Compute num of session_id\n",
    "train_rdd_4_2_ses = train_rdd_4_2.map(lambda x: (x[0], x[1]))\\\n",
    "                                 .groupByKey()\\\n",
    "                                 .map(lambda x: (x[0], len(list(x[1]))))\n",
    "test_rdd_4_2_ses = test_rdd_4_2.map(lambda x: (x[0], x[1]))\\\n",
    "                               .groupByKey()\\\n",
    "                               .map(lambda x: (x[0], len(list(x[1]))))\n",
    "\n",
    "# user_id_hash & previous_sessions\n",
    "# compute mean_previous_sessions\n",
    "train_rdd_4_2_pse = train_rdd_4_2.map(lambda x: (x[0], x[3]))\\\n",
    "                                 .groupByKey()\\\n",
    "                                 .map(lambda x: (x[0], np.mean(list(x[1]))))\n",
    "test_rdd_4_2_pse = test_rdd_4_2.map(lambda x: (x[0], x[3]))\\\n",
    "                               .groupByKey()\\\n",
    "                               .map(lambda x: (x[0], np.mean(list(x[1]))))\n",
    "\n",
    "# user_id_hash & user_created_stamp\n",
    "# compute the unique value for user_created_stamp\n",
    "train_rdd_4_2_ucs = train_rdd_4_2.map(lambda x: (x[0], x[4]))\\\n",
    "                                 .groupByKey()\\\n",
    "                                 .map(lambda x: (x[0], list(set(x[1]))[0]))\n",
    "test_rdd_4_2_ucs = test_rdd_4_2.map(lambda x: (x[0], x[4]))\\\n",
    "                               .groupByKey()\\\n",
    "                               .map(lambda x: (x[0], list(set(x[1]))[0]))\n",
    "\n",
    "# user_id_hash & country\n",
    "# compute the country mode\n",
    "train_rdd_4_2_nat = train_rdd_4_2.map(lambda x: (x[0], x[5]))\\\n",
    "                                 .groupByKey()\\\n",
    "                                 .map(lambda x: (x[0], getMode(list(x[1]))))\n",
    "test_rdd_4_2_nat = test_rdd_4_2.map(lambda x: (x[0], x[5]))\\\n",
    "                               .groupByKey()\\\n",
    "                               .map(lambda x: (x[0], getMode(list(x[1]))))\n",
    "\n",
    "# user_id_hash & os_name\n",
    "# compute the os_name mode\n",
    "train_rdd_4_2_osm = train_rdd_4_2.map(lambda x: (x[0], x[6]))\\\n",
    "                                 .groupByKey()\\\n",
    "                                 .map(lambda x: (x[0], getMode(list(x[1]))))\n",
    "test_rdd_4_2_osm = test_rdd_4_2.map(lambda x: (x[0], x[6]))\\\n",
    "                               .groupByKey()\\\n",
    "                               .map(lambda x: (x[0], getMode(list(x[1]))))\n",
    "\n",
    "# user_id_hash & device_id\n",
    "# compute the unique device_id count\n",
    "train_rdd_4_2_dic = train_rdd_4_2.map(lambda x: (x[0], x[7]))\\\n",
    "                                 .groupByKey()\\\n",
    "                                 .map(lambda x: (x[0], len(set(x[1]))))\n",
    "test_rdd_4_2_dic = test_rdd_4_2.map(lambda x: (x[0], x[7]))\\\n",
    "                               .groupByKey()\\\n",
    "                               .map(lambda x: (x[0], len(set(x[1]))))\n",
    "\n",
    "# user_id_hash & num_events\n",
    "# compute the max num of events\n",
    "train_rdd_4_2_mne = train_rdd_4_2.map(lambda x: (x[0], x[8]))\\\n",
    "                                 .groupByKey()\\\n",
    "                                 .map(lambda x: (x[0], getMax(list(x[1]))))\n",
    "test_rdd_4_2_mne = test_rdd_4_2.map(lambda x: (x[0], x[8]))\\\n",
    "                               .groupByKey()\\\n",
    "                               .map(lambda x: (x[0], getMax(list(x[1]))))\n",
    "\n",
    "# user_id_hash & num_purchase_sum\n",
    "# compute the sum of num_purchase_sum\n",
    "train_rdd_4_2_nps = train_rdd_4_2.map(lambda x: (x[0], x[9]))\\\n",
    "                                 .groupByKey()\\\n",
    "                                 .map(lambda x: (x[0], sum(list(x[1]))))\n",
    "test_rdd_4_2_nps = test_rdd_4_2.map(lambda x: (x[0], x[9]))\\\n",
    "                               .groupByKey()\\\n",
    "                               .map(lambda x: (x[0], sum(list(x[1]))))\n",
    "\n",
    "# user_id_hash & sum_purchase\n",
    "# compute sum of puchase in dollar\n",
    "train_rdd_4_2_spd = train_rdd_4_2.map(lambda x: (x[0], x[13]))\\\n",
    "                                 .groupByKey()\\\n",
    "                                 .map(lambda x: (x[0], sum(list(x[1]))))\n",
    "test_rdd_4_2_spd = test_rdd_4_2.map(lambda x: (x[0], x[13]))\\\n",
    "                               .groupByKey()\\\n",
    "                               .map(lambda x: (x[0], sum(list(x[1]))))"
   ]
  },
  {
   "cell_type": "code",
   "execution_count": 18,
   "metadata": {
    "ExecuteTime": {
     "end_time": "2019-02-19T06:58:56.767276Z",
     "start_time": "2019-02-19T06:58:56.281111Z"
    }
   },
   "outputs": [],
   "source": [
    "# Merge 1\n",
    "train_rdd_merge_1 = train_rdd_4_2_ses.join(train_rdd_4_2_pse)\n",
    "test_rdd_merge_1 = test_rdd_4_2_ses.join(test_rdd_4_2_pse)\n",
    "\n",
    "# Merge 2\n",
    "train_rdd_merge_2 = train_rdd_merge_1.join(train_rdd_4_2_ucs)\\\n",
    "                                     .map(lambda x: (x[0], sum([x[1][0], (x[1][1],)], ())))\n",
    "test_rdd_merge_2 = test_rdd_merge_1.join(test_rdd_4_2_ucs)\\\n",
    "                                   .map(lambda x: (x[0], sum([x[1][0], (x[1][1],)], ())))\n",
    "\n",
    "# Merge 3\n",
    "train_rdd_merge_3 = train_rdd_merge_2.join(train_rdd_4_2_nat)\\\n",
    "                                     .map(lambda x: (x[0], sum([x[1][0], (x[1][1],)], ())))\n",
    "test_rdd_merge_3 = test_rdd_merge_2.join(test_rdd_4_2_nat)\\\n",
    "                                   .map(lambda x: (x[0], sum([x[1][0], (x[1][1],)], ())))\n",
    "\n",
    "# Merge 4\n",
    "train_rdd_merge_4 = train_rdd_merge_3.join(train_rdd_4_2_osm)\\\n",
    "                                     .map(lambda x: (x[0], sum([x[1][0], (x[1][1],)], ())))\n",
    "test_rdd_merge_4 = test_rdd_merge_3.join(test_rdd_4_2_osm)\\\n",
    "                                   .map(lambda x: (x[0], sum([x[1][0], (x[1][1],)], ())))\n",
    "\n",
    "# Merge 5\n",
    "train_rdd_merge_5 = train_rdd_merge_4.join(train_rdd_4_2_dic)\\\n",
    "                                     .map(lambda x: (x[0], sum([x[1][0], (x[1][1],)], ())))\n",
    "test_rdd_merge_5 = test_rdd_merge_4.join(test_rdd_4_2_dic)\\\n",
    "                                   .map(lambda x: (x[0], sum([x[1][0], (x[1][1],)], ())))\n",
    "\n",
    "# Merge 6\n",
    "train_rdd_merge_6 = train_rdd_merge_5.join(train_rdd_4_2_mne)\\\n",
    "                                     .map(lambda x: (x[0], sum([x[1][0], (x[1][1],)], ())))\n",
    "test_rdd_merge_6 = test_rdd_merge_5.join(test_rdd_4_2_mne)\\\n",
    "                                   .map(lambda x: (x[0], sum([x[1][0], (x[1][1],)], ())))\n",
    "\n",
    "# Merge 7\n",
    "train_rdd_merge_7 = train_rdd_merge_6.join(train_rdd_4_2_nps)\\\n",
    "                                     .map(lambda x: (x[0], sum([x[1][0], (x[1][1],)], ())))\n",
    "test_rdd_merge_7 = test_rdd_merge_6.join(test_rdd_4_2_nps)\\\n",
    "                                   .map(lambda x: (x[0], sum([x[1][0], (x[1][1],)], ())))\n",
    "\n",
    "# Merge 8\n",
    "train_rdd_merge_8 = train_rdd_merge_7.join(train_rdd_4_2_spd)\\\n",
    "                                     .map(lambda x: (x[0], sum([x[1][0], (x[1][1],)], ())))\n",
    "test_rdd_merge_8 = test_rdd_merge_7.join(test_rdd_4_2_spd)\\\n",
    "                                   .map(lambda x: (x[0], sum([x[1][0], (x[1][1],)], ())))"
   ]
  },
  {
   "cell_type": "code",
   "execution_count": 19,
   "metadata": {
    "ExecuteTime": {
     "end_time": "2019-02-19T06:58:56.778273Z",
     "start_time": "2019-02-19T06:58:56.771284Z"
    }
   },
   "outputs": [],
   "source": [
    "train_rdd_5 = train_rdd_merge_8.map(lambda x: [x[0], \n",
    "                                               x[1][0], x[1][1], x[1][2], \n",
    "                                               x[1][3], x[1][4], x[1][5], \n",
    "                                               x[1][6], x[1][7], x[1][8]])\n",
    "test_rdd_5 = test_rdd_merge_8.map(lambda x: [x[0], \n",
    "                                             x[1][0], x[1][1], x[1][2], \n",
    "                                             x[1][3], x[1][4], x[1][5], \n",
    "                                             x[1][6], x[1][7], x[1][8]])"
   ]
  },
  {
   "cell_type": "code",
   "execution_count": 20,
   "metadata": {
    "ExecuteTime": {
     "end_time": "2019-02-19T07:03:12.716075Z",
     "start_time": "2019-02-19T06:58:56.782346Z"
    }
   },
   "outputs": [
    {
     "name": "stdout",
     "output_type": "stream",
     "text": [
      "619000\n",
      "[['d6cf11a892144d6d2b5d953a5dba12033b2041655aaf26647f1f253e079f7951', 45, 32649413.6, '2018-10-06 05:05:00', 'US', 'iOS', 1, 63.0, 12.0, 35.616]]\n"
     ]
    }
   ],
   "source": [
    "print(train_rdd_5.count())\n",
    "print(train_rdd_5.take(1))"
   ]
  },
  {
   "cell_type": "code",
   "execution_count": 21,
   "metadata": {
    "ExecuteTime": {
     "end_time": "2019-02-19T07:07:32.707535Z",
     "start_time": "2019-02-19T07:03:12.720244Z"
    }
   },
   "outputs": [
    {
     "name": "stdout",
     "output_type": "stream",
     "text": [
      "619520\n",
      "[['d6cf11a892144d6d2b5d953a5dba12033b2041655aaf26647f1f253e079f7951', 46, 33233953.52173913, '2018-10-06 05:05:00', 'US', 'iOS', 1, 63.0, 12.0, 35.616]]\n"
     ]
    }
   ],
   "source": [
    "print(test_rdd_5.count())\n",
    "print(test_rdd_5.take(1))"
   ]
  },
  {
   "cell_type": "code",
   "execution_count": 22,
   "metadata": {
    "ExecuteTime": {
     "end_time": "2019-02-19T07:07:56.160397Z",
     "start_time": "2019-02-19T07:07:32.711719Z"
    }
   },
   "outputs": [
    {
     "data": {
      "text/plain": [
       "619520"
      ]
     },
     "execution_count": 22,
     "metadata": {},
     "output_type": "execute_result"
    }
   ],
   "source": [
    "test_rdd_4.map(lambda x: x[0]).distinct().count() # Check"
   ]
  },
  {
   "cell_type": "markdown",
   "metadata": {},
   "source": [
    "## Combine Label to Train"
   ]
  },
  {
   "cell_type": "code",
   "execution_count": 39,
   "metadata": {
    "ExecuteTime": {
     "end_time": "2019-02-19T07:15:04.769093Z",
     "start_time": "2019-02-19T07:15:04.760569Z"
    }
   },
   "outputs": [
    {
     "data": {
      "text/plain": [
       "(-1.0, -1.0)"
      ]
     },
     "execution_count": 39,
     "metadata": {},
     "output_type": "execute_result"
    }
   ],
   "source": [
    "# Impute function\n",
    "def npImpute(label):\n",
    "    if label == None:\n",
    "        return (-1.0, -1.0)\n",
    "    return label\n",
    "npImpute(None)"
   ]
  },
  {
   "cell_type": "code",
   "execution_count": 44,
   "metadata": {
    "ExecuteTime": {
     "end_time": "2019-02-19T07:18:07.137361Z",
     "start_time": "2019-02-19T07:18:07.095437Z"
    }
   },
   "outputs": [],
   "source": [
    "train_label_3 = train_label_2.map(lambda x: (x[0], (x[1], x[2])))\n",
    "train_rdd_6 = train_rdd_merge_8.leftOuterJoin(train_label_3)\\\n",
    "                               .map(lambda x: (x[0], (x[1][0], npImpute(x[1][1]))))\\\n",
    "                               .map(lambda x: (x[0], sum([x[1][0], x[1][1]], ())))\\\n",
    "                               .map(lambda x: [x[0], \n",
    "                                               x[1][0], x[1][1], x[1][2], \n",
    "                                               x[1][3], x[1][4], x[1][5], \n",
    "                                               x[1][6], x[1][7], x[1][8],\n",
    "                                               x[1][9], x[1][10]])"
   ]
  },
  {
   "cell_type": "code",
   "execution_count": 45,
   "metadata": {
    "ExecuteTime": {
     "end_time": "2019-02-19T07:18:28.160934Z",
     "start_time": "2019-02-19T07:18:08.533900Z"
    }
   },
   "outputs": [
    {
     "name": "stdout",
     "output_type": "stream",
     "text": [
      "619000\n",
      "[['eb37a43eb25770c442b54a4943c7f9eb17278328dd0499f2957353dc4cb44a7b', 9, 3560204.222222222, '2018-11-15 09:53:20', 'IN', 'Android OS', 1, 84.0, 0.0, 0.0, -1.0, -1.0]]\n"
     ]
    }
   ],
   "source": [
    "print(train_rdd_6.count())\n",
    "print(train_rdd_6.take(1))"
   ]
  },
  {
   "cell_type": "markdown",
   "metadata": {
    "ExecuteTime": {
     "end_time": "2019-02-19T07:20:31.441237Z",
     "start_time": "2019-02-19T07:20:31.430908Z"
    }
   },
   "source": [
    "### Data Dictionary (Training)\n",
    "0 - user_bash_id  \n",
    "1 - number of unique session_id's  \n",
    "2 - mean of previous sessions (in ms)  \n",
    "3 - date the user was created  \n",
    "4 - most frequent country  \n",
    "5 - most frequent os  \n",
    "6 - count of unique device id  \n",
    "7 - max number of events in a session  \n",
    "8 - total number of purchase  \n",
    "9 - total amount of dollar in purchase  \n",
    "10 - label 1: boolean on whether there is a purchase Dec.2 - 8  \n",
    "11 - label 2: boolean on whether there is a purchase Dec.2 - 15  "
   ]
  },
  {
   "cell_type": "code",
   "execution_count": 23,
   "metadata": {
    "ExecuteTime": {
     "end_time": "2019-02-19T07:07:56.167921Z",
     "start_time": "2019-02-19T07:07:56.163374Z"
    }
   },
   "outputs": [],
   "source": [
    "# Save train_rdd_6 as train + label"
   ]
  },
  {
   "cell_type": "markdown",
   "metadata": {},
   "source": [
    "### Data Dictionary (Testing)\n",
    "0 - user_bash_id  \n",
    "1 - number of unique session_id's  \n",
    "2 - mean of previous sessions (in ms)  \n",
    "3 - date the user was created  \n",
    "4 - most frequent country  \n",
    "5 - most frequent os  \n",
    "6 - count of unique device id  \n",
    "7 - max number of events in a session  \n",
    "8 - total number of purchase  \n",
    "9 - total amount of dollar in purchase  "
   ]
  },
  {
   "cell_type": "code",
   "execution_count": 24,
   "metadata": {
    "ExecuteTime": {
     "end_time": "2019-02-19T07:07:56.175161Z",
     "start_time": "2019-02-19T07:07:56.171786Z"
    }
   },
   "outputs": [],
   "source": [
    "# Save test_rdd_5 as test"
   ]
  },
  {
   "cell_type": "code",
   "execution_count": null,
   "metadata": {},
   "outputs": [],
   "source": []
  }
 ],
 "metadata": {
  "kernelspec": {
   "display_name": "Python 2",
   "language": "python",
   "name": "python2"
  },
  "language_info": {
   "codemirror_mode": {
    "name": "ipython",
    "version": 2
   },
   "file_extension": ".py",
   "mimetype": "text/x-python",
   "name": "python",
   "nbconvert_exporter": "python",
   "pygments_lexer": "ipython2",
   "version": "2.7.15"
  }
 },
 "nbformat": 4,
 "nbformat_minor": 2
}
