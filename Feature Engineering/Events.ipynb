{
 "cells": [
  {
   "cell_type": "code",
   "execution_count": 1,
   "metadata": {
    "ExecuteTime": {
     "end_time": "2019-02-18T08:41:57.927367Z",
     "start_time": "2019-02-18T08:41:57.576728Z"
    }
   },
   "outputs": [],
   "source": [
    "import os\n",
    "import numpy as np\n",
    "import timeit\n",
    "import pyspark\n",
    "import pandas as pd\n",
    "import s3fs"
   ]
  },
  {
   "cell_type": "code",
   "execution_count": 2,
   "metadata": {
    "ExecuteTime": {
     "end_time": "2019-02-18T08:41:57.939405Z",
     "start_time": "2019-02-18T08:41:57.931448Z"
    }
   },
   "outputs": [],
   "source": [
    "sc = pyspark.SparkContext.getOrCreate()\n",
    "ss = pyspark.sql.SparkSession.builder.getOrCreate()"
   ]
  },
  {
   "cell_type": "markdown",
   "metadata": {},
   "source": [
    "# Set up the data address book"
   ]
  },
  {
   "cell_type": "code",
   "execution_count": 3,
   "metadata": {
    "ExecuteTime": {
     "end_time": "2019-02-18T08:41:57.964117Z",
     "start_time": "2019-02-18T08:41:57.943822Z"
    }
   },
   "outputs": [
    {
     "data": {
      "text/plain": [
       "{'attributes': 's3a://msds630-kaggle-competition/attributes.csv',\n",
       " 'events': 's3a://msds630-kaggle-competition/events.csv',\n",
       " 'messages': 's3a://msds630-kaggle-competition/messages.csv',\n",
       " 'sessions': 's3a://msds630-kaggle-competition/sessions.csv'}"
      ]
     },
     "execution_count": 3,
     "metadata": {},
     "output_type": "execute_result"
    }
   ],
   "source": [
    "s3_address = \"s3a://msds630-kaggle-competition/\"\n",
    "dataset_addr_book = {}\n",
    "dataset_name_list = [\"events\", \"messages\", \"attributes\", \"sessions\"]\n",
    "for name in dataset_name_list:\n",
    "    dataset_addr_book[name] = \"\".join([s3_address, name, \".csv\"])\n",
    "\n",
    "dataset_addr_book"
   ]
  },
  {
   "cell_type": "markdown",
   "metadata": {},
   "source": [
    "# Load events"
   ]
  },
  {
   "cell_type": "code",
   "execution_count": 4,
   "metadata": {
    "ExecuteTime": {
     "end_time": "2019-02-18T08:42:08.970170Z",
     "start_time": "2019-02-18T08:41:57.967759Z"
    }
   },
   "outputs": [
    {
     "name": "stdout",
     "output_type": "stream",
     "text": [
      "['app_id', 'session_id', 'event', 'event_timestamp', 'event_value', 'user_id_hash']\n",
      "6\n"
     ]
    }
   ],
   "source": [
    "events_rdd = sc.textFile(dataset_addr_book[\"events\"])\\\n",
    "               .map(lambda line : line.encode('ascii', 'ignore'))\n",
    "cols_events = events_rdd.map(lambda x: x.split(',')).take(1)[0]\n",
    "print(cols_events)\n",
    "print(len(cols_events))"
   ]
  },
  {
   "cell_type": "code",
   "execution_count": 5,
   "metadata": {
    "ExecuteTime": {
     "end_time": "2019-02-18T08:42:09.704878Z",
     "start_time": "2019-02-18T08:42:08.974153Z"
    }
   },
   "outputs": [
    {
     "data": {
      "text/plain": [
       "[['4724682771660800',\n",
       "  '5558845121177764917',\n",
       "  '45',\n",
       "  '1542215397132',\n",
       "  '0.0',\n",
       "  '9943447915df3a45fd6720a026af905b6da6b56a37701b8b2629802e9a541006']]"
      ]
     },
     "execution_count": 5,
     "metadata": {},
     "output_type": "execute_result"
    }
   ],
   "source": [
    "events_data = events_rdd.filter(lambda x: 'app_id' not in x)\\\n",
    "                        .map(lambda x: x.split(','))\n",
    "events_data.take(1)"
   ]
  },
  {
   "cell_type": "code",
   "execution_count": 6,
   "metadata": {
    "ExecuteTime": {
     "end_time": "2019-02-18T08:42:09.717717Z",
     "start_time": "2019-02-18T08:42:09.708845Z"
    }
   },
   "outputs": [
    {
     "data": {
      "text/plain": [
       "['session_id',\n",
       " 'event',\n",
       " 'event_timestamp',\n",
       " 'event_value',\n",
       " 'user_id_hash',\n",
       " 'is_purchase']"
      ]
     },
     "execution_count": 6,
     "metadata": {},
     "output_type": "execute_result"
    }
   ],
   "source": [
    "cols_events_adj = cols_events[1:] # Drop app_id\n",
    "cols_events_adj.append('is_purchase')\n",
    "cols_events_adj"
   ]
  },
  {
   "cell_type": "code",
   "execution_count": 7,
   "metadata": {
    "ExecuteTime": {
     "end_time": "2019-02-18T08:42:10.406960Z",
     "start_time": "2019-02-18T08:42:09.721570Z"
    }
   },
   "outputs": [
    {
     "data": {
      "text/plain": [
       "[['5558845121177764917',\n",
       "  '45',\n",
       "  '1542215397132',\n",
       "  '0.0',\n",
       "  '9943447915df3a45fd6720a026af905b6da6b56a37701b8b2629802e9a541006']]"
      ]
     },
     "execution_count": 7,
     "metadata": {},
     "output_type": "execute_result"
    }
   ],
   "source": [
    "events_data_adj = events_data.map(lambda x: x[1:]) # Drop app_id\n",
    "events_data_adj.take(1)"
   ]
  },
  {
   "cell_type": "code",
   "execution_count": 8,
   "metadata": {
    "ExecuteTime": {
     "end_time": "2019-02-18T08:42:10.417479Z",
     "start_time": "2019-02-18T08:42:10.410941Z"
    }
   },
   "outputs": [
    {
     "name": "stdout",
     "output_type": "stream",
     "text": [
      "1.0\n",
      "-1.0\n"
     ]
    }
   ],
   "source": [
    "def isPurchase(event):\n",
    "    if event == '8':\n",
    "        return 1.0\n",
    "    else:\n",
    "        return -1.0\n",
    "\n",
    "# Test\n",
    "print(isPurchase('8'))\n",
    "print(isPurchase('9'))"
   ]
  },
  {
   "cell_type": "code",
   "execution_count": 9,
   "metadata": {
    "ExecuteTime": {
     "end_time": "2019-02-18T08:42:10.429297Z",
     "start_time": "2019-02-18T08:42:10.421281Z"
    }
   },
   "outputs": [
    {
     "data": {
      "text/plain": [
       "['session_id',\n",
       " 'event',\n",
       " 'event_timestamp',\n",
       " 'event_value',\n",
       " 'user_id_hash',\n",
       " 'is_purchase']"
      ]
     },
     "execution_count": 9,
     "metadata": {},
     "output_type": "execute_result"
    }
   ],
   "source": [
    "cols_events_adj"
   ]
  },
  {
   "cell_type": "code",
   "execution_count": 10,
   "metadata": {
    "ExecuteTime": {
     "end_time": "2019-02-18T08:42:11.113587Z",
     "start_time": "2019-02-18T08:42:10.433294Z"
    }
   },
   "outputs": [
    {
     "data": {
      "text/plain": [
       "[['5558845121177764917',\n",
       "  '45',\n",
       "  '1542215397132',\n",
       "  '0.0',\n",
       "  '9943447915df3a45fd6720a026af905b6da6b56a37701b8b2629802e9a541006',\n",
       "  -1.0]]"
      ]
     },
     "execution_count": 10,
     "metadata": {},
     "output_type": "execute_result"
    }
   ],
   "source": [
    "# Add is_purchase\n",
    "events_data_adj = events_data_adj.map(lambda x: [x[0], x[1], x[2], x[3], x[4], isPurchase(x[1])])\n",
    "events_data_adj.take(1)"
   ]
  },
  {
   "cell_type": "code",
   "execution_count": 11,
   "metadata": {
    "ExecuteTime": {
     "end_time": "2019-02-18T08:51:07.278979Z",
     "start_time": "2019-02-18T08:42:11.117963Z"
    }
   },
   "outputs": [
    {
     "data": {
      "text/plain": [
       "[('1538377204526',\n",
       "  ['4339488202460077611',\n",
       "   '.a5027911885258752',\n",
       "   '1538377204526',\n",
       "   '0.0',\n",
       "   'c9bad12f865142f1b3938c9ab8a3003a7882136a2b4a121c2a20008cf44ed91e',\n",
       "   -1.0]),\n",
       " ('1538377204526',\n",
       "  ['4339488202460077611',\n",
       "   '.a5061295285075968',\n",
       "   '1538377204526',\n",
       "   '0.0',\n",
       "   'c9bad12f865142f1b3938c9ab8a3003a7882136a2b4a121c2a20008cf44ed91e',\n",
       "   -1.0])]"
      ]
     },
     "execution_count": 11,
     "metadata": {},
     "output_type": "execute_result"
    }
   ],
   "source": [
    "events_data_adj_tsAsKey = events_data_adj.map(lambda x: (x[2], x)).sortByKey()\n",
    "events_data_adj_tsAsKey.take(2)"
   ]
  },
  {
   "cell_type": "code",
   "execution_count": 12,
   "metadata": {
    "ExecuteTime": {
     "end_time": "2019-02-18T08:51:07.286784Z",
     "start_time": "2019-02-18T08:51:07.281889Z"
    }
   },
   "outputs": [],
   "source": [
    "events_data_adj2 = events_data_adj_tsAsKey.values()"
   ]
  },
  {
   "cell_type": "code",
   "execution_count": 13,
   "metadata": {
    "ExecuteTime": {
     "end_time": "2019-02-18T08:51:07.297700Z",
     "start_time": "2019-02-18T08:51:07.290520Z"
    }
   },
   "outputs": [
    {
     "data": {
      "text/plain": [
       "['session_id',\n",
       " 'event',\n",
       " 'event_timestamp',\n",
       " 'event_value',\n",
       " 'user_id_hash',\n",
       " 'is_purchase']"
      ]
     },
     "execution_count": 13,
     "metadata": {},
     "output_type": "execute_result"
    }
   ],
   "source": [
    "cols_events_adj"
   ]
  },
  {
   "cell_type": "code",
   "execution_count": 14,
   "metadata": {
    "ExecuteTime": {
     "end_time": "2019-02-18T08:51:07.399223Z",
     "start_time": "2019-02-18T08:51:07.309407Z"
    }
   },
   "outputs": [],
   "source": [
    "temp_pair_dict = {}\n",
    "for i in range(6):\n",
    "    if i != 0:\n",
    "        temp_pair = events_data_adj2.map(lambda x: (x[0], x[i]))\\\n",
    "                                    .groupByKey().map(lambda x: [x[0], list(x[1])])\n",
    "        temp_pair_dict[i] = temp_pair"
   ]
  },
  {
   "cell_type": "code",
   "execution_count": 15,
   "metadata": {
    "ExecuteTime": {
     "end_time": "2019-02-18T08:51:15.992090Z",
     "start_time": "2019-02-18T08:51:15.834244Z"
    }
   },
   "outputs": [],
   "source": [
    "events_data_adj3 = temp_pair_dict[1]\n",
    "events_data_adj3 = events_data_adj3.leftOuterJoin(temp_pair_dict[2]).map(lambda x: (x[0], list(x[1])))\n",
    "events_data_adj3 = events_data_adj3.leftOuterJoin(temp_pair_dict[3]).map(lambda x: (x[0], list(x[1])))\\\n",
    "                                                                      .map(lambda x: (x[0], [x[1][0][0],\n",
    "                                                                                              x[1][0][1],\n",
    "                                                                                              x[1][1]]))\n",
    "events_data_adj3 = events_data_adj3.leftOuterJoin(temp_pair_dict[4]).map(lambda x: (x[0], list(x[1])))\\\n",
    "                                                                      .map(lambda x: (x[0], [x[1][0][0],\n",
    "                                                                                              x[1][0][1],\n",
    "                                                                                              x[1][0][2],\n",
    "                                                                                              x[1][1]]))\n",
    "events_data_adj3 = events_data_adj3.leftOuterJoin(temp_pair_dict[5]).map(lambda x: (x[0], list(x[1])))\\\n",
    "                                                                      .map(lambda x: (x[0], [x[1][0][0],\n",
    "                                                                                              x[1][0][1],\n",
    "                                                                                              x[1][0][2],\n",
    "                                                                                              x[1][0][3],\n",
    "                                                                                              x[1][1]]))\n",
    "# for i in range(4):\n",
    "#     a = i+2\n",
    "#     new_events_sample = new_events_sample.leftOuterJoin(temp_pair_dict[a]).map(lambda x: (x[0], list(x[1])))\n",
    "#     new_events_sample = new_events_sample.map(lambda x: (x[0], [x[1][0][0],x[1][0][1],x[1][1]]))\n",
    "#events_data_adj3.take(1)"
   ]
  },
  {
   "cell_type": "code",
   "execution_count": 16,
   "metadata": {
    "ExecuteTime": {
     "end_time": "2019-02-18T08:51:18.171119Z",
     "start_time": "2019-02-18T08:51:18.165005Z"
    }
   },
   "outputs": [],
   "source": [
    "event_data_adj4 = events_data_adj3.map(lambda x: [x[0], x[1][0], x[1][1], x[1][2], x[1][3], x[1][4]])\n",
    "#event_data_adj4.take(1)"
   ]
  },
  {
   "cell_type": "code",
   "execution_count": 17,
   "metadata": {
    "ExecuteTime": {
     "end_time": "2019-02-18T08:51:18.871100Z",
     "start_time": "2019-02-18T08:51:18.866069Z"
    }
   },
   "outputs": [],
   "source": [
    "# Test user_id\n",
    "# event_data_adj4.map(lambda x: (len(set(x[4])), 1))\\\n",
    "#                .reduceByKey(lambda x,y: x + y).collect()"
   ]
  },
  {
   "cell_type": "code",
   "execution_count": 18,
   "metadata": {
    "ExecuteTime": {
     "end_time": "2019-02-18T08:51:19.159768Z",
     "start_time": "2019-02-18T08:51:19.152890Z"
    }
   },
   "outputs": [
    {
     "name": "stdout",
     "output_type": "stream",
     "text": [
      "-1.0\n",
      "1.0\n"
     ]
    }
   ],
   "source": [
    "def find_purchase(x):\n",
    "    if 1.0 in x:\n",
    "        return 1.0\n",
    "    else:\n",
    "        return -1.0\n",
    "\n",
    "# Test\n",
    "print(find_purchase([-1.0, -1.0]))\n",
    "print(find_purchase([-1.0, 1.0]))"
   ]
  },
  {
   "cell_type": "code",
   "execution_count": null,
   "metadata": {
    "ExecuteTime": {
     "start_time": "2019-02-18T08:24:33.832Z"
    }
   },
   "outputs": [],
   "source": [
    "# event_data_adj5 = event_data_adj4.map(lambda x: [x[0], ' | '.join(x[1]), ' | '.join(x[2]), \n",
    "#                                                  ' | '.join(x[3]), \n",
    "#                                                  list(set(x[4]))[0], find_purchase(x[5])])\n",
    "# event_data_adj5.take(1)                                                  "
   ]
  },
  {
   "cell_type": "code",
   "execution_count": 19,
   "metadata": {
    "ExecuteTime": {
     "end_time": "2019-02-18T09:06:22.402387Z",
     "start_time": "2019-02-18T08:51:32.753357Z"
    }
   },
   "outputs": [
    {
     "data": {
      "text/plain": [
       "[['7310395194373542287',\n",
       "  '45 | 1 | 1 | 45 | 45 | 45 | 45 | 45 | 45 | 45 | 45 | 45 | 45 | 4 | 6 | 40 | 41 | 3 | 42 | 5 | 45 | 45 | 45 | 45 | 45 | 45 | 45 | 45 | 45 | 45 | 45 | 45 | 45 | 4 | 6 | 40 | 41 | 3 | 42 | 5 | 14 | 45 | 45 | 45 | 45 | 45 | 45 | 45 | 45 | 45 | 45 | 45 | 45 | 45 | 45 | 45 | 45 | 4 | 6 | 40 | 41 | 3 | 42 | 1 | 1 | 1 | 5 | 45 | 14 | 14 | 14 | 45 | 45 | 45 | 45 | 45 | 45 | 45 | 45 | 45 | 45 | 45 | 45 | 45 | 45 | 45 | 45 | 45 | 45 | 45 | 45 | 45 | 45 | 45 | 45 | 45 | 45 | 6 | 1 | 7 | 45 | 45 | 45 | 4 | 6 | 40',\n",
       "  '1541982498725 | 1541982505748 | 1541982543234 | 1541982672782 | 1541982714271 | 1541982865076 | 1541982869743 | 1541982875827 | 1541982897260 | 1541982900296 | 1541982904079 | 1541982976633 | 1541983010238 | 1541983026018 | 1541983028092 | 1541983035992 | 1541983037648 | 1541983060490 | 1541983061675 | 1541983071037 | 1541983134614 | 1541983178585 | 1541983276942 | 1541983354028 | 1541983431176 | 1541983505980 | 1541983590638 | 1541983653488 | 1541983735357 | 1541983754143 | 1541983763693 | 1541983798747 | 1541983883054 | 1541983917393 | 1541983918993 | 1541983925993 | 1541983927225 | 1541983949307 | 1541983951672 | 1541983960015 | 1541983995079 | 1541984027313 | 1541984067632 | 1541984106004 | 1541984175441 | 1541984257201 | 1541984315536 | 1541984535820 | 1541984593575 | 1541984658545 | 1541984690048 | 1541984752216 | 1541984831324 | 1541984861689 | 1541984897245 | 1541985080944 | 1541985135931 | 1541985150988 | 1541985152965 | 1541985160172 | 1541985161896 | 1541985182763 | 1541985183952 | 1541985191976 | 1541985194945 | 1541985206522 | 1541985210176 | 1541985222720 | 1541985248872 | 1541985273090 | 1541985282074 | 1541985287958 | 1541985373482 | 1541985387965 | 1541985394516 | 1541985495240 | 1541985565179 | 1541985579613 | 1541985585380 | 1541985593147 | 1541985596964 | 1541985602565 | 1541985606664 | 1541985612865 | 1541985616682 | 1541985623766 | 1541985627783 | 1541985636717 | 1541985643050 | 1541985666819 | 1541985677886 | 1541985774820 | 1541985807428 | 1541985871798 | 1541985896766 | 1541985935735 | 1541985958255 | 1541985965906 | 1541985974893 | 1541985980537 | 1541985980541 | 1541986040961 | 1541986116059 | 1541986155615 | 1541986158045 | 1541986166779',\n",
       "  '0.0 | 0.0 | 0.0 | 0.0 | 0.0 | 0.0 | 0.0 | 0.0 | 0.0 | 0.0 | 0.0 | 0.0 | 0.0 | 0.0 | 0.0 | 0.0 | 0.0 | 0.0 | 0.0 | 1.0 | 0.0 | 0.0 | 0.0 | 0.0 | 0.0 | 0.0 | 0.0 | 0.0 | 0.0 | 0.0 | 0.0 | 0.0 | 0.0 | 0.0 | 0.0 | 0.0 | 0.0 | 0.0 | 0.0 | 1.0 | 0.0 | 0.0 | 0.0 | 0.0 | 0.0 | 0.0 | 0.0 | 0.0 | 0.0 | 0.0 | 0.0 | 0.0 | 0.0 | 0.0 | 0.0 | 0.0 | 0.0 | 0.0 | 0.0 | 0.0 | 0.0 | 0.0 | 0.0 | 0.0 | 0.0 | 0.0 | 0.0 | 0.0 | 0.0 | 0.0 | 0.0 | 0.0 | 0.0 | 0.0 | 0.0 | 0.0 | 0.0 | 0.0 | 0.0 | 0.0 | 0.0 | 0.0 | 0.0 | 0.0 | 0.0 | 0.0 | 0.0 | 0.0 | 0.0 | 0.0 | 0.0 | 0.0 | 0.0 | 0.0 | 0.0 | 0.0 | 0.0 | 0.0 | 0.0 | 17.0 | 0.0 | 0.0 | 0.0 | 0.0 | 0.0 | 0.0',\n",
       "  -1.0],\n",
       " ['3085042798612919422', '45', '1541638424150', '0.0', -1.0],\n",
       " ['5628655940768457301',\n",
       "  '1 | 5 | 45 | 45 | 45 | 45 | 45 | 45 | 45 | 45 | 45 | 45 | 45 | 45 | 7 | 45 | 45 | 45 | 45 | 45 | 45 | 45 | 6',\n",
       "  '1541945287766 | 1541945292640 | 1541945354557 | 1541945368253 | 1541945376854 | 1541945380620 | 1541945404321 | 1541945447487 | 1541945475622 | 1541945551439 | 1541945726508 | 1541945769533 | 1541945797161 | 1541945853945 | 1541945987074 | 1541945987080 | 1541946061199 | 1541946208061 | 1541946255461 | 1541946391481 | 1541946481116 | 1541946547500 | 1541946683597',\n",
       "  '0.0 | 0.0 | 0.0 | 0.0 | 0.0 | 0.0 | 0.0 | 0.0 | 0.0 | 0.0 | 0.0 | 0.0 | 0.0 | 0.0 | 12.0 | 0.0 | 0.0 | 0.0 | 0.0 | 0.0 | 0.0 | 0.0 | 0.0',\n",
       "  -1.0]]"
      ]
     },
     "execution_count": 19,
     "metadata": {},
     "output_type": "execute_result"
    }
   ],
   "source": [
    "event_data_adj5 = event_data_adj4.map(lambda x: [x[0], ' | '.join(x[1]), ' | '.join(x[2]), \n",
    "                                                 ' | '.join(x[3]), find_purchase(x[5])])\n",
    "event_data_adj5.take(3)                                                  "
   ]
  },
  {
   "cell_type": "code",
   "execution_count": 20,
   "metadata": {
    "ExecuteTime": {
     "end_time": "2019-02-18T10:55:27.367480Z",
     "start_time": "2019-02-18T09:06:49.857392Z"
    }
   },
   "outputs": [],
   "source": [
    "# event_data_adj5.coalesce(1).saveAsTextFile(\"s3a://msds630-kaggle-competition/events_adj.csv\")\n",
    "event_data_adj5.saveAsTextFile(\"s3a://msds630-kaggle-competition/events_adj_mn.csv\")"
   ]
  },
  {
   "cell_type": "code",
   "execution_count": null,
   "metadata": {},
   "outputs": [],
   "source": []
  },
  {
   "cell_type": "code",
   "execution_count": 63,
   "metadata": {
    "ExecuteTime": {
     "end_time": "2019-02-18T04:52:58.465417Z",
     "start_time": "2019-02-18T04:52:51.500999Z"
    }
   },
   "outputs": [
    {
     "data": {
      "text/plain": [
       "[['4339488202460077611',\n",
       "  '.a5027911885258752',\n",
       "  '1538377204526',\n",
       "  '0.0',\n",
       "  'c9bad12f865142f1b3938c9ab8a3003a7882136a2b4a121c2a20008cf44ed91e',\n",
       "  -1.0],\n",
       " ['4339488202460077611',\n",
       "  '.a5061295285075968',\n",
       "  '1538377204526',\n",
       "  '0.0',\n",
       "  'c9bad12f865142f1b3938c9ab8a3003a7882136a2b4a121c2a20008cf44ed91e',\n",
       "  -1.0],\n",
       " ['7012480646309837595',\n",
       "  '.a5027911885258752',\n",
       "  '1538377208476',\n",
       "  '0.0',\n",
       "  '285863e47df26bf47664c93d45c35ee3b9cfc8e253da23760fdbeacb2ba140ee',\n",
       "  -1.0],\n",
       " ['7012480646309837595',\n",
       "  '44',\n",
       "  '1538377240514',\n",
       "  '0.0',\n",
       "  '285863e47df26bf47664c93d45c35ee3b9cfc8e253da23760fdbeacb2ba140ee',\n",
       "  -1.0],\n",
       " ['7012480646309837595',\n",
       "  '5',\n",
       "  '1538377242744',\n",
       "  '0.0',\n",
       "  '285863e47df26bf47664c93d45c35ee3b9cfc8e253da23760fdbeacb2ba140ee',\n",
       "  -1.0],\n",
       " ['7012480646309837595',\n",
       "  '45',\n",
       "  '1538377266395',\n",
       "  '0.0',\n",
       "  '285863e47df26bf47664c93d45c35ee3b9cfc8e253da23760fdbeacb2ba140ee',\n",
       "  -1.0],\n",
       " ['8483277250870486701',\n",
       "  '.a5027911885258752',\n",
       "  '1538377290694',\n",
       "  '0.0',\n",
       "  '4bc7b52d56b24d258ba1746994492f354fd4b17fcaae81598fecba58cb108e8d',\n",
       "  -1.0],\n",
       " ['8483277250870486701',\n",
       "  '.a5516611293544448',\n",
       "  '1538377290694',\n",
       "  '0.0',\n",
       "  '4bc7b52d56b24d258ba1746994492f354fd4b17fcaae81598fecba58cb108e8d',\n",
       "  -1.0],\n",
       " ['7012480646309837595',\n",
       "  '14',\n",
       "  '1538377304065',\n",
       "  '0.0',\n",
       "  '285863e47df26bf47664c93d45c35ee3b9cfc8e253da23760fdbeacb2ba140ee',\n",
       "  -1.0],\n",
       " ['4339488202460077611',\n",
       "  '44',\n",
       "  '1538377314780',\n",
       "  '0.0',\n",
       "  'c9bad12f865142f1b3938c9ab8a3003a7882136a2b4a121c2a20008cf44ed91e',\n",
       "  -1.0],\n",
       " ['8483277250870486701',\n",
       "  '44',\n",
       "  '1538377316536',\n",
       "  '0.0',\n",
       "  '4bc7b52d56b24d258ba1746994492f354fd4b17fcaae81598fecba58cb108e8d',\n",
       "  -1.0],\n",
       " ['4339488202460077611',\n",
       "  '5',\n",
       "  '1538377317525',\n",
       "  '0.0',\n",
       "  'c9bad12f865142f1b3938c9ab8a3003a7882136a2b4a121c2a20008cf44ed91e',\n",
       "  -1.0],\n",
       " ['8483277250870486701',\n",
       "  '5',\n",
       "  '1538377317702',\n",
       "  '0.0',\n",
       "  '4bc7b52d56b24d258ba1746994492f354fd4b17fcaae81598fecba58cb108e8d',\n",
       "  -1.0],\n",
       " ['7012480646309837595',\n",
       "  '14',\n",
       "  '1538377320349',\n",
       "  '0.0',\n",
       "  '285863e47df26bf47664c93d45c35ee3b9cfc8e253da23760fdbeacb2ba140ee',\n",
       "  -1.0],\n",
       " ['2920311224184894615',\n",
       "  '45',\n",
       "  '1538377326564',\n",
       "  '0.0',\n",
       "  '475f8f20576637055c5331513dda4db1d889f5e951c8e5f62f718a7fd871bd7b',\n",
       "  -1.0],\n",
       " ['8114762104527844914',\n",
       "  '11',\n",
       "  '1538377330697',\n",
       "  '5.0',\n",
       "  '82349b0d1a80b42e59519068ded46178778084b9602b9c2edcd4cd0f94941733',\n",
       "  -1.0],\n",
       " ['8114762104527844914',\n",
       "  '4',\n",
       "  '1538377332486',\n",
       "  '0.0',\n",
       "  '82349b0d1a80b42e59519068ded46178778084b9602b9c2edcd4cd0f94941733',\n",
       "  -1.0],\n",
       " ['8114762104527844914',\n",
       "  '6',\n",
       "  '1538377338829',\n",
       "  '0.0',\n",
       "  '82349b0d1a80b42e59519068ded46178778084b9602b9c2edcd4cd0f94941733',\n",
       "  -1.0],\n",
       " ['8483277250870486701',\n",
       "  '45',\n",
       "  '1538377341844',\n",
       "  '0.0',\n",
       "  '4bc7b52d56b24d258ba1746994492f354fd4b17fcaae81598fecba58cb108e8d',\n",
       "  -1.0],\n",
       " ['8114762104527844914',\n",
       "  '40',\n",
       "  '1538377345657',\n",
       "  '0.0',\n",
       "  '82349b0d1a80b42e59519068ded46178778084b9602b9c2edcd4cd0f94941733',\n",
       "  -1.0]]"
      ]
     },
     "execution_count": 63,
     "metadata": {},
     "output_type": "execute_result"
    }
   ],
   "source": [
    "# experiment\n",
    "events_sample = sc.parallelize(events_data_adj2.take(20))\n",
    "events_sample.collect()"
   ]
  },
  {
   "cell_type": "code",
   "execution_count": 88,
   "metadata": {
    "ExecuteTime": {
     "end_time": "2019-02-18T05:14:15.349350Z",
     "start_time": "2019-02-18T05:14:09.047227Z"
    }
   },
   "outputs": [
    {
     "name": "stdout",
     "output_type": "stream",
     "text": [
      "[['7012480646309837595', ['.a5027911885258752', '44', '5', '45', '14', '14']]]\n",
      "[['7012480646309837595', ['1538377208476', '1538377240514', '1538377242744', '1538377266395', '1538377304065', '1538377320349']]]\n",
      "[['7012480646309837595', ['0.0', '0.0', '0.0', '0.0', '0.0', '0.0']]]\n",
      "[['7012480646309837595', ['285863e47df26bf47664c93d45c35ee3b9cfc8e253da23760fdbeacb2ba140ee', '285863e47df26bf47664c93d45c35ee3b9cfc8e253da23760fdbeacb2ba140ee', '285863e47df26bf47664c93d45c35ee3b9cfc8e253da23760fdbeacb2ba140ee', '285863e47df26bf47664c93d45c35ee3b9cfc8e253da23760fdbeacb2ba140ee', '285863e47df26bf47664c93d45c35ee3b9cfc8e253da23760fdbeacb2ba140ee', '285863e47df26bf47664c93d45c35ee3b9cfc8e253da23760fdbeacb2ba140ee']]]\n",
      "[['7012480646309837595', [-1.0, -1.0, -1.0, -1.0, -1.0, -1.0]]]\n"
     ]
    }
   ],
   "source": [
    "temp_pair_dict = {}\n",
    "for i in range(6):\n",
    "    if i != 0:\n",
    "        temp_pair = events_sample.map(lambda x: (x[0], x[i]))\\\n",
    "                                 .groupByKey().map(lambda x: [x[0], list(x[1])])\n",
    "        temp_pair_dict[i] = temp_pair\n",
    "        print(temp_pair.take(1))"
   ]
  },
  {
   "cell_type": "code",
   "execution_count": 113,
   "metadata": {
    "ExecuteTime": {
     "end_time": "2019-02-18T05:31:37.792542Z",
     "start_time": "2019-02-18T05:31:36.919692Z"
    }
   },
   "outputs": [
    {
     "data": {
      "text/plain": [
       "[('2920311224184894615',\n",
       "  [['45'],\n",
       "   ['1538377326564'],\n",
       "   ['0.0'],\n",
       "   ['475f8f20576637055c5331513dda4db1d889f5e951c8e5f62f718a7fd871bd7b'],\n",
       "   [-1.0]]),\n",
       " ('4339488202460077611',\n",
       "  [['.a5027911885258752', '.a5061295285075968', '44', '5'],\n",
       "   ['1538377204526', '1538377204526', '1538377314780', '1538377317525'],\n",
       "   ['0.0', '0.0', '0.0', '0.0'],\n",
       "   ['c9bad12f865142f1b3938c9ab8a3003a7882136a2b4a121c2a20008cf44ed91e',\n",
       "    'c9bad12f865142f1b3938c9ab8a3003a7882136a2b4a121c2a20008cf44ed91e',\n",
       "    'c9bad12f865142f1b3938c9ab8a3003a7882136a2b4a121c2a20008cf44ed91e',\n",
       "    'c9bad12f865142f1b3938c9ab8a3003a7882136a2b4a121c2a20008cf44ed91e'],\n",
       "   [-1.0, -1.0, -1.0, -1.0]]),\n",
       " ('8114762104527844914',\n",
       "  [['11', '4', '6', '40'],\n",
       "   ['1538377330697', '1538377332486', '1538377338829', '1538377345657'],\n",
       "   ['5.0', '0.0', '0.0', '0.0'],\n",
       "   ['82349b0d1a80b42e59519068ded46178778084b9602b9c2edcd4cd0f94941733',\n",
       "    '82349b0d1a80b42e59519068ded46178778084b9602b9c2edcd4cd0f94941733',\n",
       "    '82349b0d1a80b42e59519068ded46178778084b9602b9c2edcd4cd0f94941733',\n",
       "    '82349b0d1a80b42e59519068ded46178778084b9602b9c2edcd4cd0f94941733'],\n",
       "   [-1.0, -1.0, -1.0, -1.0]]),\n",
       " ('8483277250870486701',\n",
       "  [['.a5027911885258752', '.a5516611293544448', '44', '5', '45'],\n",
       "   ['1538377290694',\n",
       "    '1538377290694',\n",
       "    '1538377316536',\n",
       "    '1538377317702',\n",
       "    '1538377341844'],\n",
       "   ['0.0', '0.0', '0.0', '0.0', '0.0'],\n",
       "   ['4bc7b52d56b24d258ba1746994492f354fd4b17fcaae81598fecba58cb108e8d',\n",
       "    '4bc7b52d56b24d258ba1746994492f354fd4b17fcaae81598fecba58cb108e8d',\n",
       "    '4bc7b52d56b24d258ba1746994492f354fd4b17fcaae81598fecba58cb108e8d',\n",
       "    '4bc7b52d56b24d258ba1746994492f354fd4b17fcaae81598fecba58cb108e8d',\n",
       "    '4bc7b52d56b24d258ba1746994492f354fd4b17fcaae81598fecba58cb108e8d'],\n",
       "   [-1.0, -1.0, -1.0, -1.0, -1.0]]),\n",
       " ('7012480646309837595',\n",
       "  [['.a5027911885258752', '44', '5', '45', '14', '14'],\n",
       "   ['1538377208476',\n",
       "    '1538377240514',\n",
       "    '1538377242744',\n",
       "    '1538377266395',\n",
       "    '1538377304065',\n",
       "    '1538377320349'],\n",
       "   ['0.0', '0.0', '0.0', '0.0', '0.0', '0.0'],\n",
       "   ['285863e47df26bf47664c93d45c35ee3b9cfc8e253da23760fdbeacb2ba140ee',\n",
       "    '285863e47df26bf47664c93d45c35ee3b9cfc8e253da23760fdbeacb2ba140ee',\n",
       "    '285863e47df26bf47664c93d45c35ee3b9cfc8e253da23760fdbeacb2ba140ee',\n",
       "    '285863e47df26bf47664c93d45c35ee3b9cfc8e253da23760fdbeacb2ba140ee',\n",
       "    '285863e47df26bf47664c93d45c35ee3b9cfc8e253da23760fdbeacb2ba140ee',\n",
       "    '285863e47df26bf47664c93d45c35ee3b9cfc8e253da23760fdbeacb2ba140ee'],\n",
       "   [-1.0, -1.0, -1.0, -1.0, -1.0, -1.0]])]"
      ]
     },
     "execution_count": 113,
     "metadata": {},
     "output_type": "execute_result"
    }
   ],
   "source": [
    "new_events_sample = temp_pair_dict[1]\n",
    "new_events_sample = new_events_sample.leftOuterJoin(temp_pair_dict[2]).map(lambda x: (x[0], list(x[1])))\n",
    "new_events_sample = new_events_sample.leftOuterJoin(temp_pair_dict[3]).map(lambda x: (x[0], list(x[1])))\\\n",
    "                                                                      .map(lambda x: (x[0], [x[1][0][0],\n",
    "                                                                                              x[1][0][1],\n",
    "                                                                                              x[1][1]]))\n",
    "new_events_sample = new_events_sample.leftOuterJoin(temp_pair_dict[4]).map(lambda x: (x[0], list(x[1])))\\\n",
    "                                                                      .map(lambda x: (x[0], [x[1][0][0],\n",
    "                                                                                              x[1][0][1],\n",
    "                                                                                              x[1][0][2],\n",
    "                                                                                              x[1][1]]))\n",
    "new_events_sample = new_events_sample.leftOuterJoin(temp_pair_dict[5]).map(lambda x: (x[0], list(x[1])))\\\n",
    "                                                                      .map(lambda x: (x[0], [x[1][0][0],\n",
    "                                                                                              x[1][0][1],\n",
    "                                                                                              x[1][0][2],\n",
    "                                                                                              x[1][0][3],\n",
    "                                                                                              x[1][1]]))\n",
    "# for i in range(4):\n",
    "#     a = i+2\n",
    "#     new_events_sample = new_events_sample.leftOuterJoin(temp_pair_dict[a]).map(lambda x: (x[0], list(x[1])))\n",
    "#     new_events_sample = new_events_sample.map(lambda x: (x[0], [x[1][0][0],x[1][0][1],x[1][1]]))\n",
    "new_events_sample.collect()"
   ]
  },
  {
   "cell_type": "code",
   "execution_count": null,
   "metadata": {},
   "outputs": [],
   "source": []
  }
 ],
 "metadata": {
  "kernelspec": {
   "display_name": "Python 3",
   "language": "python",
   "name": "python3"
  },
  "language_info": {
   "codemirror_mode": {
    "name": "ipython",
    "version": 3
   },
   "file_extension": ".py",
   "mimetype": "text/x-python",
   "name": "python",
   "nbconvert_exporter": "python",
   "pygments_lexer": "ipython3",
   "version": "3.6.6"
  }
 },
 "nbformat": 4,
 "nbformat_minor": 2
}
