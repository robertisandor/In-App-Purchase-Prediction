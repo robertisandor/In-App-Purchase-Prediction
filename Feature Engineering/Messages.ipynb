{
 "cells": [
  {
   "cell_type": "code",
   "execution_count": 1,
   "metadata": {},
   "outputs": [],
   "source": [
    "import os\n",
    "import boto3 \n",
    "import json\n",
    "\n",
    "from pyspark import SparkContext\n",
    "from pyspark.sql import SparkSession\n",
    "from pyspark.sql.types import *\n",
    "\n",
    "import pandas as pd\n",
    "import numpy as np\n",
    "import s3fs"
   ]
  },
  {
   "cell_type": "code",
   "execution_count": 2,
   "metadata": {},
   "outputs": [],
   "source": [
    "sc = SparkContext()\n",
    "ss = SparkSession.builder.getOrCreate()"
   ]
  },
  {
   "cell_type": "code",
   "execution_count": 3,
   "metadata": {},
   "outputs": [
    {
     "data": {
      "text/plain": [
       "['attributes.csv', 'events.csv', 'messages.csv', 'sessions.csv']"
      ]
     },
     "execution_count": 3,
     "metadata": {},
     "output_type": "execute_result"
    }
   ],
   "source": [
    "files = ! aws s3api list-objects --bucket msds630-kaggle-competition\n",
    "files = [f.split()[1][1:-2] for f in files.get_list() if \".csv\" in f]\n",
    "files # files in the bucket"
   ]
  },
  {
   "cell_type": "markdown",
   "metadata": {},
   "source": [
    "### Cleaning "
   ]
  },
  {
   "cell_type": "code",
   "execution_count": 129,
   "metadata": {},
   "outputs": [],
   "source": [
    "types = {\"app_id\": np.uint64,\n",
    "         \"message_id\": np.uint64,\n",
    "         \"action_type\": \"category\",\n",
    "         \"delivery_type\": np.uint8,\n",
    "         \"delivery_time_mode\": np.uint8,\n",
    "         \"goal_kind\": \"category\"}\n",
    "\n",
    "df_messages = pd.read_csv('s3://msds630-kaggle-competition/messages.csv', dtype=types)\n",
    "df_messages = df_messages[df_messages.app_id == 4724682771660800]\n",
    "\n",
    "# I suggest ignoring last column"
   ]
  },
  {
   "cell_type": "code",
   "execution_count": 132,
   "metadata": {},
   "outputs": [],
   "source": [
    "df_messages.to_csv('messages_cleaned.csv', index=False)"
   ]
  },
  {
   "cell_type": "markdown",
   "metadata": {},
   "source": [
    "### Experimentation "
   ]
  },
  {
   "cell_type": "code",
   "execution_count": 130,
   "metadata": {},
   "outputs": [],
   "source": [
    "types = {\"app_id\": np.uint64,\n",
    "         \"message_id\": np.uint64,\n",
    "         \"action_type\": \"category\",\n",
    "         \"delivery_type\": np.uint8,\n",
    "         \"delivery_time_mode\": np.uint8,\n",
    "         \"goal_kind\": \"category\"}"
   ]
  },
  {
   "cell_type": "code",
   "execution_count": 131,
   "metadata": {},
   "outputs": [],
   "source": [
    "df_messages = pd.read_csv('s3://msds630-kaggle-competition/messages.csv', dtype=types)"
   ]
  },
  {
   "cell_type": "code",
   "execution_count": 124,
   "metadata": {},
   "outputs": [
    {
     "name": "stdout",
     "output_type": "stream",
     "text": [
      "<class 'pandas.core.frame.DataFrame'>\n",
      "RangeIndex: 2896 entries, 0 to 2895\n",
      "Data columns (total 6 columns):\n",
      "app_id                2896 non-null uint64\n",
      "message_id            2896 non-null uint64\n",
      "action_type           2896 non-null category\n",
      "delivery_type         2896 non-null uint8\n",
      "delivery_time_mode    2896 non-null uint8\n",
      "goal_kind             1256 non-null category\n",
      "dtypes: category(2), uint64(2), uint8(2)\n",
      "memory usage: 58.9 KB\n"
     ]
    }
   ],
   "source": [
    "df_messages.info(memory_usage=\"deep\")"
   ]
  },
  {
   "cell_type": "code",
   "execution_count": 125,
   "metadata": {},
   "outputs": [
    {
     "data": {
      "text/html": [
       "<div>\n",
       "<style scoped>\n",
       "    .dataframe tbody tr th:only-of-type {\n",
       "        vertical-align: middle;\n",
       "    }\n",
       "\n",
       "    .dataframe tbody tr th {\n",
       "        vertical-align: top;\n",
       "    }\n",
       "\n",
       "    .dataframe thead th {\n",
       "        text-align: right;\n",
       "    }\n",
       "</style>\n",
       "<table border=\"1\" class=\"dataframe\">\n",
       "  <thead>\n",
       "    <tr style=\"text-align: right;\">\n",
       "      <th></th>\n",
       "      <th>app_id</th>\n",
       "      <th>message_id</th>\n",
       "      <th>action_type</th>\n",
       "      <th>delivery_type</th>\n",
       "      <th>delivery_time_mode</th>\n",
       "      <th>goal_kind</th>\n",
       "    </tr>\n",
       "  </thead>\n",
       "  <tbody>\n",
       "    <tr>\n",
       "      <th>0</th>\n",
       "      <td>6196435404455936</td>\n",
       "      <td>5420304779837440</td>\n",
       "      <td>__Push Notification</td>\n",
       "      <td>4</td>\n",
       "      <td>3</td>\n",
       "      <td>NaN</td>\n",
       "    </tr>\n",
       "    <tr>\n",
       "      <th>1</th>\n",
       "      <td>6196435404455936</td>\n",
       "      <td>5059935179767808</td>\n",
       "      <td>__Push Notification</td>\n",
       "      <td>0</td>\n",
       "      <td>3</td>\n",
       "      <td>NaN</td>\n",
       "    </tr>\n",
       "    <tr>\n",
       "      <th>2</th>\n",
       "      <td>6196435404455936</td>\n",
       "      <td>6563799154425856</td>\n",
       "      <td>__Webhook</td>\n",
       "      <td>4</td>\n",
       "      <td>3</td>\n",
       "      <td>NaN</td>\n",
       "    </tr>\n",
       "    <tr>\n",
       "      <th>3</th>\n",
       "      <td>6196435404455936</td>\n",
       "      <td>4680497250304000</td>\n",
       "      <td>__Push Notification</td>\n",
       "      <td>0</td>\n",
       "      <td>3</td>\n",
       "      <td>NaN</td>\n",
       "    </tr>\n",
       "    <tr>\n",
       "      <th>4</th>\n",
       "      <td>4724682771660800</td>\n",
       "      <td>6286714069450752</td>\n",
       "      <td>Center Popup</td>\n",
       "      <td>0</td>\n",
       "      <td>3</td>\n",
       "      <td>3</td>\n",
       "    </tr>\n",
       "  </tbody>\n",
       "</table>\n",
       "</div>"
      ],
      "text/plain": [
       "             app_id        message_id          action_type  delivery_type  \\\n",
       "0  6196435404455936  5420304779837440  __Push Notification              4   \n",
       "1  6196435404455936  5059935179767808  __Push Notification              0   \n",
       "2  6196435404455936  6563799154425856            __Webhook              4   \n",
       "3  6196435404455936  4680497250304000  __Push Notification              0   \n",
       "4  4724682771660800  6286714069450752         Center Popup              0   \n",
       "\n",
       "   delivery_time_mode goal_kind  \n",
       "0                   3       NaN  \n",
       "1                   3       NaN  \n",
       "2                   3       NaN  \n",
       "3                   3       NaN  \n",
       "4                   3         3  "
      ]
     },
     "execution_count": 125,
     "metadata": {},
     "output_type": "execute_result"
    }
   ],
   "source": [
    "df_messages.head()"
   ]
  },
  {
   "cell_type": "code",
   "execution_count": 93,
   "metadata": {},
   "outputs": [
    {
     "data": {
      "text/plain": [
       "app_id                2896\n",
       "message_id            2896\n",
       "action_type           2896\n",
       "delivery_type         2896\n",
       "delivery_time_mode    2896\n",
       "goal_kind             1256\n",
       "dtype: int64"
      ]
     },
     "execution_count": 93,
     "metadata": {},
     "output_type": "execute_result"
    }
   ],
   "source": [
    "df_messages.count()"
   ]
  },
  {
   "cell_type": "code",
   "execution_count": 94,
   "metadata": {},
   "outputs": [
    {
     "data": {
      "text/plain": [
       "False"
      ]
     },
     "execution_count": 94,
     "metadata": {},
     "output_type": "execute_result"
    }
   ],
   "source": [
    "df_messages.app_id.isna().any() and df_messages.app_id.isnull().any()"
   ]
  },
  {
   "cell_type": "code",
   "execution_count": 95,
   "metadata": {},
   "outputs": [
    {
     "data": {
      "text/plain": [
       "6206221868072960    1323\n",
       "6196435404455936     945\n",
       "4724682771660800     628\n",
       "Name: app_id, dtype: int64"
      ]
     },
     "execution_count": 95,
     "metadata": {},
     "output_type": "execute_result"
    }
   ],
   "source": [
    "df_messages.app_id.value_counts()"
   ]
  },
  {
   "cell_type": "code",
   "execution_count": 96,
   "metadata": {},
   "outputs": [
    {
     "data": {
      "text/plain": [
       "app_id                628\n",
       "message_id            628\n",
       "action_type           628\n",
       "delivery_type         628\n",
       "delivery_time_mode    628\n",
       "goal_kind             108\n",
       "dtype: int64"
      ]
     },
     "execution_count": 96,
     "metadata": {},
     "output_type": "execute_result"
    }
   ],
   "source": [
    "df_messages = df_messages[df_messages.app_id == 4724682771660800]\n",
    "df_messages.count()"
   ]
  },
  {
   "cell_type": "code",
   "execution_count": 97,
   "metadata": {},
   "outputs": [
    {
     "data": {
      "text/plain": [
       "False"
      ]
     },
     "execution_count": 97,
     "metadata": {},
     "output_type": "execute_result"
    }
   ],
   "source": [
    "df_messages.message_id.isna().any() and df_messages.message_id.isnull().any()"
   ]
  },
  {
   "cell_type": "code",
   "execution_count": 98,
   "metadata": {},
   "outputs": [
    {
     "data": {
      "text/plain": [
       "5319004722167808    6\n",
       "6634487500242944    4\n",
       "4609541589565440    3\n",
       "4857785064095744    2\n",
       "6301414704021504    2\n",
       "6006728682897408    2\n",
       "6004640771997696    2\n",
       "4592402159501312    2\n",
       "5138636113444864    2\n",
       "5663864431837184    2\n",
       "Name: message_id, dtype: int64"
      ]
     },
     "execution_count": 98,
     "metadata": {},
     "output_type": "execute_result"
    }
   ],
   "source": [
    "df_messages.message_id.value_counts()[0:10]"
   ]
  },
  {
   "cell_type": "code",
   "execution_count": 99,
   "metadata": {},
   "outputs": [
    {
     "data": {
      "text/plain": [
       "False"
      ]
     },
     "execution_count": 99,
     "metadata": {},
     "output_type": "execute_result"
    }
   ],
   "source": [
    "df_messages.action_type.isna().any() and df_messages.action_type.isnull().any()"
   ]
  },
  {
   "cell_type": "code",
   "execution_count": 100,
   "metadata": {},
   "outputs": [
    {
     "data": {
      "text/plain": [
       "__Push Notification      541\n",
       "Center Popup              65\n",
       "Interstitial              18\n",
       "Confirm                    2\n",
       "Push Ask to Ask            1\n",
       "__Email                    1\n",
       "Alert                      0\n",
       "Banner                     0\n",
       "Custom Center Popup        0\n",
       "Floating Interstitial      0\n",
       "new_banner                 0\n",
       "message or action222       0\n",
       "Request App Rating         0\n",
       "Web Interstitial           0\n",
       "__Newsfeed Message         0\n",
       "__Webhook                  0\n",
       "banner                     0\n",
       "3-button Confirm           0\n",
       "Name: action_type, dtype: int64"
      ]
     },
     "execution_count": 100,
     "metadata": {},
     "output_type": "execute_result"
    }
   ],
   "source": [
    "df_messages.action_type.value_counts()"
   ]
  },
  {
   "cell_type": "code",
   "execution_count": 101,
   "metadata": {},
   "outputs": [
    {
     "data": {
      "text/plain": [
       "False"
      ]
     },
     "execution_count": 101,
     "metadata": {},
     "output_type": "execute_result"
    }
   ],
   "source": [
    "df_messages.delivery_type.isna().any() and df_messages.delivery_type.isnull().any()"
   ]
  },
  {
   "cell_type": "code",
   "execution_count": 102,
   "metadata": {},
   "outputs": [
    {
     "data": {
      "text/plain": [
       "3    553\n",
       "2     45\n",
       "0     29\n",
       "1      1\n",
       "Name: delivery_time_mode, dtype: int64"
      ]
     },
     "execution_count": 102,
     "metadata": {},
     "output_type": "execute_result"
    }
   ],
   "source": [
    "df_messages.delivery_time_mode.value_counts()"
   ]
  },
  {
   "cell_type": "code",
   "execution_count": 103,
   "metadata": {},
   "outputs": [
    {
     "data": {
      "text/plain": [
       "True"
      ]
     },
     "execution_count": 103,
     "metadata": {},
     "output_type": "execute_result"
    }
   ],
   "source": [
    "df_messages.goal_kind.isna().any() and df_messages.goal_kind.isnull().any()"
   ]
  },
  {
   "cell_type": "code",
   "execution_count": 104,
   "metadata": {},
   "outputs": [
    {
     "data": {
      "text/plain": [
       "6    52\n",
       "3    50\n",
       "4     3\n",
       "0     3\n",
       "Name: goal_kind, dtype: int64"
      ]
     },
     "execution_count": 104,
     "metadata": {},
     "output_type": "execute_result"
    }
   ],
   "source": [
    "df_messages.goal_kind.value_counts()"
   ]
  },
  {
   "cell_type": "code",
   "execution_count": 105,
   "metadata": {},
   "outputs": [
    {
     "data": {
      "text/plain": [
       "520"
      ]
     },
     "execution_count": 105,
     "metadata": {},
     "output_type": "execute_result"
    }
   ],
   "source": [
    "sum(df_messages.goal_kind.isna())"
   ]
  },
  {
   "cell_type": "code",
   "execution_count": null,
   "metadata": {},
   "outputs": [],
   "source": [
    "# 6: user action\n",
    "# 3: event\n",
    "# 4: optimal time\n",
    "# 0: metric"
   ]
  },
  {
   "cell_type": "code",
   "execution_count": null,
   "metadata": {},
   "outputs": [],
   "source": []
  }
 ],
 "metadata": {
  "kernelspec": {
   "display_name": "Python 3",
   "language": "python",
   "name": "python3"
  },
  "language_info": {
   "codemirror_mode": {
    "name": "ipython",
    "version": 3
   },
   "file_extension": ".py",
   "mimetype": "text/x-python",
   "name": "python",
   "nbconvert_exporter": "python",
   "pygments_lexer": "ipython3",
   "version": "3.6.6"
  }
 },
 "nbformat": 4,
 "nbformat_minor": 2
}
