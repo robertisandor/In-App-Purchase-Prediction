{
 "cells": [
  {
   "cell_type": "code",
   "execution_count": 1,
   "metadata": {
    "ExecuteTime": {
     "end_time": "2019-02-25T01:22:01.534667Z",
     "start_time": "2019-02-25T01:22:01.163222Z"
    }
   },
   "outputs": [],
   "source": [
    "import os\n",
    "import numpy as np\n",
    "import timeit\n",
    "import pyspark\n",
    "import pandas as pd\n",
    "import s3fs\n",
    "import time\n",
    "import ast\n",
    "import operator\n",
    "from datetime import datetime\n",
    "import statistics"
   ]
  },
  {
   "cell_type": "code",
   "execution_count": 43,
   "metadata": {
    "ExecuteTime": {
     "end_time": "2019-02-25T01:46:29.607159Z",
     "start_time": "2019-02-25T01:46:19.512914Z"
    }
   },
   "outputs": [],
   "source": [
    "sc = pyspark.SparkContext.getOrCreate()\n",
    "ss = pyspark.sql.SparkSession.builder.getOrCreate()"
   ]
  },
  {
   "cell_type": "markdown",
   "metadata": {},
   "source": [
    "## Set up the data address book"
   ]
  },
  {
   "cell_type": "code",
   "execution_count": 44,
   "metadata": {
    "ExecuteTime": {
     "end_time": "2019-02-25T01:46:31.477792Z",
     "start_time": "2019-02-25T01:46:31.466320Z"
    }
   },
   "outputs": [
    {
     "data": {
      "text/plain": [
       "{'attributes': 's3a://msds630-kaggle-competition/attributes.csv',\n",
       " 'events': 's3a://msds630-kaggle-competition/events.csv',\n",
       " 'messages': 's3a://msds630-kaggle-competition/messages.csv',\n",
       " 'sessions': 's3a://msds630-kaggle-competition/sessions.csv'}"
      ]
     },
     "execution_count": 44,
     "metadata": {},
     "output_type": "execute_result"
    }
   ],
   "source": [
    "s3_address = \"s3a://msds630-kaggle-competition/\"\n",
    "dataset_addr_book = {}\n",
    "dataset_name_list = [\"events\", \"messages\", \"attributes\", \"sessions\"]\n",
    "for name in dataset_name_list:\n",
    "    dataset_addr_book[name] = \"\".join([s3_address, name, \".csv\"])\n",
    "\n",
    "dataset_addr_book"
   ]
  },
  {
   "cell_type": "markdown",
   "metadata": {},
   "source": [
    "## Load events"
   ]
  },
  {
   "cell_type": "code",
   "execution_count": 45,
   "metadata": {
    "ExecuteTime": {
     "end_time": "2019-02-25T01:46:42.046650Z",
     "start_time": "2019-02-25T01:46:31.860840Z"
    }
   },
   "outputs": [
    {
     "name": "stdout",
     "output_type": "stream",
     "text": [
      "['app_id', 'session_id', 'event', 'event_timestamp', 'event_value', 'user_id_hash']\n",
      "6\n"
     ]
    }
   ],
   "source": [
    "events_rdd = sc.textFile(dataset_addr_book[\"events\"])\\\n",
    "               .map(lambda line : line.encode('ascii', 'ignore'))\n",
    "cols_events = events_rdd.map(lambda x: x.split(',')).take(1)[0]\n",
    "print(cols_events)\n",
    "print(len(cols_events))"
   ]
  },
  {
   "cell_type": "code",
   "execution_count": 46,
   "metadata": {
    "ExecuteTime": {
     "end_time": "2019-02-25T01:46:42.804076Z",
     "start_time": "2019-02-25T01:46:42.050894Z"
    }
   },
   "outputs": [
    {
     "data": {
      "text/plain": [
       "[['4724682771660800',\n",
       "  '5558845121177764917',\n",
       "  '45',\n",
       "  '1542215397132',\n",
       "  '0.0',\n",
       "  '9943447915df3a45fd6720a026af905b6da6b56a37701b8b2629802e9a541006']]"
      ]
     },
     "execution_count": 46,
     "metadata": {},
     "output_type": "execute_result"
    }
   ],
   "source": [
    "events_data = events_rdd.filter(lambda x: 'app_id' not in x)\\\n",
    "                        .map(lambda x: x.split(','))\n",
    "events_data.take(1)"
   ]
  },
  {
   "cell_type": "code",
   "execution_count": 47,
   "metadata": {
    "ExecuteTime": {
     "end_time": "2019-02-25T01:46:42.815979Z",
     "start_time": "2019-02-25T01:46:42.808120Z"
    }
   },
   "outputs": [
    {
     "data": {
      "text/plain": [
       "['session_id', 'event', 'event_timestamp', 'event_value', 'user_id_hash']"
      ]
     },
     "execution_count": 47,
     "metadata": {},
     "output_type": "execute_result"
    }
   ],
   "source": [
    "cols_events_adj = cols_events[1:] # Drop app_id\n",
    "cols_events_adj"
   ]
  },
  {
   "cell_type": "code",
   "execution_count": 48,
   "metadata": {
    "ExecuteTime": {
     "end_time": "2019-02-25T01:46:43.773784Z",
     "start_time": "2019-02-25T01:46:42.817550Z"
    }
   },
   "outputs": [
    {
     "data": {
      "text/plain": [
       "[['5558845121177764917',\n",
       "  '45',\n",
       "  '1542215397132',\n",
       "  '0.0',\n",
       "  '9943447915df3a45fd6720a026af905b6da6b56a37701b8b2629802e9a541006']]"
      ]
     },
     "execution_count": 48,
     "metadata": {},
     "output_type": "execute_result"
    }
   ],
   "source": [
    "events_data_adj = events_data.map(lambda x: x[1:]) # Drop app_id\n",
    "events_data_adj.take(1)"
   ]
  },
  {
   "cell_type": "code",
   "execution_count": 49,
   "metadata": {
    "ExecuteTime": {
     "end_time": "2019-02-25T01:46:43.784761Z",
     "start_time": "2019-02-25T01:46:43.776676Z"
    }
   },
   "outputs": [
    {
     "data": {
      "text/plain": [
       "'2018-11-08 00:53:44'"
      ]
     },
     "execution_count": 49,
     "metadata": {},
     "output_type": "execute_result"
    }
   ],
   "source": [
    "def convertTime(ts_str):\n",
    "    return datetime.utcfromtimestamp(int(ts_str)/1000.0).strftime('%Y-%m-%d %H:%M:%S')\n",
    "convertTime('1541638424150')"
   ]
  },
  {
   "cell_type": "markdown",
   "metadata": {},
   "source": [
    "## Train"
   ]
  },
  {
   "cell_type": "code",
   "execution_count": 50,
   "metadata": {
    "ExecuteTime": {
     "end_time": "2019-02-25T01:46:44.495403Z",
     "start_time": "2019-02-25T01:46:43.788571Z"
    }
   },
   "outputs": [
    {
     "data": {
      "text/plain": [
       "[['346242741644068108',\n",
       "  '45',\n",
       "  '1543070431080',\n",
       "  '0.0',\n",
       "  '9943447915df3a45fd6720a026af905b6da6b56a37701b8b2629802e9a541006']]"
      ]
     },
     "execution_count": 50,
     "metadata": {},
     "output_type": "execute_result"
    }
   ],
   "source": [
    "events_data_train = events_data_adj.filter(lambda x: convertTime(x[2])[:10] < '2018-12-02')\\\n",
    "                                   .filter(lambda x: convertTime(x[2])[:10] >= '2018-11-18')\n",
    "events_data_train.take(1)"
   ]
  },
  {
   "cell_type": "code",
   "execution_count": 51,
   "metadata": {
    "ExecuteTime": {
     "end_time": "2019-02-25T01:46:44.586903Z",
     "start_time": "2019-02-25T01:46:44.500133Z"
    }
   },
   "outputs": [],
   "source": [
    "temp_pair_train_dict = {}\n",
    "for i in range(6):\n",
    "    if i != 0:\n",
    "        temp_pair = events_data_train.map(lambda x: (x[0], x[i]))\\\n",
    "                                    .groupByKey().map(lambda x: [x[0], list(x[1])])\n",
    "        temp_pair_train_dict[i] = temp_pair"
   ]
  },
  {
   "cell_type": "code",
   "execution_count": 52,
   "metadata": {
    "ExecuteTime": {
     "end_time": "2019-02-25T01:51:57.269022Z",
     "start_time": "2019-02-25T01:46:44.591131Z"
    }
   },
   "outputs": [
    {
     "data": {
      "text/plain": [
       "[('6309264250257609843',\n",
       "  [['1',\n",
       "    '5',\n",
       "    '45',\n",
       "    '45',\n",
       "    '45',\n",
       "    '45',\n",
       "    '45',\n",
       "    '45',\n",
       "    '45',\n",
       "    '45',\n",
       "    '45',\n",
       "    '45',\n",
       "    '45',\n",
       "    '45',\n",
       "    '45',\n",
       "    '45',\n",
       "    '45',\n",
       "    '4',\n",
       "    '6',\n",
       "    '40',\n",
       "    '41',\n",
       "    '3',\n",
       "    '42'],\n",
       "   ['1543175110236',\n",
       "    '1543175113178',\n",
       "    '1543175188473',\n",
       "    '1543175236995',\n",
       "    '1543175242927',\n",
       "    '1543175281611',\n",
       "    '1543175322511',\n",
       "    '1543175370581',\n",
       "    '1543175381381',\n",
       "    '1543175420159',\n",
       "    '1543175444136',\n",
       "    '1543175469816',\n",
       "    '1543175478723',\n",
       "    '1543175484426',\n",
       "    '1543175488738',\n",
       "    '1543175548012',\n",
       "    '1543175624174',\n",
       "    '1543175687406',\n",
       "    '1543175696612',\n",
       "    '1543175706829',\n",
       "    '1543175710120',\n",
       "    '1543175773504',\n",
       "    '1543175775452'],\n",
       "   ['0.0',\n",
       "    '1.0',\n",
       "    '0.0',\n",
       "    '0.0',\n",
       "    '0.0',\n",
       "    '0.0',\n",
       "    '0.0',\n",
       "    '0.0',\n",
       "    '0.0',\n",
       "    '0.0',\n",
       "    '0.0',\n",
       "    '0.0',\n",
       "    '0.0',\n",
       "    '0.0',\n",
       "    '0.0',\n",
       "    '0.0',\n",
       "    '0.0',\n",
       "    '0.0',\n",
       "    '0.0',\n",
       "    '0.0',\n",
       "    '0.0',\n",
       "    '0.0',\n",
       "    '0.0'],\n",
       "   ['10596df08f16abc27259f399c1e71d5b591a931c22eeed1cd3fa8ba3e798d237',\n",
       "    '10596df08f16abc27259f399c1e71d5b591a931c22eeed1cd3fa8ba3e798d237',\n",
       "    '10596df08f16abc27259f399c1e71d5b591a931c22eeed1cd3fa8ba3e798d237',\n",
       "    '10596df08f16abc27259f399c1e71d5b591a931c22eeed1cd3fa8ba3e798d237',\n",
       "    '10596df08f16abc27259f399c1e71d5b591a931c22eeed1cd3fa8ba3e798d237',\n",
       "    '10596df08f16abc27259f399c1e71d5b591a931c22eeed1cd3fa8ba3e798d237',\n",
       "    '10596df08f16abc27259f399c1e71d5b591a931c22eeed1cd3fa8ba3e798d237',\n",
       "    '10596df08f16abc27259f399c1e71d5b591a931c22eeed1cd3fa8ba3e798d237',\n",
       "    '10596df08f16abc27259f399c1e71d5b591a931c22eeed1cd3fa8ba3e798d237',\n",
       "    '10596df08f16abc27259f399c1e71d5b591a931c22eeed1cd3fa8ba3e798d237',\n",
       "    '10596df08f16abc27259f399c1e71d5b591a931c22eeed1cd3fa8ba3e798d237',\n",
       "    '10596df08f16abc27259f399c1e71d5b591a931c22eeed1cd3fa8ba3e798d237',\n",
       "    '10596df08f16abc27259f399c1e71d5b591a931c22eeed1cd3fa8ba3e798d237',\n",
       "    '10596df08f16abc27259f399c1e71d5b591a931c22eeed1cd3fa8ba3e798d237',\n",
       "    '10596df08f16abc27259f399c1e71d5b591a931c22eeed1cd3fa8ba3e798d237',\n",
       "    '10596df08f16abc27259f399c1e71d5b591a931c22eeed1cd3fa8ba3e798d237',\n",
       "    '10596df08f16abc27259f399c1e71d5b591a931c22eeed1cd3fa8ba3e798d237',\n",
       "    '10596df08f16abc27259f399c1e71d5b591a931c22eeed1cd3fa8ba3e798d237',\n",
       "    '10596df08f16abc27259f399c1e71d5b591a931c22eeed1cd3fa8ba3e798d237',\n",
       "    '10596df08f16abc27259f399c1e71d5b591a931c22eeed1cd3fa8ba3e798d237',\n",
       "    '10596df08f16abc27259f399c1e71d5b591a931c22eeed1cd3fa8ba3e798d237',\n",
       "    '10596df08f16abc27259f399c1e71d5b591a931c22eeed1cd3fa8ba3e798d237',\n",
       "    '10596df08f16abc27259f399c1e71d5b591a931c22eeed1cd3fa8ba3e798d237']])]"
      ]
     },
     "execution_count": 52,
     "metadata": {},
     "output_type": "execute_result"
    }
   ],
   "source": [
    "events_data_train_adj = temp_pair_train_dict[1]\n",
    "events_data_train_adj = events_data_train_adj.leftOuterJoin(temp_pair_train_dict[2])\\\n",
    "                                             .map(lambda x: (x[0], list(x[1])))\n",
    "events_data_train_adj = events_data_train_adj.leftOuterJoin(temp_pair_train_dict[3])\\\n",
    "                                             .map(lambda x: (x[0], list(x[1])))\\\n",
    "                                             .map(lambda x: (x[0], [x[1][0][0], x[1][0][1], x[1][1]]))\n",
    "events_data_train_adj = events_data_train_adj.leftOuterJoin(temp_pair_train_dict[4])\\\n",
    "                                             .map(lambda x: (x[0], list(x[1])))\\\n",
    "                                             .map(lambda x: (x[0], [x[1][0][0], x[1][0][1], x[1][0][2], x[1][1]]))\n",
    "events_data_train_adj.take(1)"
   ]
  },
  {
   "cell_type": "code",
   "execution_count": 53,
   "metadata": {
    "ExecuteTime": {
     "end_time": "2019-02-25T01:51:57.276920Z",
     "start_time": "2019-02-25T01:51:57.272237Z"
    }
   },
   "outputs": [],
   "source": [
    "def most_common(lst):\n",
    "    return max(set(lst), key=lst.count)"
   ]
  },
  {
   "cell_type": "code",
   "execution_count": 54,
   "metadata": {
    "ExecuteTime": {
     "end_time": "2019-02-25T01:51:57.352933Z",
     "start_time": "2019-02-25T01:51:57.279723Z"
    }
   },
   "outputs": [
    {
     "data": {
      "text/plain": [
       "[['6309264250257609843',\n",
       "  ['1',\n",
       "   '5',\n",
       "   '45',\n",
       "   '45',\n",
       "   '45',\n",
       "   '45',\n",
       "   '45',\n",
       "   '45',\n",
       "   '45',\n",
       "   '45',\n",
       "   '45',\n",
       "   '45',\n",
       "   '45',\n",
       "   '45',\n",
       "   '45',\n",
       "   '45',\n",
       "   '45',\n",
       "   '4',\n",
       "   '6',\n",
       "   '40',\n",
       "   '41',\n",
       "   '3',\n",
       "   '42'],\n",
       "  ['1543175110236',\n",
       "   '1543175113178',\n",
       "   '1543175188473',\n",
       "   '1543175236995',\n",
       "   '1543175242927',\n",
       "   '1543175281611',\n",
       "   '1543175322511',\n",
       "   '1543175370581',\n",
       "   '1543175381381',\n",
       "   '1543175420159',\n",
       "   '1543175444136',\n",
       "   '1543175469816',\n",
       "   '1543175478723',\n",
       "   '1543175484426',\n",
       "   '1543175488738',\n",
       "   '1543175548012',\n",
       "   '1543175624174',\n",
       "   '1543175687406',\n",
       "   '1543175696612',\n",
       "   '1543175706829',\n",
       "   '1543175710120',\n",
       "   '1543175773504',\n",
       "   '1543175775452'],\n",
       "  ['0.0',\n",
       "   '1.0',\n",
       "   '0.0',\n",
       "   '0.0',\n",
       "   '0.0',\n",
       "   '0.0',\n",
       "   '0.0',\n",
       "   '0.0',\n",
       "   '0.0',\n",
       "   '0.0',\n",
       "   '0.0',\n",
       "   '0.0',\n",
       "   '0.0',\n",
       "   '0.0',\n",
       "   '0.0',\n",
       "   '0.0',\n",
       "   '0.0',\n",
       "   '0.0',\n",
       "   '0.0',\n",
       "   '0.0',\n",
       "   '0.0',\n",
       "   '0.0',\n",
       "   '0.0'],\n",
       "  '10596df08f16abc27259f399c1e71d5b591a931c22eeed1cd3fa8ba3e798d237']]"
      ]
     },
     "execution_count": 54,
     "metadata": {},
     "output_type": "execute_result"
    }
   ],
   "source": [
    "events_data_train_adj2 = events_data_train_adj.map(lambda x: [x[0], x[1][0], x[1][1], x[1][2], \n",
    "                                                              most_common(x[1][3])])\n",
    "events_data_train_adj2.take(1)"
   ]
  },
  {
   "cell_type": "code",
   "execution_count": 55,
   "metadata": {
    "ExecuteTime": {
     "end_time": "2019-02-25T01:51:57.362452Z",
     "start_time": "2019-02-25T01:51:57.356943Z"
    }
   },
   "outputs": [],
   "source": [
    "def findPur(event_list):\n",
    "    pur_list = []\n",
    "    for i in range(len(event_list)):\n",
    "        if event_list[i] == '8':\n",
    "            pur_list.append(i)\n",
    "    return pur_list     "
   ]
  },
  {
   "cell_type": "code",
   "execution_count": 56,
   "metadata": {
    "ExecuteTime": {
     "end_time": "2019-02-25T01:51:57.440726Z",
     "start_time": "2019-02-25T01:51:57.366498Z"
    }
   },
   "outputs": [
    {
     "data": {
      "text/plain": [
       "[['6035474937349177697',\n",
       "  [23],\n",
       "  58,\n",
       "  ['1543012869863',\n",
       "   '1543012872451',\n",
       "   '1543012906922',\n",
       "   '1543012972189',\n",
       "   '1543013241606',\n",
       "   '1543013255956',\n",
       "   '1543013354066',\n",
       "   '1543013990867',\n",
       "   '1543014046797',\n",
       "   '1543014127836',\n",
       "   '1543014207784',\n",
       "   '1543014338804',\n",
       "   '1543014448169',\n",
       "   '1543014559513',\n",
       "   '1543014559543',\n",
       "   '1543014604543',\n",
       "   '1543014652194',\n",
       "   '1543014693201',\n",
       "   '1543014766370',\n",
       "   '1543014815998',\n",
       "   '1543014816019',\n",
       "   '1543014920523',\n",
       "   '1543015037412',\n",
       "   '1543015181136',\n",
       "   '1543015188876',\n",
       "   '1543015188884',\n",
       "   '1543015337010',\n",
       "   '1543015437992',\n",
       "   '1543015520929',\n",
       "   '1543015688601',\n",
       "   '1543015690779',\n",
       "   '1543015698253',\n",
       "   '1543015699574',\n",
       "   '1543015734460',\n",
       "   '1543015735660',\n",
       "   '1543015743668',\n",
       "   '1543015794578',\n",
       "   '1543015794600',\n",
       "   '1543015823413',\n",
       "   '1543015902233',\n",
       "   '1543015947016',\n",
       "   '1543015991708',\n",
       "   '1543016181470',\n",
       "   '1543016245597',\n",
       "   '1543016330325',\n",
       "   '1543016374057',\n",
       "   '1543016445136',\n",
       "   '1543016502219',\n",
       "   '1543016585590',\n",
       "   '1543016587527',\n",
       "   '1543016594767',\n",
       "   '1543016596424',\n",
       "   '1543016628964',\n",
       "   '1543016630193',\n",
       "   '1543016639803',\n",
       "   '1543016670789',\n",
       "   '1543016781227',\n",
       "   '1543016873705'],\n",
       "  ['0.0',\n",
       "   '1.0',\n",
       "   '0.0',\n",
       "   '0.0',\n",
       "   '0.0',\n",
       "   '0.0',\n",
       "   '0.0',\n",
       "   '0.0',\n",
       "   '0.0',\n",
       "   '0.0',\n",
       "   '0.0',\n",
       "   '0.0',\n",
       "   '0.0',\n",
       "   '15.0',\n",
       "   '0.0',\n",
       "   '0.0',\n",
       "   '0.0',\n",
       "   '0.0',\n",
       "   '0.0',\n",
       "   '25.0',\n",
       "   '0.0',\n",
       "   '0.0',\n",
       "   '0.0',\n",
       "   '3.492999792098999',\n",
       "   '30.0',\n",
       "   '0.0',\n",
       "   '0.0',\n",
       "   '0.0',\n",
       "   '0.0',\n",
       "   '0.0',\n",
       "   '0.0',\n",
       "   '0.0',\n",
       "   '0.0',\n",
       "   '0.0',\n",
       "   '0.0',\n",
       "   '1.0',\n",
       "   '25.0',\n",
       "   '0.0',\n",
       "   '0.0',\n",
       "   '0.0',\n",
       "   '0.0',\n",
       "   '0.0',\n",
       "   '0.0',\n",
       "   '0.0',\n",
       "   '0.0',\n",
       "   '0.0',\n",
       "   '0.0',\n",
       "   '0.0',\n",
       "   '0.0',\n",
       "   '0.0',\n",
       "   '0.0',\n",
       "   '0.0',\n",
       "   '0.0',\n",
       "   '0.0',\n",
       "   '1.0',\n",
       "   '0.0',\n",
       "   '0.0',\n",
       "   '0.0'],\n",
       "  '89ebf9f8e3e3ae7319aaf51dc6d7c0cfe9df4c997078ec9300ced433ea5120ba']]"
      ]
     },
     "execution_count": 56,
     "metadata": {},
     "output_type": "execute_result"
    }
   ],
   "source": [
    "events_data_train_adj3 = events_data_train_adj2.map(lambda x: [x[0], findPur(x[1]), len(x[1]), x[2], x[3], x[4]])\n",
    "events_data_train_adj3.filter(lambda x: x[1]!=[]).take(1)"
   ]
  },
  {
   "cell_type": "code",
   "execution_count": 57,
   "metadata": {
    "ExecuteTime": {
     "end_time": "2019-02-25T01:51:57.455315Z",
     "start_time": "2019-02-25T01:51:57.444928Z"
    }
   },
   "outputs": [
    {
     "data": {
      "text/plain": [
       "2.0"
      ]
     },
     "execution_count": 57,
     "metadata": {},
     "output_type": "execute_result"
    }
   ],
   "source": [
    "def moneySum(value_list ,idx_list):\n",
    "    if idx_list == []:\n",
    "        return 0.0\n",
    "    moneySum = 0.0\n",
    "    for idx in idx_list:\n",
    "        moneySum += float(value_list[idx])\n",
    "    return moneySum\n",
    "        \n",
    "a = ['1.0','1.0','5.0']\n",
    "b = [0,1]\n",
    "moneySum(a,b)"
   ]
  },
  {
   "cell_type": "code",
   "execution_count": 58,
   "metadata": {
    "ExecuteTime": {
     "end_time": "2019-02-25T01:51:57.533419Z",
     "start_time": "2019-02-25T01:51:57.459339Z"
    }
   },
   "outputs": [
    {
     "data": {
      "text/plain": [
       "[['a7cc6e6f8c7b889a1272583505c240ce8c6f4196ba261c46c4de328d5ca4f739',\n",
       "  '3395145758454465276',\n",
       "  192,\n",
       "  4,\n",
       "  14665965.0,\n",
       "  11.871999382972717]]"
      ]
     },
     "execution_count": 58,
     "metadata": {},
     "output_type": "execute_result"
    }
   ],
   "source": [
    "events_data_train_adj4 = events_data_train_adj3.map(lambda x: [x[5], x[0], x[2], len(x[1]),\n",
    "                                                               float(max(x[3]))-float(min(x[3])), \n",
    "                                                               moneySum(x[4], x[1])])\n",
    "events_data_train_adj4.filter(lambda x: x[3]>0).take(1)"
   ]
  },
  {
   "cell_type": "code",
   "execution_count": 59,
   "metadata": {
    "ExecuteTime": {
     "end_time": "2019-02-25T01:51:57.617762Z",
     "start_time": "2019-02-25T01:51:57.537444Z"
    }
   },
   "outputs": [],
   "source": [
    "temp_pair_train_dict_2 = {}\n",
    "for i in range(6):\n",
    "    if i != 0:\n",
    "        temp_pair = events_data_train_adj4.map(lambda x: (x[0], x[i]))\\\n",
    "                                    .groupByKey().map(lambda x: [x[0], list(x[1])])\n",
    "        temp_pair_train_dict_2[i] = temp_pair"
   ]
  },
  {
   "cell_type": "code",
   "execution_count": 60,
   "metadata": {
    "ExecuteTime": {
     "end_time": "2019-02-25T01:52:56.265635Z",
     "start_time": "2019-02-25T01:51:57.622052Z"
    }
   },
   "outputs": [
    {
     "data": {
      "text/plain": [
       "[('a7d68ea7dcf1bc9fc2d455c19d1ba409951609735a543bc97d3b51cd19b09f6f',\n",
       "  [['69031578336701658'], [1], [0], [0.0], [0.0]])]"
      ]
     },
     "execution_count": 60,
     "metadata": {},
     "output_type": "execute_result"
    }
   ],
   "source": [
    "events_data_train_adj5 = temp_pair_train_dict_2[1]\n",
    "events_data_train_adj5 = events_data_train_adj5.leftOuterJoin(temp_pair_train_dict_2[2])\\\n",
    "                                             .map(lambda x: (x[0], list(x[1])))\n",
    "events_data_train_adj5 = events_data_train_adj5.leftOuterJoin(temp_pair_train_dict_2[3])\\\n",
    "                                             .map(lambda x: (x[0], list(x[1])))\\\n",
    "                                             .map(lambda x: (x[0], [x[1][0][0], x[1][0][1], x[1][1]]))\n",
    "events_data_train_adj5 = events_data_train_adj5.leftOuterJoin(temp_pair_train_dict_2[4])\\\n",
    "                                             .map(lambda x: (x[0], list(x[1])))\\\n",
    "                                             .map(lambda x: (x[0], [x[1][0][0], x[1][0][1], x[1][0][2], x[1][1]]))\n",
    "events_data_train_adj5 = events_data_train_adj5.leftOuterJoin(temp_pair_train_dict_2[5])\\\n",
    "                                             .map(lambda x: (x[0], list(x[1])))\\\n",
    "                                             .map(lambda x: (x[0], [x[1][0][0], x[1][0][1], x[1][0][2], \n",
    "                                                                    x[1][0][3], x[1][1]]))\n",
    "events_data_train_adj5.take(1)"
   ]
  },
  {
   "cell_type": "code",
   "execution_count": 61,
   "metadata": {
    "ExecuteTime": {
     "end_time": "2019-02-25T01:52:56.276751Z",
     "start_time": "2019-02-25T01:52:56.269772Z"
    }
   },
   "outputs": [
    {
     "name": "stdout",
     "output_type": "stream",
     "text": [
      "1\n",
      "1.5\n"
     ]
    }
   ],
   "source": [
    "def getMedian(lst):\n",
    "    if lst == []:\n",
    "        return 0.0\n",
    "    elif len(lst) % 2 == 1:\n",
    "        return sorted(lst)[(len(lst)-1)/2]\n",
    "    else:\n",
    "        lst = sorted(lst)\n",
    "        mid = (len(lst)-1)/2\n",
    "        return (lst[mid]+lst[mid+1])/2.0\n",
    "    \n",
    "print(getMedian([0,1,2,]))\n",
    "print(getMedian([0,1,2,3]))"
   ]
  },
  {
   "cell_type": "code",
   "execution_count": 62,
   "metadata": {
    "ExecuteTime": {
     "end_time": "2019-02-25T01:52:56.398786Z",
     "start_time": "2019-02-25T01:52:56.280707Z"
    }
   },
   "outputs": [
    {
     "data": {
      "text/plain": [
       "[['a7d68ea7dcf1bc9fc2d455c19d1ba409951609735a543bc97d3b51cd19b09f6f',\n",
       "  1,\n",
       "  1,\n",
       "  1,\n",
       "  0,\n",
       "  0.0,\n",
       "  0.0]]"
      ]
     },
     "execution_count": 62,
     "metadata": {},
     "output_type": "execute_result"
    }
   ],
   "source": [
    "events_data_train_adj6 = events_data_train_adj5.map(lambda x: [x[0], \n",
    "                                                               len(x[1][0]),\n",
    "                                                               sum(x[1][1]),\n",
    "                                                               getMedian(x[1][1]),\n",
    "                                                               sum(x[1][2]), \n",
    "                                                               sum(x[1][4]),\n",
    "                                                               getMedian(x[1][3])])\n",
    "events_data_train_adj6.take(1)"
   ]
  },
  {
   "cell_type": "markdown",
   "metadata": {},
   "source": [
    "## Data Dictionary\n",
    "0 - user_id  \n",
    "1 - total number of sessions  \n",
    "2 - total number of events  \n",
    "3 - median number of events  \n",
    "4 - total sum of purchases  \n",
    "5 - total amount of purchases  \n",
    "6 - median session duration"
   ]
  },
  {
   "cell_type": "code",
   "execution_count": 63,
   "metadata": {
    "ExecuteTime": {
     "end_time": "2019-02-25T01:52:56.514973Z",
     "start_time": "2019-02-25T01:52:56.402744Z"
    }
   },
   "outputs": [
    {
     "data": {
      "text/plain": [
       "['a7d68ea7dcf1bc9fc2d455c19d1ba409951609735a543bc97d3b51cd19b09f6f,1,1,1,0,0.0,0.0']"
      ]
     },
     "execution_count": 63,
     "metadata": {},
     "output_type": "execute_result"
    }
   ],
   "source": [
    "events_data_train_adj7 = events_data_train_adj6.map(lambda x: ','.join([str(y) for y in x]))\n",
    "events_data_train_adj7.take(1)"
   ]
  },
  {
   "cell_type": "code",
   "execution_count": 64,
   "metadata": {
    "ExecuteTime": {
     "end_time": "2019-02-25T01:53:01.367968Z",
     "start_time": "2019-02-25T01:52:56.518928Z"
    }
   },
   "outputs": [],
   "source": [
    "with open('train_last_14_days.csv', 'w') as f:\n",
    "    for line in events_data_train_adj7.collect():\n",
    "        f.write(line)\n",
    "        f.write('\\n')"
   ]
  },
  {
   "cell_type": "markdown",
   "metadata": {},
   "source": [
    "## Test"
   ]
  },
  {
   "cell_type": "code",
   "execution_count": 65,
   "metadata": {
    "ExecuteTime": {
     "end_time": "2019-02-25T01:53:02.036496Z",
     "start_time": "2019-02-25T01:53:01.372238Z"
    }
   },
   "outputs": [
    {
     "data": {
      "text/plain": [
       "[['2201961907282901522',\n",
       "  '4',\n",
       "  '1543713091129',\n",
       "  '0.0',\n",
       "  '9943447915df3a45fd6720a026af905b6da6b56a37701b8b2629802e9a541006']]"
      ]
     },
     "execution_count": 65,
     "metadata": {},
     "output_type": "execute_result"
    }
   ],
   "source": [
    "events_data_test = events_data_adj.filter(lambda x: convertTime(x[2])[:10] < '2018-12-16')\\\n",
    "                                  .filter(lambda x: convertTime(x[2])[:10] >= '2018-12-02')\n",
    "events_data_test.take(1)"
   ]
  },
  {
   "cell_type": "code",
   "execution_count": 66,
   "metadata": {
    "ExecuteTime": {
     "end_time": "2019-02-25T01:53:02.118604Z",
     "start_time": "2019-02-25T01:53:02.040577Z"
    }
   },
   "outputs": [],
   "source": [
    "temp_pair_test_dict = {}\n",
    "for i in range(6):\n",
    "    if i != 0:\n",
    "        temp_pair = events_data_test.map(lambda x: (x[0], x[i]))\\\n",
    "                                    .groupByKey().map(lambda x: [x[0], list(x[1])])\n",
    "        temp_pair_test_dict[i] = temp_pair"
   ]
  },
  {
   "cell_type": "code",
   "execution_count": 67,
   "metadata": {
    "ExecuteTime": {
     "end_time": "2019-02-25T01:57:39.241347Z",
     "start_time": "2019-02-25T01:53:02.123113Z"
    }
   },
   "outputs": [
    {
     "data": {
      "text/plain": [
       "[('2110482880339331667',\n",
       "  [['1',\n",
       "    '5',\n",
       "    '45',\n",
       "    '45',\n",
       "    '45',\n",
       "    '45',\n",
       "    '45',\n",
       "    '45',\n",
       "    '45',\n",
       "    '45',\n",
       "    '45',\n",
       "    '45',\n",
       "    '45',\n",
       "    '45',\n",
       "    '45',\n",
       "    '45',\n",
       "    '45',\n",
       "    '4',\n",
       "    '6',\n",
       "    '40',\n",
       "    '41',\n",
       "    '3',\n",
       "    '42',\n",
       "    '1',\n",
       "    '1'],\n",
       "   ['1544194347400',\n",
       "    '1544194351427',\n",
       "    '1544194423393',\n",
       "    '1544194481805',\n",
       "    '1544194519338',\n",
       "    '1544194584780',\n",
       "    '1544194652133',\n",
       "    '1544194695390',\n",
       "    '1544194771318',\n",
       "    '1544194825036',\n",
       "    '1544194926066',\n",
       "    '1544194976711',\n",
       "    '1544195017774',\n",
       "    '1544195088559',\n",
       "    '1544195124975',\n",
       "    '1544195231198',\n",
       "    '1544195255892',\n",
       "    '1544195274452',\n",
       "    '1544195278188',\n",
       "    '1544195290584',\n",
       "    '1544195292452',\n",
       "    '1544195318555',\n",
       "    '1544195320893',\n",
       "    '1544195364243',\n",
       "    '1544195378293'],\n",
       "   ['0.0',\n",
       "    '1.0',\n",
       "    '0.0',\n",
       "    '0.0',\n",
       "    '0.0',\n",
       "    '0.0',\n",
       "    '0.0',\n",
       "    '0.0',\n",
       "    '0.0',\n",
       "    '0.0',\n",
       "    '0.0',\n",
       "    '0.0',\n",
       "    '0.0',\n",
       "    '0.0',\n",
       "    '0.0',\n",
       "    '0.0',\n",
       "    '0.0',\n",
       "    '0.0',\n",
       "    '0.0',\n",
       "    '0.0',\n",
       "    '0.0',\n",
       "    '0.0',\n",
       "    '0.0',\n",
       "    '0.0',\n",
       "    '0.0'],\n",
       "   ['aa29e05e7900b1f42fe0a3a6347e79eed181d2abc19d0151c5019c03b8065d42',\n",
       "    'aa29e05e7900b1f42fe0a3a6347e79eed181d2abc19d0151c5019c03b8065d42',\n",
       "    'aa29e05e7900b1f42fe0a3a6347e79eed181d2abc19d0151c5019c03b8065d42',\n",
       "    'aa29e05e7900b1f42fe0a3a6347e79eed181d2abc19d0151c5019c03b8065d42',\n",
       "    'aa29e05e7900b1f42fe0a3a6347e79eed181d2abc19d0151c5019c03b8065d42',\n",
       "    'aa29e05e7900b1f42fe0a3a6347e79eed181d2abc19d0151c5019c03b8065d42',\n",
       "    'aa29e05e7900b1f42fe0a3a6347e79eed181d2abc19d0151c5019c03b8065d42',\n",
       "    'aa29e05e7900b1f42fe0a3a6347e79eed181d2abc19d0151c5019c03b8065d42',\n",
       "    'aa29e05e7900b1f42fe0a3a6347e79eed181d2abc19d0151c5019c03b8065d42',\n",
       "    'aa29e05e7900b1f42fe0a3a6347e79eed181d2abc19d0151c5019c03b8065d42',\n",
       "    'aa29e05e7900b1f42fe0a3a6347e79eed181d2abc19d0151c5019c03b8065d42',\n",
       "    'aa29e05e7900b1f42fe0a3a6347e79eed181d2abc19d0151c5019c03b8065d42',\n",
       "    'aa29e05e7900b1f42fe0a3a6347e79eed181d2abc19d0151c5019c03b8065d42',\n",
       "    'aa29e05e7900b1f42fe0a3a6347e79eed181d2abc19d0151c5019c03b8065d42',\n",
       "    'aa29e05e7900b1f42fe0a3a6347e79eed181d2abc19d0151c5019c03b8065d42',\n",
       "    'aa29e05e7900b1f42fe0a3a6347e79eed181d2abc19d0151c5019c03b8065d42',\n",
       "    'aa29e05e7900b1f42fe0a3a6347e79eed181d2abc19d0151c5019c03b8065d42',\n",
       "    'aa29e05e7900b1f42fe0a3a6347e79eed181d2abc19d0151c5019c03b8065d42',\n",
       "    'aa29e05e7900b1f42fe0a3a6347e79eed181d2abc19d0151c5019c03b8065d42',\n",
       "    'aa29e05e7900b1f42fe0a3a6347e79eed181d2abc19d0151c5019c03b8065d42',\n",
       "    'aa29e05e7900b1f42fe0a3a6347e79eed181d2abc19d0151c5019c03b8065d42',\n",
       "    'aa29e05e7900b1f42fe0a3a6347e79eed181d2abc19d0151c5019c03b8065d42',\n",
       "    'aa29e05e7900b1f42fe0a3a6347e79eed181d2abc19d0151c5019c03b8065d42',\n",
       "    'aa29e05e7900b1f42fe0a3a6347e79eed181d2abc19d0151c5019c03b8065d42',\n",
       "    'aa29e05e7900b1f42fe0a3a6347e79eed181d2abc19d0151c5019c03b8065d42']])]"
      ]
     },
     "execution_count": 67,
     "metadata": {},
     "output_type": "execute_result"
    }
   ],
   "source": [
    "events_data_test_adj = temp_pair_test_dict[1]\n",
    "events_data_test_adj = events_data_test_adj.leftOuterJoin(temp_pair_test_dict[2])\\\n",
    "                                           .map(lambda x: (x[0], list(x[1])))\n",
    "events_data_test_adj = events_data_test_adj.leftOuterJoin(temp_pair_test_dict[3])\\\n",
    "                                             .map(lambda x: (x[0], list(x[1])))\\\n",
    "                                             .map(lambda x: (x[0], [x[1][0][0], x[1][0][1], x[1][1]]))\n",
    "events_data_test_adj = events_data_test_adj.leftOuterJoin(temp_pair_test_dict[4])\\\n",
    "                                             .map(lambda x: (x[0], list(x[1])))\\\n",
    "                                             .map(lambda x: (x[0], [x[1][0][0], x[1][0][1], x[1][0][2], x[1][1]]))\n",
    "events_data_test_adj.take(1)"
   ]
  },
  {
   "cell_type": "code",
   "execution_count": 68,
   "metadata": {
    "ExecuteTime": {
     "end_time": "2019-02-25T01:57:39.303864Z",
     "start_time": "2019-02-25T01:57:39.245430Z"
    }
   },
   "outputs": [
    {
     "data": {
      "text/plain": [
       "[['7500399621368845766',\n",
       "  ['45',\n",
       "   '45',\n",
       "   '45',\n",
       "   '45',\n",
       "   '45',\n",
       "   '45',\n",
       "   '45',\n",
       "   '4',\n",
       "   '6',\n",
       "   '1',\n",
       "   '5',\n",
       "   '45',\n",
       "   '45',\n",
       "   '45',\n",
       "   '45',\n",
       "   '45',\n",
       "   '45',\n",
       "   '45',\n",
       "   '7',\n",
       "   '45',\n",
       "   '45',\n",
       "   '45',\n",
       "   '45',\n",
       "   '45',\n",
       "   '45',\n",
       "   '45',\n",
       "   '4',\n",
       "   '6',\n",
       "   '40',\n",
       "   '1',\n",
       "   '5',\n",
       "   '45',\n",
       "   '45',\n",
       "   '45',\n",
       "   '45',\n",
       "   '45',\n",
       "   '45',\n",
       "   '45',\n",
       "   '45',\n",
       "   '45',\n",
       "   '45'],\n",
       "  ['1543807781412',\n",
       "   '1543807868888',\n",
       "   '1543807891969',\n",
       "   '1543807952363',\n",
       "   '1543808000979',\n",
       "   '1543808080755',\n",
       "   '1543808135583',\n",
       "   '1543808222467',\n",
       "   '1543808224742',\n",
       "   '1543805928549',\n",
       "   '1543805932102',\n",
       "   '1543806043738',\n",
       "   '1543806090715',\n",
       "   '1543806154773',\n",
       "   '1543806235158',\n",
       "   '1543806281883',\n",
       "   '1543806310789',\n",
       "   '1543806505729',\n",
       "   '1543806612187',\n",
       "   '1543806612218',\n",
       "   '1543806632190',\n",
       "   '1543806693806',\n",
       "   '1543806721333',\n",
       "   '1543806782611',\n",
       "   '1543806826499',\n",
       "   '1543806902142',\n",
       "   '1543806933446',\n",
       "   '1543806935698',\n",
       "   '1543806946555',\n",
       "   '1543806958347',\n",
       "   '1543806960374',\n",
       "   '1543807047561',\n",
       "   '1543807095251',\n",
       "   '1543807142845',\n",
       "   '1543807160575',\n",
       "   '1543807186494',\n",
       "   '1543807268220',\n",
       "   '1543807382249',\n",
       "   '1543807546447',\n",
       "   '1543807608042',\n",
       "   '1543807638541'],\n",
       "  ['0.0',\n",
       "   '0.0',\n",
       "   '0.0',\n",
       "   '0.0',\n",
       "   '0.0',\n",
       "   '0.0',\n",
       "   '0.0',\n",
       "   '0.0',\n",
       "   '0.0',\n",
       "   '0.0',\n",
       "   '1.0',\n",
       "   '0.0',\n",
       "   '0.0',\n",
       "   '0.0',\n",
       "   '0.0',\n",
       "   '0.0',\n",
       "   '0.0',\n",
       "   '0.0',\n",
       "   '20.0',\n",
       "   '0.0',\n",
       "   '0.0',\n",
       "   '0.0',\n",
       "   '0.0',\n",
       "   '0.0',\n",
       "   '0.0',\n",
       "   '0.0',\n",
       "   '0.0',\n",
       "   '0.0',\n",
       "   '0.0',\n",
       "   '0.0',\n",
       "   '1.0',\n",
       "   '0.0',\n",
       "   '0.0',\n",
       "   '0.0',\n",
       "   '0.0',\n",
       "   '0.0',\n",
       "   '0.0',\n",
       "   '0.0',\n",
       "   '0.0',\n",
       "   '0.0',\n",
       "   '0.0'],\n",
       "  '8011a278806fccadd558749bac21d10050f56ec26a74134ecce8c4b0641aac7b']]"
      ]
     },
     "execution_count": 68,
     "metadata": {},
     "output_type": "execute_result"
    }
   ],
   "source": [
    "events_data_test_adj2 = events_data_test_adj.map(lambda x: [x[0], x[1][0], x[1][1], x[1][2], \n",
    "                                                            most_common(x[1][3])])\n",
    "events_data_test_adj2.take(1)"
   ]
  },
  {
   "cell_type": "code",
   "execution_count": 69,
   "metadata": {
    "ExecuteTime": {
     "end_time": "2019-02-25T01:57:39.360936Z",
     "start_time": "2019-02-25T01:57:39.307758Z"
    }
   },
   "outputs": [
    {
     "data": {
      "text/plain": [
       "[['3324869504369203093',\n",
       "  [0],\n",
       "  16,\n",
       "  ['1543984333715',\n",
       "   '1543984342092',\n",
       "   '1543984342097',\n",
       "   '1543984395785',\n",
       "   '1543984427556',\n",
       "   '1543984499133',\n",
       "   '1543984587594',\n",
       "   '1543984639267',\n",
       "   '1543984710960',\n",
       "   '1543984736530',\n",
       "   '1543984798711',\n",
       "   '1543984801475',\n",
       "   '1543984810973',\n",
       "   '1543984812794',\n",
       "   '1543984861422',\n",
       "   '1543984862638'],\n",
       "  ['1.393',\n",
       "   '20.0',\n",
       "   '0.0',\n",
       "   '0.0',\n",
       "   '0.0',\n",
       "   '0.0',\n",
       "   '0.0',\n",
       "   '0.0',\n",
       "   '0.0',\n",
       "   '0.0',\n",
       "   '0.0',\n",
       "   '0.0',\n",
       "   '0.0',\n",
       "   '0.0',\n",
       "   '0.0',\n",
       "   '0.0'],\n",
       "  'c137d015d49e967f937597a9b50e6d5b8e5611e2ed1dc05b0c67c5230cd846d4']]"
      ]
     },
     "execution_count": 69,
     "metadata": {},
     "output_type": "execute_result"
    }
   ],
   "source": [
    "events_data_test_adj3 = events_data_test_adj2.map(lambda x: [x[0], findPur(x[1]), len(x[1]), x[2], x[3], x[4]])\n",
    "events_data_test_adj3.filter(lambda x: x[1]!=[]).take(1)"
   ]
  },
  {
   "cell_type": "code",
   "execution_count": 70,
   "metadata": {
    "ExecuteTime": {
     "end_time": "2019-02-25T01:57:39.419744Z",
     "start_time": "2019-02-25T01:57:39.364927Z"
    }
   },
   "outputs": [
    {
     "data": {
      "text/plain": [
       "[['c137d015d49e967f937597a9b50e6d5b8e5611e2ed1dc05b0c67c5230cd846d4',\n",
       "  '3324869504369203093',\n",
       "  16,\n",
       "  1,\n",
       "  528923.0,\n",
       "  1.393]]"
      ]
     },
     "execution_count": 70,
     "metadata": {},
     "output_type": "execute_result"
    }
   ],
   "source": [
    "events_data_test_adj4 = events_data_test_adj3.map(lambda x: [x[5], x[0], x[2], len(x[1]),\n",
    "                                                               float(max(x[3]))-float(min(x[3])), \n",
    "                                                               moneySum(x[4], x[1])])\n",
    "events_data_test_adj4.filter(lambda x: x[3]>0).take(1)"
   ]
  },
  {
   "cell_type": "code",
   "execution_count": 71,
   "metadata": {
    "ExecuteTime": {
     "end_time": "2019-02-25T01:57:39.501541Z",
     "start_time": "2019-02-25T01:57:39.423780Z"
    }
   },
   "outputs": [],
   "source": [
    "temp_pair_test_dict_2 = {}\n",
    "for i in range(6):\n",
    "    if i != 0:\n",
    "        temp_pair = events_data_test_adj4.map(lambda x: (x[0], x[i]))\\\n",
    "                                    .groupByKey().map(lambda x: [x[0], list(x[1])])\n",
    "        temp_pair_test_dict_2[i] = temp_pair"
   ]
  },
  {
   "cell_type": "code",
   "execution_count": 72,
   "metadata": {
    "ExecuteTime": {
     "end_time": "2019-02-25T01:58:17.997364Z",
     "start_time": "2019-02-25T01:57:39.504737Z"
    }
   },
   "outputs": [
    {
     "data": {
      "text/plain": [
       "[('a14d6729d06b71565cb88ac8d5f0b60970d68ba5831709391ce480d7fe79b06c',\n",
       "  [['4064445969441574723',\n",
       "    '2160171628568031558',\n",
       "    '6480985702993295252',\n",
       "    '841216543603380687'],\n",
       "   [142, 6, 74, 2],\n",
       "   [0, 0, 0, 0],\n",
       "   [5193.0, 3199431.0, 6234163.0, 358229.0],\n",
       "   [0.0, 0.0, 0.0, 0.0]])]"
      ]
     },
     "execution_count": 72,
     "metadata": {},
     "output_type": "execute_result"
    }
   ],
   "source": [
    "events_data_test_adj5 = temp_pair_test_dict_2[1]\n",
    "events_data_test_adj5 = events_data_test_adj5.leftOuterJoin(temp_pair_test_dict_2[2])\\\n",
    "                                             .map(lambda x: (x[0], list(x[1])))\n",
    "events_data_test_adj5 = events_data_test_adj5.leftOuterJoin(temp_pair_test_dict_2[3])\\\n",
    "                                             .map(lambda x: (x[0], list(x[1])))\\\n",
    "                                             .map(lambda x: (x[0], [x[1][0][0], x[1][0][1], x[1][1]]))\n",
    "events_data_test_adj5 = events_data_test_adj5.leftOuterJoin(temp_pair_test_dict_2[4])\\\n",
    "                                             .map(lambda x: (x[0], list(x[1])))\\\n",
    "                                             .map(lambda x: (x[0], [x[1][0][0], x[1][0][1], x[1][0][2], x[1][1]]))\n",
    "events_data_test_adj5 = events_data_test_adj5.leftOuterJoin(temp_pair_test_dict_2[5])\\\n",
    "                                             .map(lambda x: (x[0], list(x[1])))\\\n",
    "                                             .map(lambda x: (x[0], [x[1][0][0], x[1][0][1], x[1][0][2], \n",
    "                                                                    x[1][0][3], x[1][1]]))\n",
    "events_data_test_adj5.take(1)"
   ]
  },
  {
   "cell_type": "code",
   "execution_count": 73,
   "metadata": {
    "ExecuteTime": {
     "end_time": "2019-02-25T01:58:18.115340Z",
     "start_time": "2019-02-25T01:58:18.000265Z"
    }
   },
   "outputs": [
    {
     "data": {
      "text/plain": [
       "[['a14d6729d06b71565cb88ac8d5f0b60970d68ba5831709391ce480d7fe79b06c',\n",
       "  4,\n",
       "  224,\n",
       "  40.0,\n",
       "  0,\n",
       "  0.0,\n",
       "  1778830.0]]"
      ]
     },
     "execution_count": 73,
     "metadata": {},
     "output_type": "execute_result"
    }
   ],
   "source": [
    "events_data_test_adj6 = events_data_test_adj5.map(lambda x: [x[0], \n",
    "                                                               len(x[1][0]),\n",
    "                                                               sum(x[1][1]),\n",
    "                                                               getMedian(x[1][1]),\n",
    "                                                               sum(x[1][2]), \n",
    "                                                               sum(x[1][4]),\n",
    "                                                               getMedian(x[1][3])])\n",
    "events_data_test_adj6.take(1)"
   ]
  },
  {
   "cell_type": "code",
   "execution_count": 74,
   "metadata": {
    "ExecuteTime": {
     "end_time": "2019-02-25T01:58:18.234606Z",
     "start_time": "2019-02-25T01:58:18.119336Z"
    }
   },
   "outputs": [
    {
     "data": {
      "text/plain": [
       "['a14d6729d06b71565cb88ac8d5f0b60970d68ba5831709391ce480d7fe79b06c,4,224,40.0,0,0.0,1778830.0']"
      ]
     },
     "execution_count": 74,
     "metadata": {},
     "output_type": "execute_result"
    }
   ],
   "source": [
    "events_data_test_adj7 = events_data_test_adj6.map(lambda x: ','.join([str(y) for y in x]))\n",
    "events_data_test_adj7.take(1)"
   ]
  },
  {
   "cell_type": "code",
   "execution_count": 75,
   "metadata": {
    "ExecuteTime": {
     "end_time": "2019-02-25T01:58:22.662835Z",
     "start_time": "2019-02-25T01:58:18.238644Z"
    }
   },
   "outputs": [],
   "source": [
    "with open('test_last_14_days.csv', 'w') as f:\n",
    "    for line in events_data_test_adj7.collect():\n",
    "        f.write(line)\n",
    "        f.write('\\n')"
   ]
  },
  {
   "cell_type": "code",
   "execution_count": 76,
   "metadata": {
    "ExecuteTime": {
     "end_time": "2019-02-25T01:58:31.396392Z",
     "start_time": "2019-02-25T01:58:22.667274Z"
    }
   },
   "outputs": [
    {
     "name": "stdout",
     "output_type": "stream",
     "text": [
      "207601\n",
      "81316\n"
     ]
    }
   ],
   "source": [
    "print(events_data_train_adj7.count())\n",
    "print(events_data_test_adj7.count())"
   ]
  },
  {
   "cell_type": "code",
   "execution_count": 77,
   "metadata": {
    "ExecuteTime": {
     "end_time": "2019-02-25T01:58:32.338566Z",
     "start_time": "2019-02-25T01:58:31.400565Z"
    }
   },
   "outputs": [],
   "source": [
    "sc.stop()"
   ]
  },
  {
   "cell_type": "code",
   "execution_count": null,
   "metadata": {},
   "outputs": [],
   "source": []
  }
 ],
 "metadata": {
  "kernelspec": {
   "display_name": "Python 2",
   "language": "python",
   "name": "python2"
  },
  "language_info": {
   "codemirror_mode": {
    "name": "ipython",
    "version": 2
   },
   "file_extension": ".py",
   "mimetype": "text/x-python",
   "name": "python",
   "nbconvert_exporter": "python",
   "pygments_lexer": "ipython2",
   "version": "2.7.15"
  }
 },
 "nbformat": 4,
 "nbformat_minor": 2
}
