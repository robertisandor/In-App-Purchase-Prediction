{
 "cells": [
  {
   "cell_type": "code",
   "execution_count": 35,
   "metadata": {
    "ExecuteTime": {
     "end_time": "2019-02-25T00:30:45.856676Z",
     "start_time": "2019-02-25T00:30:45.849211Z"
    }
   },
   "outputs": [],
   "source": [
    "import os\n",
    "import numpy as np\n",
    "import timeit\n",
    "import pyspark\n",
    "import pandas as pd\n",
    "import s3fs\n",
    "import time\n",
    "import ast\n",
    "import operator\n",
    "from datetime import datetime\n",
    "import statistics"
   ]
  },
  {
   "cell_type": "code",
   "execution_count": 2,
   "metadata": {
    "ExecuteTime": {
     "end_time": "2019-02-24T23:20:32.471469Z",
     "start_time": "2019-02-24T23:20:32.464622Z"
    }
   },
   "outputs": [],
   "source": [
    "sc = pyspark.SparkContext.getOrCreate()\n",
    "ss = pyspark.sql.SparkSession.builder.getOrCreate()"
   ]
  },
  {
   "cell_type": "markdown",
   "metadata": {},
   "source": [
    "## Set up the data address book"
   ]
  },
  {
   "cell_type": "code",
   "execution_count": 3,
   "metadata": {
    "ExecuteTime": {
     "end_time": "2019-02-24T23:20:49.055797Z",
     "start_time": "2019-02-24T23:20:49.037082Z"
    }
   },
   "outputs": [
    {
     "data": {
      "text/plain": [
       "{'attributes': 's3a://msds630-kaggle-competition/attributes.csv',\n",
       " 'events': 's3a://msds630-kaggle-competition/events.csv',\n",
       " 'messages': 's3a://msds630-kaggle-competition/messages.csv',\n",
       " 'sessions': 's3a://msds630-kaggle-competition/sessions.csv'}"
      ]
     },
     "execution_count": 3,
     "metadata": {},
     "output_type": "execute_result"
    }
   ],
   "source": [
    "s3_address = \"s3a://msds630-kaggle-competition/\"\n",
    "dataset_addr_book = {}\n",
    "dataset_name_list = [\"events\", \"messages\", \"attributes\", \"sessions\"]\n",
    "for name in dataset_name_list:\n",
    "    dataset_addr_book[name] = \"\".join([s3_address, name, \".csv\"])\n",
    "\n",
    "dataset_addr_book"
   ]
  },
  {
   "cell_type": "markdown",
   "metadata": {},
   "source": [
    "## Load events"
   ]
  },
  {
   "cell_type": "code",
   "execution_count": 4,
   "metadata": {
    "ExecuteTime": {
     "end_time": "2019-02-24T23:21:20.391641Z",
     "start_time": "2019-02-24T23:21:08.830016Z"
    }
   },
   "outputs": [
    {
     "name": "stdout",
     "output_type": "stream",
     "text": [
      "['app_id', 'session_id', 'event', 'event_timestamp', 'event_value', 'user_id_hash']\n",
      "6\n"
     ]
    }
   ],
   "source": [
    "events_rdd = sc.textFile(dataset_addr_book[\"events\"])\\\n",
    "               .map(lambda line : line.encode('ascii', 'ignore'))\n",
    "cols_events = events_rdd.map(lambda x: x.split(',')).take(1)[0]\n",
    "print(cols_events)\n",
    "print(len(cols_events))"
   ]
  },
  {
   "cell_type": "code",
   "execution_count": 5,
   "metadata": {
    "ExecuteTime": {
     "end_time": "2019-02-24T23:21:58.727696Z",
     "start_time": "2019-02-24T23:21:57.735615Z"
    }
   },
   "outputs": [
    {
     "data": {
      "text/plain": [
       "[['4724682771660800',\n",
       "  '5558845121177764917',\n",
       "  '45',\n",
       "  '1542215397132',\n",
       "  '0.0',\n",
       "  '9943447915df3a45fd6720a026af905b6da6b56a37701b8b2629802e9a541006']]"
      ]
     },
     "execution_count": 5,
     "metadata": {},
     "output_type": "execute_result"
    }
   ],
   "source": [
    "events_data = events_rdd.filter(lambda x: 'app_id' not in x)\\\n",
    "                        .map(lambda x: x.split(','))\n",
    "events_data.take(1)"
   ]
  },
  {
   "cell_type": "code",
   "execution_count": 8,
   "metadata": {
    "ExecuteTime": {
     "end_time": "2019-02-24T23:23:19.273290Z",
     "start_time": "2019-02-24T23:23:19.265341Z"
    }
   },
   "outputs": [
    {
     "data": {
      "text/plain": [
       "['session_id', 'event', 'event_timestamp', 'event_value', 'user_id_hash']"
      ]
     },
     "execution_count": 8,
     "metadata": {},
     "output_type": "execute_result"
    }
   ],
   "source": [
    "cols_events_adj = cols_events[1:] # Drop app_id\n",
    "cols_events_adj"
   ]
  },
  {
   "cell_type": "code",
   "execution_count": 9,
   "metadata": {
    "ExecuteTime": {
     "end_time": "2019-02-24T23:23:39.473425Z",
     "start_time": "2019-02-24T23:23:31.772326Z"
    }
   },
   "outputs": [
    {
     "data": {
      "text/plain": [
       "[['5558845121177764917',\n",
       "  '45',\n",
       "  '1542215397132',\n",
       "  '0.0',\n",
       "  '9943447915df3a45fd6720a026af905b6da6b56a37701b8b2629802e9a541006']]"
      ]
     },
     "execution_count": 9,
     "metadata": {},
     "output_type": "execute_result"
    }
   ],
   "source": [
    "events_data_adj = events_data.map(lambda x: x[1:]) # Drop app_id\n",
    "events_data_adj.take(1)"
   ]
  },
  {
   "cell_type": "code",
   "execution_count": 10,
   "metadata": {
    "ExecuteTime": {
     "end_time": "2019-02-24T23:23:51.711226Z",
     "start_time": "2019-02-24T23:23:51.701127Z"
    }
   },
   "outputs": [
    {
     "data": {
      "text/plain": [
       "'2018-11-08 00:53:44'"
      ]
     },
     "execution_count": 10,
     "metadata": {},
     "output_type": "execute_result"
    }
   ],
   "source": [
    "def convertTime(ts_str):\n",
    "    return datetime.utcfromtimestamp(int(ts_str)/1000.0).strftime('%Y-%m-%d %H:%M:%S')\n",
    "convertTime('1541638424150')"
   ]
  },
  {
   "cell_type": "markdown",
   "metadata": {},
   "source": [
    "## Train"
   ]
  },
  {
   "cell_type": "code",
   "execution_count": 11,
   "metadata": {
    "ExecuteTime": {
     "end_time": "2019-02-24T23:25:40.187510Z",
     "start_time": "2019-02-24T23:25:32.536894Z"
    }
   },
   "outputs": [
    {
     "data": {
      "text/plain": [
       "[['5558845121177764917',\n",
       "  '45',\n",
       "  '1542215397132',\n",
       "  '0.0',\n",
       "  '9943447915df3a45fd6720a026af905b6da6b56a37701b8b2629802e9a541006']]"
      ]
     },
     "execution_count": 11,
     "metadata": {},
     "output_type": "execute_result"
    }
   ],
   "source": [
    "events_data_train = events_data_adj.filter(lambda x: convertTime(x[2])[:10] < '2018-12-02')\n",
    "events_data_train.take(1)"
   ]
  },
  {
   "cell_type": "code",
   "execution_count": 12,
   "metadata": {
    "ExecuteTime": {
     "end_time": "2019-02-24T23:27:22.920276Z",
     "start_time": "2019-02-24T23:27:22.751631Z"
    }
   },
   "outputs": [],
   "source": [
    "temp_pair_train_dict = {}\n",
    "for i in range(6):\n",
    "    if i != 0:\n",
    "        temp_pair = events_data_train.map(lambda x: (x[0], x[i]))\\\n",
    "                                    .groupByKey().map(lambda x: [x[0], list(x[1])])\n",
    "        temp_pair_train_dict[i] = temp_pair"
   ]
  },
  {
   "cell_type": "code",
   "execution_count": 13,
   "metadata": {
    "ExecuteTime": {
     "end_time": "2019-02-24T23:35:00.648020Z",
     "start_time": "2019-02-24T23:29:42.537289Z"
    }
   },
   "outputs": [
    {
     "data": {
      "text/plain": [
       "[('8661029443064028323',\n",
       "  [['.m6335456823869440', '45', '45'],\n",
       "   ['1539520579389', '1539520621005', '1539520757941'],\n",
       "   ['0.0', '0.0', '0.0'],\n",
       "   ['cb0dcb8889258135825da0d3c099c1ac13525e4093fc8e040554e8e8a026e958',\n",
       "    'cb0dcb8889258135825da0d3c099c1ac13525e4093fc8e040554e8e8a026e958',\n",
       "    'cb0dcb8889258135825da0d3c099c1ac13525e4093fc8e040554e8e8a026e958']])]"
      ]
     },
     "execution_count": 13,
     "metadata": {},
     "output_type": "execute_result"
    }
   ],
   "source": [
    "events_data_train_adj = temp_pair_train_dict[1]\n",
    "events_data_train_adj = events_data_train_adj.leftOuterJoin(temp_pair_train_dict[2])\\\n",
    "                                             .map(lambda x: (x[0], list(x[1])))\n",
    "events_data_train_adj = events_data_train_adj.leftOuterJoin(temp_pair_train_dict[3])\\\n",
    "                                             .map(lambda x: (x[0], list(x[1])))\\\n",
    "                                             .map(lambda x: (x[0], [x[1][0][0], x[1][0][1], x[1][1]]))\n",
    "events_data_train_adj = events_data_train_adj.leftOuterJoin(temp_pair_train_dict[4])\\\n",
    "                                             .map(lambda x: (x[0], list(x[1])))\\\n",
    "                                             .map(lambda x: (x[0], [x[1][0][0], x[1][0][1], x[1][0][2], x[1][1]]))\n",
    "events_data_train_adj.take(1)"
   ]
  },
  {
   "cell_type": "code",
   "execution_count": 14,
   "metadata": {
    "ExecuteTime": {
     "end_time": "2019-02-24T23:35:00.655570Z",
     "start_time": "2019-02-24T23:35:00.650895Z"
    }
   },
   "outputs": [],
   "source": [
    "def most_common(lst):\n",
    "    return max(set(lst), key=lst.count)"
   ]
  },
  {
   "cell_type": "code",
   "execution_count": 15,
   "metadata": {
    "ExecuteTime": {
     "end_time": "2019-02-24T23:35:29.565746Z",
     "start_time": "2019-02-24T23:35:29.423879Z"
    }
   },
   "outputs": [
    {
     "data": {
      "text/plain": [
       "[['8661029443064028323',\n",
       "  ['.m6335456823869440', '45', '45'],\n",
       "  ['1539520579389', '1539520621005', '1539520757941'],\n",
       "  ['0.0', '0.0', '0.0'],\n",
       "  'cb0dcb8889258135825da0d3c099c1ac13525e4093fc8e040554e8e8a026e958']]"
      ]
     },
     "execution_count": 15,
     "metadata": {},
     "output_type": "execute_result"
    }
   ],
   "source": [
    "events_data_train_adj2 = events_data_train_adj.map(lambda x: [x[0], x[1][0], x[1][1], x[1][2], \n",
    "                                                              most_common(x[1][3])])\n",
    "events_data_train_adj2.take(1)"
   ]
  },
  {
   "cell_type": "code",
   "execution_count": 16,
   "metadata": {
    "ExecuteTime": {
     "end_time": "2019-02-24T23:37:09.930474Z",
     "start_time": "2019-02-24T23:37:09.923417Z"
    }
   },
   "outputs": [],
   "source": [
    "def findPur(event_list):\n",
    "    pur_list = []\n",
    "    for i in range(len(event_list)):\n",
    "        if event_list[i] == '8':\n",
    "            pur_list.append(i)\n",
    "    return pur_list     "
   ]
  },
  {
   "cell_type": "code",
   "execution_count": 20,
   "metadata": {
    "ExecuteTime": {
     "end_time": "2019-02-24T23:39:08.796478Z",
     "start_time": "2019-02-24T23:39:08.635737Z"
    }
   },
   "outputs": [
    {
     "data": {
      "text/plain": [
       "[['5206351256240882428',\n",
       "  [17],\n",
       "  71,\n",
       "  ['1541440544923',\n",
       "   '1541440546510',\n",
       "   '1541440704884',\n",
       "   '1541440766940',\n",
       "   '1541440784587',\n",
       "   '1541440856780',\n",
       "   '1541440875425',\n",
       "   '1541440914174',\n",
       "   '1541440914184',\n",
       "   '1541441145975',\n",
       "   '1541441187897',\n",
       "   '1541441242396',\n",
       "   '1541441260609',\n",
       "   '1541441337094',\n",
       "   '1541441349977',\n",
       "   '1541441400894',\n",
       "   '1541441508103',\n",
       "   '1541441576911',\n",
       "   '1541441599454',\n",
       "   '1541441599464',\n",
       "   '1541441662104',\n",
       "   '1541441671812',\n",
       "   '1541441691773',\n",
       "   '1541441705190',\n",
       "   '1541441717321',\n",
       "   '1541441733328',\n",
       "   '1541441748924',\n",
       "   '1541441765433',\n",
       "   '1541441791761',\n",
       "   '1541441808805',\n",
       "   '1541441826782',\n",
       "   '1541441848370',\n",
       "   '1541441867950',\n",
       "   '1541441881927',\n",
       "   '1541441893226',\n",
       "   '1541441915422',\n",
       "   '1541441937738',\n",
       "   '1541441961818',\n",
       "   '1541442025527',\n",
       "   '1541442027952',\n",
       "   '1541442034922',\n",
       "   '1541442036351',\n",
       "   '1541442061742',\n",
       "   '1541442063154',\n",
       "   '1541442081941',\n",
       "   '1541442150717',\n",
       "   '1541442191852',\n",
       "   '1541442244202',\n",
       "   '1541442255648',\n",
       "   '1541442287603',\n",
       "   '1541442298239',\n",
       "   '1541442348012',\n",
       "   '1541442359812',\n",
       "   '1541442369813',\n",
       "   '1541442380735',\n",
       "   '1541442394084',\n",
       "   '1541442408096',\n",
       "   '1541442451049',\n",
       "   '1541442512251',\n",
       "   '1541442545453',\n",
       "   '1541442600128',\n",
       "   '1541442664250',\n",
       "   '1541442678414',\n",
       "   '1541442722040',\n",
       "   '1541442750189',\n",
       "   '1541442804769',\n",
       "   '1541442807551',\n",
       "   '1541442814987',\n",
       "   '1541442816424',\n",
       "   '1541442849340',\n",
       "   '1541442850574'],\n",
       "  ['0.0',\n",
       "   '1.0',\n",
       "   '0.0',\n",
       "   '0.0',\n",
       "   '0.0',\n",
       "   '0.0',\n",
       "   '0.0',\n",
       "   '16.0',\n",
       "   '0.0',\n",
       "   '0.0',\n",
       "   '0.0',\n",
       "   '0.0',\n",
       "   '0.0',\n",
       "   '0.0',\n",
       "   '0.0',\n",
       "   '0.0',\n",
       "   '0.0',\n",
       "   '3.492999792098999',\n",
       "   '17.0',\n",
       "   '0.0',\n",
       "   '0.0',\n",
       "   '0.0',\n",
       "   '0.0',\n",
       "   '0.0',\n",
       "   '0.0',\n",
       "   '0.0',\n",
       "   '0.0',\n",
       "   '0.0',\n",
       "   '0.0',\n",
       "   '0.0',\n",
       "   '0.0',\n",
       "   '0.0',\n",
       "   '0.0',\n",
       "   '0.0',\n",
       "   '0.0',\n",
       "   '0.0',\n",
       "   '0.0',\n",
       "   '0.0',\n",
       "   '0.0',\n",
       "   '0.0',\n",
       "   '0.0',\n",
       "   '0.0',\n",
       "   '0.0',\n",
       "   '0.0',\n",
       "   '1.0',\n",
       "   '0.0',\n",
       "   '0.0',\n",
       "   '0.0',\n",
       "   '0.0',\n",
       "   '0.0',\n",
       "   '0.0',\n",
       "   '0.0',\n",
       "   '0.0',\n",
       "   '0.0',\n",
       "   '0.0',\n",
       "   '0.0',\n",
       "   '0.0',\n",
       "   '0.0',\n",
       "   '0.0',\n",
       "   '0.0',\n",
       "   '0.0',\n",
       "   '0.0',\n",
       "   '0.0',\n",
       "   '0.0',\n",
       "   '0.0',\n",
       "   '0.0',\n",
       "   '0.0',\n",
       "   '0.0',\n",
       "   '0.0',\n",
       "   '0.0',\n",
       "   '0.0'],\n",
       "  '944395d2e81808f6b7cc659f1a55040f03aab99ffdfa4c1a60811e4d05ddee3c']]"
      ]
     },
     "execution_count": 20,
     "metadata": {},
     "output_type": "execute_result"
    }
   ],
   "source": [
    "events_data_train_adj3 = events_data_train_adj2.map(lambda x: [x[0], findPur(x[1]), len(x[1]), x[2], x[3], x[4]])\n",
    "events_data_train_adj3.filter(lambda x: x[1]!=[]).take(1)"
   ]
  },
  {
   "cell_type": "code",
   "execution_count": 21,
   "metadata": {
    "ExecuteTime": {
     "end_time": "2019-02-24T23:43:57.845558Z",
     "start_time": "2019-02-24T23:43:57.833309Z"
    }
   },
   "outputs": [
    {
     "data": {
      "text/plain": [
       "2.0"
      ]
     },
     "execution_count": 21,
     "metadata": {},
     "output_type": "execute_result"
    }
   ],
   "source": [
    "def moneySum(value_list ,idx_list):\n",
    "    if idx_list == []:\n",
    "        return 0.0\n",
    "    moneySum = 0.0\n",
    "    for idx in idx_list:\n",
    "        moneySum += float(value_list[idx])\n",
    "    return moneySum\n",
    "        \n",
    "a = ['1.0','1.0','5.0']\n",
    "b = [0,1]\n",
    "moneySum(a,b)"
   ]
  },
  {
   "cell_type": "code",
   "execution_count": 27,
   "metadata": {
    "ExecuteTime": {
     "end_time": "2019-02-24T23:46:41.826289Z",
     "start_time": "2019-02-24T23:46:41.694631Z"
    }
   },
   "outputs": [
    {
     "data": {
      "text/plain": [
       "[['9f9513e92b24a6aecee48f0367e7ca2b0b2a6a91c597406b7306ff7bcbdbc670',\n",
       "  '141583788005273790',\n",
       "  24,\n",
       "  1,\n",
       "  799680.0,\n",
       "  3.492999792098999]]"
      ]
     },
     "execution_count": 27,
     "metadata": {},
     "output_type": "execute_result"
    }
   ],
   "source": [
    "events_data_train_adj4 = events_data_train_adj3.map(lambda x: [x[5], x[0], x[2], len(x[1]),\n",
    "                                                               float(max(x[3]))-float(min(x[3])), \n",
    "                                                               moneySum(x[4], x[1])])\n",
    "events_data_train_adj4.filter(lambda x: x[3]>0).take(1)"
   ]
  },
  {
   "cell_type": "code",
   "execution_count": 30,
   "metadata": {
    "ExecuteTime": {
     "end_time": "2019-02-25T00:04:38.835114Z",
     "start_time": "2019-02-25T00:04:38.751205Z"
    }
   },
   "outputs": [],
   "source": [
    "temp_pair_train_dict_2 = {}\n",
    "for i in range(6):\n",
    "    if i != 0:\n",
    "        temp_pair = events_data_train_adj4.map(lambda x: (x[0], x[i]))\\\n",
    "                                    .groupByKey().map(lambda x: [x[0], list(x[1])])\n",
    "        temp_pair_train_dict_2[i] = temp_pair"
   ]
  },
  {
   "cell_type": "code",
   "execution_count": 31,
   "metadata": {
    "ExecuteTime": {
     "end_time": "2019-02-25T00:10:14.707572Z",
     "start_time": "2019-02-25T00:07:55.126879Z"
    }
   },
   "outputs": [
    {
     "data": {
      "text/plain": [
       "[('c39d635765ff135752a20fea4283e35edb76f5cd0babe1419a3ab82ac2195fd0',\n",
       "  [['424204521664520092',\n",
       "    '450771625013221031',\n",
       "    '763256531593533297',\n",
       "    '4839434791942809118'],\n",
       "   [33, 1, 16, 29],\n",
       "   [0, 0, 0, 0],\n",
       "   [1728678.0, 1461763.0, 0.0, 701483.0],\n",
       "   [0.0, 0.0, 0.0, 0.0]])]"
      ]
     },
     "execution_count": 31,
     "metadata": {},
     "output_type": "execute_result"
    }
   ],
   "source": [
    "events_data_train_adj5 = temp_pair_train_dict_2[1]\n",
    "events_data_train_adj5 = events_data_train_adj5.leftOuterJoin(temp_pair_train_dict_2[2])\\\n",
    "                                             .map(lambda x: (x[0], list(x[1])))\n",
    "events_data_train_adj5 = events_data_train_adj5.leftOuterJoin(temp_pair_train_dict_2[3])\\\n",
    "                                             .map(lambda x: (x[0], list(x[1])))\\\n",
    "                                             .map(lambda x: (x[0], [x[1][0][0], x[1][0][1], x[1][1]]))\n",
    "events_data_train_adj5 = events_data_train_adj5.leftOuterJoin(temp_pair_train_dict_2[4])\\\n",
    "                                             .map(lambda x: (x[0], list(x[1])))\\\n",
    "                                             .map(lambda x: (x[0], [x[1][0][0], x[1][0][1], x[1][0][2], x[1][1]]))\n",
    "events_data_train_adj5 = events_data_train_adj5.leftOuterJoin(temp_pair_train_dict_2[5])\\\n",
    "                                             .map(lambda x: (x[0], list(x[1])))\\\n",
    "                                             .map(lambda x: (x[0], [x[1][0][0], x[1][0][1], x[1][0][2], \n",
    "                                                                    x[1][0][3], x[1][1]]))\n",
    "events_data_train_adj5.take(1)"
   ]
  },
  {
   "cell_type": "code",
   "execution_count": 52,
   "metadata": {
    "ExecuteTime": {
     "end_time": "2019-02-25T00:40:49.160555Z",
     "start_time": "2019-02-25T00:40:49.149781Z"
    }
   },
   "outputs": [
    {
     "name": "stdout",
     "output_type": "stream",
     "text": [
      "1\n",
      "1.5\n"
     ]
    }
   ],
   "source": [
    "def getMedian(lst):\n",
    "    if lst == []:\n",
    "        return 0.0\n",
    "    elif len(lst) % 2 == 1:\n",
    "        return sorted(lst)[(len(lst)-1)/2]\n",
    "    else:\n",
    "        lst = sorted(lst)\n",
    "        mid = (len(lst)-1)/2\n",
    "        return (lst[mid]+lst[mid+1])/2.0\n",
    "    \n",
    "print(getMedian([0,1,2,]))\n",
    "print(getMedian([0,1,2,3]))"
   ]
  },
  {
   "cell_type": "code",
   "execution_count": 59,
   "metadata": {
    "ExecuteTime": {
     "end_time": "2019-02-25T00:47:26.367358Z",
     "start_time": "2019-02-25T00:47:20.714853Z"
    }
   },
   "outputs": [
    {
     "data": {
      "text/plain": [
       "[['c39d635765ff135752a20fea4283e35edb76f5cd0babe1419a3ab82ac2195fd0',\n",
       "  4,\n",
       "  79,\n",
       "  22.5,\n",
       "  0,\n",
       "  0.0,\n",
       "  1081623.0]]"
      ]
     },
     "execution_count": 59,
     "metadata": {},
     "output_type": "execute_result"
    }
   ],
   "source": [
    "events_data_train_adj6 = events_data_train_adj5.map(lambda x: [x[0], \n",
    "                                                               len(x[1][0]),\n",
    "                                                               sum(x[1][1]),\n",
    "                                                               getMedian(x[1][1]),\n",
    "                                                               sum(x[1][2]), \n",
    "                                                               sum(x[1][4]),\n",
    "                                                               getMedian(x[1][3])])\n",
    "events_data_train_adj6.take(1)"
   ]
  },
  {
   "cell_type": "markdown",
   "metadata": {},
   "source": [
    "## Data Dictionary\n",
    "0 - user_id  \n",
    "1 - total number of sessions  \n",
    "2 - total number of events  \n",
    "3 - median number of events  \n",
    "4 - total sum of purchases  \n",
    "5 - total amount of purchases  \n",
    "6 - median session duration"
   ]
  },
  {
   "cell_type": "code",
   "execution_count": 60,
   "metadata": {
    "ExecuteTime": {
     "end_time": "2019-02-25T00:49:42.800577Z",
     "start_time": "2019-02-25T00:49:37.552992Z"
    }
   },
   "outputs": [
    {
     "data": {
      "text/plain": [
       "['c39d635765ff135752a20fea4283e35edb76f5cd0babe1419a3ab82ac2195fd0,4,79,22.5,0,0.0,1081623.0']"
      ]
     },
     "execution_count": 60,
     "metadata": {},
     "output_type": "execute_result"
    }
   ],
   "source": [
    "events_data_train_adj7 = events_data_train_adj6.map(lambda x: ','.join([str(y) for y in x]))\n",
    "events_data_train_adj7.take(1)"
   ]
  },
  {
   "cell_type": "code",
   "execution_count": 61,
   "metadata": {
    "ExecuteTime": {
     "end_time": "2019-02-25T00:50:18.836429Z",
     "start_time": "2019-02-25T00:49:54.251578Z"
    }
   },
   "outputs": [],
   "source": [
    "with open('train_total.csv', 'w') as f:\n",
    "    for line in events_data_train_adj7.collect():\n",
    "        f.write(line)\n",
    "        f.write('\\n')"
   ]
  },
  {
   "cell_type": "markdown",
   "metadata": {},
   "source": [
    "## Test"
   ]
  },
  {
   "cell_type": "code",
   "execution_count": 62,
   "metadata": {
    "ExecuteTime": {
     "end_time": "2019-02-25T00:50:21.325837Z",
     "start_time": "2019-02-25T00:50:18.840549Z"
    }
   },
   "outputs": [
    {
     "data": {
      "text/plain": [
       "[['5558845121177764917',\n",
       "  '45',\n",
       "  '1542215397132',\n",
       "  '0.0',\n",
       "  '9943447915df3a45fd6720a026af905b6da6b56a37701b8b2629802e9a541006']]"
      ]
     },
     "execution_count": 62,
     "metadata": {},
     "output_type": "execute_result"
    }
   ],
   "source": [
    "events_data_test = events_data_adj.filter(lambda x: convertTime(x[2])[:10] < '2018-12-16')\n",
    "events_data_test.take(1)"
   ]
  },
  {
   "cell_type": "code",
   "execution_count": 63,
   "metadata": {
    "ExecuteTime": {
     "end_time": "2019-02-25T00:50:48.946954Z",
     "start_time": "2019-02-25T00:50:48.859369Z"
    }
   },
   "outputs": [],
   "source": [
    "temp_pair_test_dict = {}\n",
    "for i in range(6):\n",
    "    if i != 0:\n",
    "        temp_pair = events_data_test.map(lambda x: (x[0], x[i]))\\\n",
    "                                    .groupByKey().map(lambda x: [x[0], list(x[1])])\n",
    "        temp_pair_test_dict[i] = temp_pair"
   ]
  },
  {
   "cell_type": "code",
   "execution_count": 64,
   "metadata": {
    "ExecuteTime": {
     "end_time": "2019-02-25T00:57:30.969560Z",
     "start_time": "2019-02-25T00:51:47.583504Z"
    }
   },
   "outputs": [
    {
     "data": {
      "text/plain": [
       "[('6309264250257609843',\n",
       "  [['1',\n",
       "    '5',\n",
       "    '45',\n",
       "    '45',\n",
       "    '45',\n",
       "    '45',\n",
       "    '45',\n",
       "    '45',\n",
       "    '45',\n",
       "    '45',\n",
       "    '45',\n",
       "    '45',\n",
       "    '45',\n",
       "    '45',\n",
       "    '45',\n",
       "    '45',\n",
       "    '45',\n",
       "    '4',\n",
       "    '6',\n",
       "    '40',\n",
       "    '41',\n",
       "    '3',\n",
       "    '42'],\n",
       "   ['1543175110236',\n",
       "    '1543175113178',\n",
       "    '1543175188473',\n",
       "    '1543175236995',\n",
       "    '1543175242927',\n",
       "    '1543175281611',\n",
       "    '1543175322511',\n",
       "    '1543175370581',\n",
       "    '1543175381381',\n",
       "    '1543175420159',\n",
       "    '1543175444136',\n",
       "    '1543175469816',\n",
       "    '1543175478723',\n",
       "    '1543175484426',\n",
       "    '1543175488738',\n",
       "    '1543175548012',\n",
       "    '1543175624174',\n",
       "    '1543175687406',\n",
       "    '1543175696612',\n",
       "    '1543175706829',\n",
       "    '1543175710120',\n",
       "    '1543175773504',\n",
       "    '1543175775452'],\n",
       "   ['0.0',\n",
       "    '1.0',\n",
       "    '0.0',\n",
       "    '0.0',\n",
       "    '0.0',\n",
       "    '0.0',\n",
       "    '0.0',\n",
       "    '0.0',\n",
       "    '0.0',\n",
       "    '0.0',\n",
       "    '0.0',\n",
       "    '0.0',\n",
       "    '0.0',\n",
       "    '0.0',\n",
       "    '0.0',\n",
       "    '0.0',\n",
       "    '0.0',\n",
       "    '0.0',\n",
       "    '0.0',\n",
       "    '0.0',\n",
       "    '0.0',\n",
       "    '0.0',\n",
       "    '0.0'],\n",
       "   ['10596df08f16abc27259f399c1e71d5b591a931c22eeed1cd3fa8ba3e798d237',\n",
       "    '10596df08f16abc27259f399c1e71d5b591a931c22eeed1cd3fa8ba3e798d237',\n",
       "    '10596df08f16abc27259f399c1e71d5b591a931c22eeed1cd3fa8ba3e798d237',\n",
       "    '10596df08f16abc27259f399c1e71d5b591a931c22eeed1cd3fa8ba3e798d237',\n",
       "    '10596df08f16abc27259f399c1e71d5b591a931c22eeed1cd3fa8ba3e798d237',\n",
       "    '10596df08f16abc27259f399c1e71d5b591a931c22eeed1cd3fa8ba3e798d237',\n",
       "    '10596df08f16abc27259f399c1e71d5b591a931c22eeed1cd3fa8ba3e798d237',\n",
       "    '10596df08f16abc27259f399c1e71d5b591a931c22eeed1cd3fa8ba3e798d237',\n",
       "    '10596df08f16abc27259f399c1e71d5b591a931c22eeed1cd3fa8ba3e798d237',\n",
       "    '10596df08f16abc27259f399c1e71d5b591a931c22eeed1cd3fa8ba3e798d237',\n",
       "    '10596df08f16abc27259f399c1e71d5b591a931c22eeed1cd3fa8ba3e798d237',\n",
       "    '10596df08f16abc27259f399c1e71d5b591a931c22eeed1cd3fa8ba3e798d237',\n",
       "    '10596df08f16abc27259f399c1e71d5b591a931c22eeed1cd3fa8ba3e798d237',\n",
       "    '10596df08f16abc27259f399c1e71d5b591a931c22eeed1cd3fa8ba3e798d237',\n",
       "    '10596df08f16abc27259f399c1e71d5b591a931c22eeed1cd3fa8ba3e798d237',\n",
       "    '10596df08f16abc27259f399c1e71d5b591a931c22eeed1cd3fa8ba3e798d237',\n",
       "    '10596df08f16abc27259f399c1e71d5b591a931c22eeed1cd3fa8ba3e798d237',\n",
       "    '10596df08f16abc27259f399c1e71d5b591a931c22eeed1cd3fa8ba3e798d237',\n",
       "    '10596df08f16abc27259f399c1e71d5b591a931c22eeed1cd3fa8ba3e798d237',\n",
       "    '10596df08f16abc27259f399c1e71d5b591a931c22eeed1cd3fa8ba3e798d237',\n",
       "    '10596df08f16abc27259f399c1e71d5b591a931c22eeed1cd3fa8ba3e798d237',\n",
       "    '10596df08f16abc27259f399c1e71d5b591a931c22eeed1cd3fa8ba3e798d237',\n",
       "    '10596df08f16abc27259f399c1e71d5b591a931c22eeed1cd3fa8ba3e798d237']])]"
      ]
     },
     "execution_count": 64,
     "metadata": {},
     "output_type": "execute_result"
    }
   ],
   "source": [
    "events_data_test_adj = temp_pair_test_dict[1]\n",
    "events_data_test_adj = events_data_test_adj.leftOuterJoin(temp_pair_test_dict[2])\\\n",
    "                                           .map(lambda x: (x[0], list(x[1])))\n",
    "events_data_test_adj = events_data_test_adj.leftOuterJoin(temp_pair_test_dict[3])\\\n",
    "                                             .map(lambda x: (x[0], list(x[1])))\\\n",
    "                                             .map(lambda x: (x[0], [x[1][0][0], x[1][0][1], x[1][1]]))\n",
    "events_data_test_adj = events_data_test_adj.leftOuterJoin(temp_pair_test_dict[4])\\\n",
    "                                             .map(lambda x: (x[0], list(x[1])))\\\n",
    "                                             .map(lambda x: (x[0], [x[1][0][0], x[1][0][1], x[1][0][2], x[1][1]]))\n",
    "events_data_test_adj.take(1)"
   ]
  },
  {
   "cell_type": "code",
   "execution_count": 65,
   "metadata": {
    "ExecuteTime": {
     "end_time": "2019-02-25T00:57:31.109240Z",
     "start_time": "2019-02-25T00:57:30.974494Z"
    }
   },
   "outputs": [
    {
     "data": {
      "text/plain": [
       "[['8661029443064028323',\n",
       "  ['.m6335456823869440', '45', '45'],\n",
       "  ['1539520579389', '1539520621005', '1539520757941'],\n",
       "  ['0.0', '0.0', '0.0'],\n",
       "  'cb0dcb8889258135825da0d3c099c1ac13525e4093fc8e040554e8e8a026e958']]"
      ]
     },
     "execution_count": 65,
     "metadata": {},
     "output_type": "execute_result"
    }
   ],
   "source": [
    "events_data_test_adj2 = events_data_test_adj.map(lambda x: [x[0], x[1][0], x[1][1], x[1][2], \n",
    "                                                            most_common(x[1][3])])\n",
    "events_data_test_adj2.take(1)"
   ]
  },
  {
   "cell_type": "code",
   "execution_count": 66,
   "metadata": {
    "ExecuteTime": {
     "end_time": "2019-02-25T00:57:31.251644Z",
     "start_time": "2019-02-25T00:57:31.114027Z"
    }
   },
   "outputs": [
    {
     "data": {
      "text/plain": [
       "[['5206351256240882428',\n",
       "  [17],\n",
       "  71,\n",
       "  ['1541440544923',\n",
       "   '1541440546510',\n",
       "   '1541440704884',\n",
       "   '1541440766940',\n",
       "   '1541440784587',\n",
       "   '1541440856780',\n",
       "   '1541440875425',\n",
       "   '1541440914174',\n",
       "   '1541440914184',\n",
       "   '1541441145975',\n",
       "   '1541441187897',\n",
       "   '1541441242396',\n",
       "   '1541441260609',\n",
       "   '1541441337094',\n",
       "   '1541441349977',\n",
       "   '1541441400894',\n",
       "   '1541441508103',\n",
       "   '1541441576911',\n",
       "   '1541441599454',\n",
       "   '1541441599464',\n",
       "   '1541441662104',\n",
       "   '1541441671812',\n",
       "   '1541441691773',\n",
       "   '1541441705190',\n",
       "   '1541441717321',\n",
       "   '1541441733328',\n",
       "   '1541441748924',\n",
       "   '1541441765433',\n",
       "   '1541441791761',\n",
       "   '1541441808805',\n",
       "   '1541441826782',\n",
       "   '1541441848370',\n",
       "   '1541441867950',\n",
       "   '1541441881927',\n",
       "   '1541441893226',\n",
       "   '1541441915422',\n",
       "   '1541441937738',\n",
       "   '1541441961818',\n",
       "   '1541442025527',\n",
       "   '1541442027952',\n",
       "   '1541442034922',\n",
       "   '1541442036351',\n",
       "   '1541442061742',\n",
       "   '1541442063154',\n",
       "   '1541442081941',\n",
       "   '1541442150717',\n",
       "   '1541442191852',\n",
       "   '1541442244202',\n",
       "   '1541442255648',\n",
       "   '1541442287603',\n",
       "   '1541442298239',\n",
       "   '1541442348012',\n",
       "   '1541442359812',\n",
       "   '1541442369813',\n",
       "   '1541442380735',\n",
       "   '1541442394084',\n",
       "   '1541442408096',\n",
       "   '1541442451049',\n",
       "   '1541442512251',\n",
       "   '1541442545453',\n",
       "   '1541442600128',\n",
       "   '1541442664250',\n",
       "   '1541442678414',\n",
       "   '1541442722040',\n",
       "   '1541442750189',\n",
       "   '1541442804769',\n",
       "   '1541442807551',\n",
       "   '1541442814987',\n",
       "   '1541442816424',\n",
       "   '1541442849340',\n",
       "   '1541442850574'],\n",
       "  ['0.0',\n",
       "   '1.0',\n",
       "   '0.0',\n",
       "   '0.0',\n",
       "   '0.0',\n",
       "   '0.0',\n",
       "   '0.0',\n",
       "   '16.0',\n",
       "   '0.0',\n",
       "   '0.0',\n",
       "   '0.0',\n",
       "   '0.0',\n",
       "   '0.0',\n",
       "   '0.0',\n",
       "   '0.0',\n",
       "   '0.0',\n",
       "   '0.0',\n",
       "   '3.492999792098999',\n",
       "   '17.0',\n",
       "   '0.0',\n",
       "   '0.0',\n",
       "   '0.0',\n",
       "   '0.0',\n",
       "   '0.0',\n",
       "   '0.0',\n",
       "   '0.0',\n",
       "   '0.0',\n",
       "   '0.0',\n",
       "   '0.0',\n",
       "   '0.0',\n",
       "   '0.0',\n",
       "   '0.0',\n",
       "   '0.0',\n",
       "   '0.0',\n",
       "   '0.0',\n",
       "   '0.0',\n",
       "   '0.0',\n",
       "   '0.0',\n",
       "   '0.0',\n",
       "   '0.0',\n",
       "   '0.0',\n",
       "   '0.0',\n",
       "   '0.0',\n",
       "   '0.0',\n",
       "   '1.0',\n",
       "   '0.0',\n",
       "   '0.0',\n",
       "   '0.0',\n",
       "   '0.0',\n",
       "   '0.0',\n",
       "   '0.0',\n",
       "   '0.0',\n",
       "   '0.0',\n",
       "   '0.0',\n",
       "   '0.0',\n",
       "   '0.0',\n",
       "   '0.0',\n",
       "   '0.0',\n",
       "   '0.0',\n",
       "   '0.0',\n",
       "   '0.0',\n",
       "   '0.0',\n",
       "   '0.0',\n",
       "   '0.0',\n",
       "   '0.0',\n",
       "   '0.0',\n",
       "   '0.0',\n",
       "   '0.0',\n",
       "   '0.0',\n",
       "   '0.0',\n",
       "   '0.0'],\n",
       "  '944395d2e81808f6b7cc659f1a55040f03aab99ffdfa4c1a60811e4d05ddee3c']]"
      ]
     },
     "execution_count": 66,
     "metadata": {},
     "output_type": "execute_result"
    }
   ],
   "source": [
    "events_data_test_adj3 = events_data_test_adj2.map(lambda x: [x[0], findPur(x[1]), len(x[1]), x[2], x[3], x[4]])\n",
    "events_data_test_adj3.filter(lambda x: x[1]!=[]).take(1)"
   ]
  },
  {
   "cell_type": "code",
   "execution_count": 67,
   "metadata": {
    "ExecuteTime": {
     "end_time": "2019-02-25T00:57:31.390686Z",
     "start_time": "2019-02-25T00:57:31.256409Z"
    }
   },
   "outputs": [
    {
     "data": {
      "text/plain": [
       "[['9f9513e92b24a6aecee48f0367e7ca2b0b2a6a91c597406b7306ff7bcbdbc670',\n",
       "  '141583788005273790',\n",
       "  24,\n",
       "  1,\n",
       "  799680.0,\n",
       "  3.492999792098999]]"
      ]
     },
     "execution_count": 67,
     "metadata": {},
     "output_type": "execute_result"
    }
   ],
   "source": [
    "events_data_test_adj4 = events_data_test_adj3.map(lambda x: [x[5], x[0], x[2], len(x[1]),\n",
    "                                                               float(max(x[3]))-float(min(x[3])), \n",
    "                                                               moneySum(x[4], x[1])])\n",
    "events_data_test_adj4.filter(lambda x: x[3]>0).take(1)"
   ]
  },
  {
   "cell_type": "code",
   "execution_count": 68,
   "metadata": {
    "ExecuteTime": {
     "end_time": "2019-02-25T00:57:31.481379Z",
     "start_time": "2019-02-25T00:57:31.395376Z"
    }
   },
   "outputs": [],
   "source": [
    "temp_pair_test_dict_2 = {}\n",
    "for i in range(6):\n",
    "    if i != 0:\n",
    "        temp_pair = events_data_test_adj4.map(lambda x: (x[0], x[i]))\\\n",
    "                                    .groupByKey().map(lambda x: [x[0], list(x[1])])\n",
    "        temp_pair_test_dict_2[i] = temp_pair"
   ]
  },
  {
   "cell_type": "code",
   "execution_count": 69,
   "metadata": {
    "ExecuteTime": {
     "end_time": "2019-02-25T01:02:03.758153Z",
     "start_time": "2019-02-25T00:59:36.905080Z"
    }
   },
   "outputs": [
    {
     "data": {
      "text/plain": [
       "[('0d261313961125c71f330a8a8d59857bc48fefd0b4278c50eb06878993a31d95',\n",
       "  [['4413133688754720943'], [35], [0], [1626343.0], [0.0]])]"
      ]
     },
     "execution_count": 69,
     "metadata": {},
     "output_type": "execute_result"
    }
   ],
   "source": [
    "events_data_test_adj5 = temp_pair_test_dict_2[1]\n",
    "events_data_test_adj5 = events_data_test_adj5.leftOuterJoin(temp_pair_test_dict_2[2])\\\n",
    "                                             .map(lambda x: (x[0], list(x[1])))\n",
    "events_data_test_adj5 = events_data_test_adj5.leftOuterJoin(temp_pair_test_dict_2[3])\\\n",
    "                                             .map(lambda x: (x[0], list(x[1])))\\\n",
    "                                             .map(lambda x: (x[0], [x[1][0][0], x[1][0][1], x[1][1]]))\n",
    "events_data_test_adj5 = events_data_test_adj5.leftOuterJoin(temp_pair_test_dict_2[4])\\\n",
    "                                             .map(lambda x: (x[0], list(x[1])))\\\n",
    "                                             .map(lambda x: (x[0], [x[1][0][0], x[1][0][1], x[1][0][2], x[1][1]]))\n",
    "events_data_test_adj5 = events_data_test_adj5.leftOuterJoin(temp_pair_test_dict_2[5])\\\n",
    "                                             .map(lambda x: (x[0], list(x[1])))\\\n",
    "                                             .map(lambda x: (x[0], [x[1][0][0], x[1][0][1], x[1][0][2], \n",
    "                                                                    x[1][0][3], x[1][1]]))\n",
    "events_data_test_adj5.take(1)"
   ]
  },
  {
   "cell_type": "code",
   "execution_count": 70,
   "metadata": {
    "ExecuteTime": {
     "end_time": "2019-02-25T01:02:03.888682Z",
     "start_time": "2019-02-25T01:02:03.762373Z"
    }
   },
   "outputs": [
    {
     "data": {
      "text/plain": [
       "[['c39d635765ff135752a20fea4283e35edb76f5cd0babe1419a3ab82ac2195fd0',\n",
       "  4,\n",
       "  79,\n",
       "  22.5,\n",
       "  0,\n",
       "  0.0,\n",
       "  1081623.0]]"
      ]
     },
     "execution_count": 70,
     "metadata": {},
     "output_type": "execute_result"
    }
   ],
   "source": [
    "events_data_test_adj6 = events_data_test_adj5.map(lambda x: [x[0], \n",
    "                                                               len(x[1][0]),\n",
    "                                                               sum(x[1][1]),\n",
    "                                                               getMedian(x[1][1]),\n",
    "                                                               sum(x[1][2]), \n",
    "                                                               sum(x[1][4]),\n",
    "                                                               getMedian(x[1][3])])\n",
    "events_data_test_adj6.take(1)"
   ]
  },
  {
   "cell_type": "code",
   "execution_count": 71,
   "metadata": {
    "ExecuteTime": {
     "end_time": "2019-02-25T01:02:04.010559Z",
     "start_time": "2019-02-25T01:02:03.892786Z"
    }
   },
   "outputs": [
    {
     "data": {
      "text/plain": [
       "['0d261313961125c71f330a8a8d59857bc48fefd0b4278c50eb06878993a31d95,1,35,35,0,0.0,1626343.0']"
      ]
     },
     "execution_count": 71,
     "metadata": {},
     "output_type": "execute_result"
    }
   ],
   "source": [
    "events_data_test_adj7 = events_data_test_adj6.map(lambda x: ','.join([str(y) for y in x]))\n",
    "events_data_test_adj7.take(1)"
   ]
  },
  {
   "cell_type": "code",
   "execution_count": 72,
   "metadata": {
    "ExecuteTime": {
     "end_time": "2019-02-25T01:03:40.656625Z",
     "start_time": "2019-02-25T01:03:16.187304Z"
    }
   },
   "outputs": [],
   "source": [
    "with open('test_total.csv', 'w') as f:\n",
    "    for line in events_data_test_adj7.collect():\n",
    "        f.write(line)\n",
    "        f.write('\\n')"
   ]
  },
  {
   "cell_type": "code",
   "execution_count": 73,
   "metadata": {
    "ExecuteTime": {
     "end_time": "2019-02-25T01:13:38.779937Z",
     "start_time": "2019-02-25T01:13:06.821638Z"
    }
   },
   "outputs": [
    {
     "name": "stdout",
     "output_type": "stream",
     "text": [
      "620464\n",
      "621001\n"
     ]
    }
   ],
   "source": [
    "print(events_data_train_adj7.count())\n",
    "print(events_data_test_adj7.count())"
   ]
  },
  {
   "cell_type": "code",
   "execution_count": null,
   "metadata": {},
   "outputs": [],
   "source": []
  }
 ],
 "metadata": {
  "kernelspec": {
   "display_name": "Python 2",
   "language": "python",
   "name": "python2"
  },
  "language_info": {
   "codemirror_mode": {
    "name": "ipython",
    "version": 2
   },
   "file_extension": ".py",
   "mimetype": "text/x-python",
   "name": "python",
   "nbconvert_exporter": "python",
   "pygments_lexer": "ipython2",
   "version": "2.7.15"
  }
 },
 "nbformat": 4,
 "nbformat_minor": 2
}
