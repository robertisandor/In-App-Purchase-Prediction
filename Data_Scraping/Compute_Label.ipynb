{
 "cells": [
  {
   "cell_type": "code",
   "execution_count": 1,
   "metadata": {
    "ExecuteTime": {
     "end_time": "2019-02-24T22:50:14.703392Z",
     "start_time": "2019-02-24T22:50:14.343909Z"
    }
   },
   "outputs": [],
   "source": [
    "import os\n",
    "import numpy as np\n",
    "import timeit\n",
    "import pyspark\n",
    "import pandas as pd\n",
    "import s3fs\n",
    "import time\n",
    "import ast\n",
    "import operator\n",
    "from datetime import datetime"
   ]
  },
  {
   "cell_type": "code",
   "execution_count": 2,
   "metadata": {
    "ExecuteTime": {
     "end_time": "2019-02-24T22:50:19.781511Z",
     "start_time": "2019-02-24T22:50:19.774531Z"
    }
   },
   "outputs": [],
   "source": [
    "sc = pyspark.SparkContext.getOrCreate()\n",
    "ss = pyspark.sql.SparkSession.builder.getOrCreate()"
   ]
  },
  {
   "cell_type": "code",
   "execution_count": 3,
   "metadata": {
    "ExecuteTime": {
     "end_time": "2019-02-24T22:50:28.427248Z",
     "start_time": "2019-02-24T22:50:28.409811Z"
    }
   },
   "outputs": [
    {
     "data": {
      "text/plain": [
       "{'attributes': 's3a://msds630-kaggle-competition/attributes.csv',\n",
       " 'events': 's3a://msds630-kaggle-competition/events.csv',\n",
       " 'messages': 's3a://msds630-kaggle-competition/messages.csv',\n",
       " 'sessions': 's3a://msds630-kaggle-competition/sessions.csv'}"
      ]
     },
     "execution_count": 3,
     "metadata": {},
     "output_type": "execute_result"
    }
   ],
   "source": [
    "s3_address = \"s3a://msds630-kaggle-competition/\"\n",
    "dataset_addr_book = {}\n",
    "dataset_name_list = [\"events\", \"messages\", \"attributes\", \"sessions\"]\n",
    "for name in dataset_name_list:\n",
    "    dataset_addr_book[name] = \"\".join([s3_address, name, \".csv\"])\n",
    "\n",
    "dataset_addr_book"
   ]
  },
  {
   "cell_type": "code",
   "execution_count": 4,
   "metadata": {
    "ExecuteTime": {
     "end_time": "2019-02-24T22:50:46.660045Z",
     "start_time": "2019-02-24T22:50:35.165314Z"
    }
   },
   "outputs": [
    {
     "name": "stdout",
     "output_type": "stream",
     "text": [
      "['app_id', 'session_id', 'event', 'event_timestamp', 'event_value', 'user_id_hash']\n",
      "6\n"
     ]
    }
   ],
   "source": [
    "events_rdd = sc.textFile(dataset_addr_book[\"events\"])\\\n",
    "               .map(lambda line : line.encode('ascii', 'ignore'))\n",
    "cols_events = events_rdd.map(lambda x: x.split(',')).take(1)[0]\n",
    "print(cols_events)\n",
    "print(len(cols_events))"
   ]
  },
  {
   "cell_type": "code",
   "execution_count": 5,
   "metadata": {
    "ExecuteTime": {
     "end_time": "2019-02-24T22:50:47.381932Z",
     "start_time": "2019-02-24T22:50:46.664409Z"
    }
   },
   "outputs": [
    {
     "data": {
      "text/plain": [
       "[['4724682771660800',\n",
       "  '5558845121177764917',\n",
       "  '45',\n",
       "  '1542215397132',\n",
       "  '0.0',\n",
       "  '9943447915df3a45fd6720a026af905b6da6b56a37701b8b2629802e9a541006']]"
      ]
     },
     "execution_count": 5,
     "metadata": {},
     "output_type": "execute_result"
    }
   ],
   "source": [
    "events_data = events_rdd.filter(lambda x: 'app_id' not in x)\\\n",
    "                        .map(lambda x: x.split(','))\n",
    "events_data.take(1)"
   ]
  },
  {
   "cell_type": "code",
   "execution_count": 6,
   "metadata": {
    "ExecuteTime": {
     "end_time": "2019-02-24T22:50:48.080973Z",
     "start_time": "2019-02-24T22:50:48.072847Z"
    }
   },
   "outputs": [
    {
     "data": {
      "text/plain": [
       "['session_id',\n",
       " 'event',\n",
       " 'event_timestamp',\n",
       " 'event_value',\n",
       " 'user_id_hash',\n",
       " 'is_purchase']"
      ]
     },
     "execution_count": 6,
     "metadata": {},
     "output_type": "execute_result"
    }
   ],
   "source": [
    "cols_events_adj = cols_events[1:] # Drop app_id\n",
    "cols_events_adj.append('is_purchase')\n",
    "cols_events_adj"
   ]
  },
  {
   "cell_type": "code",
   "execution_count": 19,
   "metadata": {
    "ExecuteTime": {
     "end_time": "2019-02-24T22:56:49.287328Z",
     "start_time": "2019-02-24T22:56:48.532635Z"
    }
   },
   "outputs": [
    {
     "data": {
      "text/plain": [
       "[['5558845121177764917',\n",
       "  '45',\n",
       "  '1542215397132',\n",
       "  '0.0',\n",
       "  '9943447915df3a45fd6720a026af905b6da6b56a37701b8b2629802e9a541006']]"
      ]
     },
     "execution_count": 19,
     "metadata": {},
     "output_type": "execute_result"
    }
   ],
   "source": [
    "events_data_adj = events_data.map(lambda x: x[1:]) # Drop app_id\n",
    "events_data_adj.take(1)"
   ]
  },
  {
   "cell_type": "code",
   "execution_count": 20,
   "metadata": {
    "ExecuteTime": {
     "end_time": "2019-02-24T22:56:49.508647Z",
     "start_time": "2019-02-24T22:56:49.501493Z"
    }
   },
   "outputs": [
    {
     "name": "stdout",
     "output_type": "stream",
     "text": [
      "1.0\n",
      "0.0\n"
     ]
    }
   ],
   "source": [
    "def isPurchase(event):\n",
    "    if event == '8':\n",
    "        return 1.0\n",
    "    else:\n",
    "        return 0.0\n",
    "\n",
    "# Test\n",
    "print(isPurchase('8'))\n",
    "print(isPurchase('9'))"
   ]
  },
  {
   "cell_type": "code",
   "execution_count": 21,
   "metadata": {
    "ExecuteTime": {
     "end_time": "2019-02-24T22:56:50.032173Z",
     "start_time": "2019-02-24T22:56:50.025428Z"
    }
   },
   "outputs": [
    {
     "data": {
      "text/plain": [
       "['session_id',\n",
       " 'event',\n",
       " 'event_timestamp',\n",
       " 'event_value',\n",
       " 'user_id_hash',\n",
       " 'is_purchase']"
      ]
     },
     "execution_count": 21,
     "metadata": {},
     "output_type": "execute_result"
    }
   ],
   "source": [
    "cols_events_adj"
   ]
  },
  {
   "cell_type": "code",
   "execution_count": 22,
   "metadata": {
    "ExecuteTime": {
     "end_time": "2019-02-24T22:56:51.009685Z",
     "start_time": "2019-02-24T22:56:50.299627Z"
    }
   },
   "outputs": [
    {
     "data": {
      "text/plain": [
       "[['5558845121177764917',\n",
       "  '45',\n",
       "  '1542215397132',\n",
       "  '0.0',\n",
       "  '9943447915df3a45fd6720a026af905b6da6b56a37701b8b2629802e9a541006',\n",
       "  0.0]]"
      ]
     },
     "execution_count": 22,
     "metadata": {},
     "output_type": "execute_result"
    }
   ],
   "source": [
    "# Add is_purchase\n",
    "events_data_adj = events_data_adj.map(lambda x: [x[0], x[1], x[2], x[3], x[4], isPurchase(x[1])])\n",
    "events_data_adj.take(1)"
   ]
  },
  {
   "cell_type": "code",
   "execution_count": 23,
   "metadata": {
    "ExecuteTime": {
     "end_time": "2019-02-24T22:56:51.021169Z",
     "start_time": "2019-02-24T22:56:51.012640Z"
    }
   },
   "outputs": [
    {
     "data": {
      "text/plain": [
       "'2018-11-08 00:53:44'"
      ]
     },
     "execution_count": 23,
     "metadata": {},
     "output_type": "execute_result"
    }
   ],
   "source": [
    "def convertTime(ts_str):\n",
    "    return datetime.utcfromtimestamp(int(ts_str)/1000.0).strftime('%Y-%m-%d %H:%M:%S')\n",
    "convertTime('1541638424150')"
   ]
  },
  {
   "cell_type": "code",
   "execution_count": 24,
   "metadata": {
    "ExecuteTime": {
     "end_time": "2019-02-24T22:56:51.529655Z",
     "start_time": "2019-02-24T22:56:51.521741Z"
    }
   },
   "outputs": [
    {
     "data": {
      "text/plain": [
       "'2018-11-08'"
      ]
     },
     "execution_count": 24,
     "metadata": {},
     "output_type": "execute_result"
    }
   ],
   "source": [
    "'2018-11-08 00:53:44'[:10]"
   ]
  },
  {
   "cell_type": "code",
   "execution_count": 25,
   "metadata": {
    "ExecuteTime": {
     "end_time": "2019-02-24T22:56:54.617475Z",
     "start_time": "2019-02-24T22:56:53.850365Z"
    }
   },
   "outputs": [
    {
     "data": {
      "text/plain": [
       "[['2018-11-14 17:09:57',\n",
       "  '9943447915df3a45fd6720a026af905b6da6b56a37701b8b2629802e9a541006',\n",
       "  0.0]]"
      ]
     },
     "execution_count": 25,
     "metadata": {},
     "output_type": "execute_result"
    }
   ],
   "source": [
    "events_data_adj = events_data_adj.map(lambda x: [convertTime(x[2]), x[4], x[5]])\n",
    "events_data_adj.take(1)"
   ]
  },
  {
   "cell_type": "code",
   "execution_count": 27,
   "metadata": {
    "ExecuteTime": {
     "end_time": "2019-02-24T22:57:14.131407Z",
     "start_time": "2019-02-24T22:57:13.415948Z"
    }
   },
   "outputs": [
    {
     "data": {
      "text/plain": [
       "[['2018-12-02 01:11:31',\n",
       "  '9943447915df3a45fd6720a026af905b6da6b56a37701b8b2629802e9a541006',\n",
       "  0.0]]"
      ]
     },
     "execution_count": 27,
     "metadata": {},
     "output_type": "execute_result"
    }
   ],
   "source": [
    "events_data_adj2 = events_data_adj.filter(lambda x: x[0][:10] >= '2018-12-02')\n",
    "events_data_adj2.take(1)"
   ]
  },
  {
   "cell_type": "code",
   "execution_count": 28,
   "metadata": {
    "ExecuteTime": {
     "end_time": "2019-02-24T22:58:47.854731Z",
     "start_time": "2019-02-24T22:57:28.644434Z"
    }
   },
   "outputs": [
    {
     "data": {
      "text/plain": [
       "12754394"
      ]
     },
     "execution_count": 28,
     "metadata": {},
     "output_type": "execute_result"
    }
   ],
   "source": [
    "events_data_adj2.count()"
   ]
  },
  {
   "cell_type": "code",
   "execution_count": 29,
   "metadata": {
    "ExecuteTime": {
     "end_time": "2019-02-24T22:59:50.250432Z",
     "start_time": "2019-02-24T22:58:47.859414Z"
    }
   },
   "outputs": [
    {
     "data": {
      "text/plain": [
       "12754394"
      ]
     },
     "execution_count": 29,
     "metadata": {},
     "output_type": "execute_result"
    }
   ],
   "source": [
    "events_data_adj3 = events_data_adj2.filter(lambda x: x[0][:10] < '2018-12-16')\n",
    "events_data_adj3.count()"
   ]
  },
  {
   "cell_type": "code",
   "execution_count": 36,
   "metadata": {
    "ExecuteTime": {
     "end_time": "2019-02-24T23:05:22.431732Z",
     "start_time": "2019-02-24T23:05:22.423935Z"
    }
   },
   "outputs": [
    {
     "name": "stdout",
     "output_type": "stream",
     "text": [
      "0.0\n",
      "1.0\n",
      "1.0\n",
      "0.0\n"
     ]
    }
   ],
   "source": [
    "def getToOne(num):\n",
    "    if num is None: \n",
    "        return 0.0\n",
    "    elif num >= 1: \n",
    "        return 1.0\n",
    "    else:\n",
    "        return 0.0\n",
    "print(getToOne(None))\n",
    "print(getToOne(1))\n",
    "print(getToOne(2))\n",
    "print(getToOne(0))"
   ]
  },
  {
   "cell_type": "code",
   "execution_count": 37,
   "metadata": {
    "ExecuteTime": {
     "end_time": "2019-02-24T23:06:43.322077Z",
     "start_time": "2019-02-24T23:05:34.568182Z"
    }
   },
   "outputs": [
    {
     "data": {
      "text/plain": [
       "[['94482eb06653391eabffeb27ff94b84dca88e0ad3ceaa61f6a26ff36e7130a36', 0.0]]"
      ]
     },
     "execution_count": 37,
     "metadata": {},
     "output_type": "execute_result"
    }
   ],
   "source": [
    "label_2_rdd = events_data_adj3.map(lambda x: (x[1], x[2]))\\\n",
    "                              .groupByKey().map(lambda x: [x[0], getToOne(sum(x[1]))])\n",
    "label_2_rdd.take(1)"
   ]
  },
  {
   "cell_type": "code",
   "execution_count": 39,
   "metadata": {
    "ExecuteTime": {
     "end_time": "2019-02-24T23:07:54.376918Z",
     "start_time": "2019-02-24T23:07:54.246751Z"
    }
   },
   "outputs": [
    {
     "data": {
      "text/plain": [
       "['94482eb06653391eabffeb27ff94b84dca88e0ad3ceaa61f6a26ff36e7130a36,0.0']"
      ]
     },
     "execution_count": 39,
     "metadata": {},
     "output_type": "execute_result"
    }
   ],
   "source": [
    "label_2_rdd_2 = label_2_rdd.map(lambda x: ','.join([str(y) for y in x]))\n",
    "label_2_rdd_2.take(1)"
   ]
  },
  {
   "cell_type": "code",
   "execution_count": 40,
   "metadata": {
    "ExecuteTime": {
     "end_time": "2019-02-24T23:08:27.944160Z",
     "start_time": "2019-02-24T23:08:23.576312Z"
    }
   },
   "outputs": [],
   "source": [
    "with open('label_2.csv', 'w') as f:\n",
    "    for line in label_2_rdd_2.collect():\n",
    "        f.write(line)\n",
    "        f.write('\\n')"
   ]
  },
  {
   "cell_type": "code",
   "execution_count": 41,
   "metadata": {
    "ExecuteTime": {
     "end_time": "2019-02-24T23:10:33.536891Z",
     "start_time": "2019-02-24T23:09:14.890592Z"
    }
   },
   "outputs": [
    {
     "data": {
      "text/plain": [
       "7349848"
      ]
     },
     "execution_count": 41,
     "metadata": {},
     "output_type": "execute_result"
    }
   ],
   "source": [
    "events_data_adj4 = events_data_adj3.filter(lambda x: x[0][:10] < '2018-12-09')\n",
    "events_data_adj4.count()"
   ]
  },
  {
   "cell_type": "code",
   "execution_count": 42,
   "metadata": {
    "ExecuteTime": {
     "end_time": "2019-02-24T23:11:39.079160Z",
     "start_time": "2019-02-24T23:10:33.539752Z"
    }
   },
   "outputs": [
    {
     "data": {
      "text/plain": [
       "[['bf676611754201cc93ca1e2bcce8ca2c7ff0105186ebc03e4945affc1f80192d', 1.0]]"
      ]
     },
     "execution_count": 42,
     "metadata": {},
     "output_type": "execute_result"
    }
   ],
   "source": [
    "label_1_rdd = events_data_adj4.map(lambda x: (x[1], x[2]))\\\n",
    "                              .groupByKey().map(lambda x: [x[0], getToOne(sum(x[1]))])\n",
    "label_1_rdd.take(1)"
   ]
  },
  {
   "cell_type": "code",
   "execution_count": 43,
   "metadata": {
    "ExecuteTime": {
     "end_time": "2019-02-24T23:11:39.259660Z",
     "start_time": "2019-02-24T23:11:39.083419Z"
    }
   },
   "outputs": [
    {
     "data": {
      "text/plain": [
       "['16663074c2e49d54525924457622d0a80eba89a50a670f3b0767a96b392ae06d,0.0']"
      ]
     },
     "execution_count": 43,
     "metadata": {},
     "output_type": "execute_result"
    }
   ],
   "source": [
    "label_1_rdd_2 = label_1_rdd.map(lambda x: ','.join([str(y) for y in x]))\n",
    "label_1_rdd_2.take(1)"
   ]
  },
  {
   "cell_type": "code",
   "execution_count": 44,
   "metadata": {
    "ExecuteTime": {
     "end_time": "2019-02-24T23:11:57.438709Z",
     "start_time": "2019-02-24T23:11:55.605489Z"
    }
   },
   "outputs": [],
   "source": [
    "with open('label_1.csv', 'w') as f:\n",
    "    for line in label_1_rdd_2.collect():\n",
    "        f.write(line)\n",
    "        f.write('\\n')"
   ]
  },
  {
   "cell_type": "code",
   "execution_count": null,
   "metadata": {},
   "outputs": [],
   "source": []
  }
 ],
 "metadata": {
  "kernelspec": {
   "display_name": "Python 2",
   "language": "python",
   "name": "python2"
  },
  "language_info": {
   "codemirror_mode": {
    "name": "ipython",
    "version": 2
   },
   "file_extension": ".py",
   "mimetype": "text/x-python",
   "name": "python",
   "nbconvert_exporter": "python",
   "pygments_lexer": "ipython2",
   "version": "2.7.15"
  }
 },
 "nbformat": 4,
 "nbformat_minor": 2
}
