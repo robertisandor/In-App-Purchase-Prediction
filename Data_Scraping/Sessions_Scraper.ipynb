{
 "cells": [
  {
   "cell_type": "code",
   "execution_count": 1,
   "metadata": {
    "ExecuteTime": {
     "end_time": "2019-02-25T02:06:29.375487Z",
     "start_time": "2019-02-25T02:06:29.004443Z"
    }
   },
   "outputs": [],
   "source": [
    "import os\n",
    "import numpy as np\n",
    "import timeit\n",
    "import pyspark\n",
    "import pandas as pd\n",
    "import s3fs\n",
    "import time\n",
    "import ast\n",
    "import operator\n",
    "from datetime import datetime\n",
    "import statistics"
   ]
  },
  {
   "cell_type": "code",
   "execution_count": 2,
   "metadata": {
    "ExecuteTime": {
     "end_time": "2019-02-25T02:07:14.983539Z",
     "start_time": "2019-02-25T02:07:14.975414Z"
    }
   },
   "outputs": [],
   "source": [
    "sc = pyspark.SparkContext.getOrCreate()\n",
    "ss = pyspark.sql.SparkSession.builder.getOrCreate()"
   ]
  },
  {
   "cell_type": "markdown",
   "metadata": {},
   "source": [
    "## Set up the data address book"
   ]
  },
  {
   "cell_type": "code",
   "execution_count": 3,
   "metadata": {
    "ExecuteTime": {
     "end_time": "2019-02-25T02:07:28.820122Z",
     "start_time": "2019-02-25T02:07:28.799828Z"
    }
   },
   "outputs": [
    {
     "data": {
      "text/plain": [
       "{'attributes': 's3a://msds630-kaggle-competition/attributes.csv',\n",
       " 'events': 's3a://msds630-kaggle-competition/events.csv',\n",
       " 'messages': 's3a://msds630-kaggle-competition/messages.csv',\n",
       " 'sessions': 's3a://msds630-kaggle-competition/sessions.csv'}"
      ]
     },
     "execution_count": 3,
     "metadata": {},
     "output_type": "execute_result"
    }
   ],
   "source": [
    "s3_address = \"s3a://msds630-kaggle-competition/\"\n",
    "dataset_addr_book = {}\n",
    "dataset_name_list = [\"events\", \"messages\", \"attributes\", \"sessions\"]\n",
    "for name in dataset_name_list:\n",
    "    dataset_addr_book[name] = \"\".join([s3_address, name, \".csv\"])\n",
    "\n",
    "dataset_addr_book"
   ]
  },
  {
   "cell_type": "markdown",
   "metadata": {},
   "source": [
    "## Load Sessions"
   ]
  },
  {
   "cell_type": "code",
   "execution_count": 4,
   "metadata": {
    "ExecuteTime": {
     "end_time": "2019-02-25T02:08:20.728594Z",
     "start_time": "2019-02-25T02:08:10.128899Z"
    }
   },
   "outputs": [
    {
     "name": "stdout",
     "output_type": "stream",
     "text": [
      "['app_id', 'session_id', 'start_timestamp', 'timezone', 'timezone_offset', 'previous_sessions_duration', 'user_created_timestamp', 'is_user_first_session', 'is_session', 'is_developer', 'is_wau', 'is_mau', 'country', 'region', 'city', 'latitude', 'longitude', 'locale', 'os_name', 'session_index', 'device_id', 'user_id_hash']\n",
      "22\n"
     ]
    }
   ],
   "source": [
    "sessions_rdd = sc.textFile(dataset_addr_book[\"sessions\"])\\\n",
    "               .map(lambda line : line.encode('ascii', 'ignore'))\n",
    "cols_sessions = sessions_rdd.map(lambda x: x.split(',')).take(1)[0]\n",
    "print(cols_sessions)\n",
    "print(len(cols_sessions))"
   ]
  },
  {
   "cell_type": "code",
   "execution_count": 17,
   "metadata": {
    "ExecuteTime": {
     "end_time": "2019-02-25T02:19:27.862181Z",
     "start_time": "2019-02-25T02:19:27.853485Z"
    }
   },
   "outputs": [
    {
     "data": {
      "text/plain": [
       "'is_session'"
      ]
     },
     "execution_count": 17,
     "metadata": {},
     "output_type": "execute_result"
    }
   ],
   "source": [
    "['app_id', 'session_id', 'start_timestamp', 'timezone', 'timezone_offset', 'previous_sessions_duration', 'user_created_timestamp', 'is_user_first_session', 'is_session', 'is_developer', 'is_wau', 'is_mau', 'country', 'region', 'city', 'latitude', 'longitude', 'locale', 'os_name', 'session_index', 'device_id', 'user_id_hash'][8\n",
    "]"
   ]
  },
  {
   "cell_type": "code",
   "execution_count": 5,
   "metadata": {
    "ExecuteTime": {
     "end_time": "2019-02-25T02:08:33.426512Z",
     "start_time": "2019-02-25T02:08:32.598063Z"
    }
   },
   "outputs": [
    {
     "data": {
      "text/plain": [
       "[['4724682771660800',\n",
       "  '5558845121177764917',\n",
       "  '1542215364580',\n",
       "  'Asia/Manila',\n",
       "  '28800000',\n",
       "  '25837591',\n",
       "  '1538874289458',\n",
       "  'false',\n",
       "  'true',\n",
       "  'false',\n",
       "  'false',\n",
       "  'false',\n",
       "  'PH',\n",
       "  '00',\n",
       "  'makati',\n",
       "  '14.554729461669922',\n",
       "  '121.02444458007812',\n",
       "  'en_GB',\n",
       "  'Android OS',\n",
       "  '30',\n",
       "  '546a3d98-d540-4e72-ad82-9ebd64e0839b',\n",
       "  '9943447915df3a45fd6720a026af905b6da6b56a37701b8b2629802e9a541006']]"
      ]
     },
     "execution_count": 5,
     "metadata": {},
     "output_type": "execute_result"
    }
   ],
   "source": [
    "sessions_data = sessions_rdd.filter(lambda x: 'app_id' not in x)\\\n",
    "                            .map(lambda x: x.split(','))\n",
    "sessions_data.take(1)"
   ]
  },
  {
   "cell_type": "code",
   "execution_count": 20,
   "metadata": {
    "ExecuteTime": {
     "end_time": "2019-02-25T02:20:37.874649Z",
     "start_time": "2019-02-25T02:20:37.095011Z"
    }
   },
   "outputs": [
    {
     "data": {
      "text/plain": [
       "[['4724682771660800',\n",
       "  '5558845121177764917',\n",
       "  '1542215364580',\n",
       "  'Asia/Manila',\n",
       "  '28800000',\n",
       "  '25837591',\n",
       "  '1538874289458',\n",
       "  'false',\n",
       "  'true',\n",
       "  'false',\n",
       "  'false',\n",
       "  'false',\n",
       "  'PH',\n",
       "  '00',\n",
       "  'makati',\n",
       "  '14.554729461669922',\n",
       "  '121.02444458007812',\n",
       "  'en_GB',\n",
       "  'Android OS',\n",
       "  '30',\n",
       "  '546a3d98-d540-4e72-ad82-9ebd64e0839b',\n",
       "  '9943447915df3a45fd6720a026af905b6da6b56a37701b8b2629802e9a541006']]"
      ]
     },
     "execution_count": 20,
     "metadata": {},
     "output_type": "execute_result"
    }
   ],
   "source": [
    "sessions_data_adj = sessions_data.filter(lambda x: x[8] == 'true')\\\n",
    "                                 .filter(lambda x: x[10] == 'false')\\\n",
    "                                 .filter(lambda x: x[11] == 'false')\\\n",
    "                                 .filter(lambda x: x[9] == 'false')\n",
    "sessions_data_adj.take(1)"
   ]
  },
  {
   "cell_type": "code",
   "execution_count": 25,
   "metadata": {
    "ExecuteTime": {
     "end_time": "2019-02-25T02:25:21.117726Z",
     "start_time": "2019-02-25T02:25:20.449395Z"
    }
   },
   "outputs": [
    {
     "data": {
      "text/plain": [
       "[['9943447915df3a45fd6720a026af905b6da6b56a37701b8b2629802e9a541006',\n",
       "  '5558845121177764917',\n",
       "  '1538874289458',\n",
       "  'PH',\n",
       "  'Android OS',\n",
       "  '546a3d98-d540-4e72-ad82-9ebd64e0839b']]"
      ]
     },
     "execution_count": 25,
     "metadata": {},
     "output_type": "execute_result"
    }
   ],
   "source": [
    "sessions_data_adj1 = sessions_data_adj.map(lambda x: [x[-1], x[1], x[6], x[12], x[18], x[20]])\n",
    "sessions_data_adj1.take(1)"
   ]
  },
  {
   "cell_type": "code",
   "execution_count": 26,
   "metadata": {
    "ExecuteTime": {
     "end_time": "2019-02-25T02:25:23.035213Z",
     "start_time": "2019-02-25T02:25:22.948161Z"
    }
   },
   "outputs": [],
   "source": [
    "temp_pair_dict = {}\n",
    "for i in range(6):\n",
    "    if i != 0:\n",
    "        temp_pair = sessions_data_adj1.map(lambda x: (x[0], x[i]))\\\n",
    "                                      .groupByKey().map(lambda x: [x[0], list(x[1])])\n",
    "        temp_pair_dict[i] = temp_pair"
   ]
  },
  {
   "cell_type": "code",
   "execution_count": 27,
   "metadata": {
    "ExecuteTime": {
     "end_time": "2019-02-25T02:26:04.384365Z",
     "start_time": "2019-02-25T02:25:24.772625Z"
    }
   },
   "outputs": [
    {
     "data": {
      "text/plain": [
       "[('46d54b4fab292c461cdf8f3825f7106907b300b2d28cf3bb9fff11df774cd6f7',\n",
       "  [['3771536717571927006'],\n",
       "   ['1539986698775'],\n",
       "   ['US'],\n",
       "   ['iOS'],\n",
       "   ['443AE602-C493-40D2-A125-4245B72AC4AA']])]"
      ]
     },
     "execution_count": 27,
     "metadata": {},
     "output_type": "execute_result"
    }
   ],
   "source": [
    "sessions_data_adj2 = temp_pair_dict[1]\n",
    "sessions_data_adj2 = sessions_data_adj2.leftOuterJoin(temp_pair_dict[2])\\\n",
    "                                             .map(lambda x: (x[0], list(x[1])))\n",
    "sessions_data_adj2 = sessions_data_adj2.leftOuterJoin(temp_pair_dict[3])\\\n",
    "                                             .map(lambda x: (x[0], list(x[1])))\\\n",
    "                                             .map(lambda x: (x[0], [x[1][0][0], x[1][0][1], x[1][1]]))\n",
    "sessions_data_adj2 = sessions_data_adj2.leftOuterJoin(temp_pair_dict[4])\\\n",
    "                                             .map(lambda x: (x[0], list(x[1])))\\\n",
    "                                             .map(lambda x: (x[0], [x[1][0][0], x[1][0][1], x[1][0][2], x[1][1]]))\n",
    "sessions_data_adj2 = sessions_data_adj2.leftOuterJoin(temp_pair_dict[5])\\\n",
    "                                             .map(lambda x: (x[0], list(x[1])))\\\n",
    "                                             .map(lambda x: (x[0], [x[1][0][0], x[1][0][1], x[1][0][2], \n",
    "                                                                    x[1][0][3], x[1][1]]))\n",
    "sessions_data_adj2.take(1)"
   ]
  },
  {
   "cell_type": "code",
   "execution_count": 28,
   "metadata": {
    "ExecuteTime": {
     "end_time": "2019-02-25T02:27:14.921127Z",
     "start_time": "2019-02-25T02:27:14.916487Z"
    }
   },
   "outputs": [],
   "source": [
    "def most_common(lst):\n",
    "    return max(set(lst), key=lst.count)"
   ]
  },
  {
   "cell_type": "code",
   "execution_count": 29,
   "metadata": {
    "ExecuteTime": {
     "end_time": "2019-02-25T02:28:11.245250Z",
     "start_time": "2019-02-25T02:28:05.709457Z"
    }
   },
   "outputs": [
    {
     "data": {
      "text/plain": [
       "[['46d54b4fab292c461cdf8f3825f7106907b300b2d28cf3bb9fff11df774cd6f7',\n",
       "  '1539986698775',\n",
       "  'US',\n",
       "  'iOS',\n",
       "  1]]"
      ]
     },
     "execution_count": 29,
     "metadata": {},
     "output_type": "execute_result"
    }
   ],
   "source": [
    "sessions_data_adj3 = sessions_data_adj2.map(lambda x: [x[0],\n",
    "                                                       most_common(x[1][1]),\n",
    "                                                       most_common(x[1][2]),\n",
    "                                                       most_common(x[1][3]),\n",
    "                                                       len(set(x[1][4]))])\n",
    "sessions_data_adj3.take(1)"
   ]
  },
  {
   "cell_type": "code",
   "execution_count": 31,
   "metadata": {
    "ExecuteTime": {
     "end_time": "2019-02-25T02:28:39.549378Z",
     "start_time": "2019-02-25T02:28:39.427673Z"
    }
   },
   "outputs": [
    {
     "data": {
      "text/plain": [
       "[['4c11dfd3e42377b2c79ebb6db9189947ce1400406129101cebcf5e4f2c7c1764',\n",
       "  '1538661759993',\n",
       "  'NA',\n",
       "  'Android OS',\n",
       "  1]]"
      ]
     },
     "execution_count": 31,
     "metadata": {},
     "output_type": "execute_result"
    }
   ],
   "source": [
    "sessions_data_adj3.filter(lambda x: x[2] == \"NA\").take(1)"
   ]
  },
  {
   "cell_type": "code",
   "execution_count": 37,
   "metadata": {
    "ExecuteTime": {
     "end_time": "2019-02-25T02:33:36.389992Z",
     "start_time": "2019-02-25T02:33:36.381432Z"
    }
   },
   "outputs": [
    {
     "data": {
      "text/plain": [
       "'2018-10-04 14:02:39'"
      ]
     },
     "execution_count": 37,
     "metadata": {},
     "output_type": "execute_result"
    }
   ],
   "source": [
    "def convertTime(ts_str):\n",
    "    return datetime.utcfromtimestamp(int(ts_str)/1000.0).strftime('%Y-%m-%d %H:%M:%S')\n",
    "convertTime('1538661759993')"
   ]
  },
  {
   "cell_type": "code",
   "execution_count": 39,
   "metadata": {
    "ExecuteTime": {
     "end_time": "2019-02-25T02:34:21.748020Z",
     "start_time": "2019-02-25T02:34:01.818200Z"
    }
   },
   "outputs": [
    {
     "data": {
      "text/plain": [
       "[]"
      ]
     },
     "execution_count": 39,
     "metadata": {},
     "output_type": "execute_result"
    }
   ],
   "source": [
    "sessions_data_adj3.filter(lambda x:x[1] == \"\").take(1)"
   ]
  },
  {
   "cell_type": "code",
   "execution_count": 41,
   "metadata": {
    "ExecuteTime": {
     "end_time": "2019-02-25T02:34:32.895547Z",
     "start_time": "2019-02-25T02:34:32.785613Z"
    }
   },
   "outputs": [
    {
     "data": {
      "text/plain": [
       "[['46d54b4fab292c461cdf8f3825f7106907b300b2d28cf3bb9fff11df774cd6f7',\n",
       "  '2018-10-19 22:04:58',\n",
       "  'US',\n",
       "  'iOS',\n",
       "  1]]"
      ]
     },
     "execution_count": 41,
     "metadata": {},
     "output_type": "execute_result"
    }
   ],
   "source": [
    "sessions_data_adj4 = sessions_data_adj3.map(lambda x: [x[0], convertTime(x[1]),\n",
    "                                                       'NAM' if x[2] == \"NA\" else x[2],\n",
    "                                                       x[3], x[4]])\n",
    "sessions_data_adj4.take(1)"
   ]
  },
  {
   "cell_type": "markdown",
   "metadata": {},
   "source": [
    "## Data Dictionary\n",
    "0 - user_id  \n",
    "1 - date_user_created   \n",
    "2 - most_freq_country  \n",
    "3 - most_freq_os  \n",
    "4 - num_uniq_device_id"
   ]
  },
  {
   "cell_type": "code",
   "execution_count": 42,
   "metadata": {
    "ExecuteTime": {
     "end_time": "2019-02-25T02:37:15.765107Z",
     "start_time": "2019-02-25T02:37:10.154218Z"
    }
   },
   "outputs": [
    {
     "data": {
      "text/plain": [
       "['46d54b4fab292c461cdf8f3825f7106907b300b2d28cf3bb9fff11df774cd6f7,2018-10-19 22:04:58,US,iOS,1']"
      ]
     },
     "execution_count": 42,
     "metadata": {},
     "output_type": "execute_result"
    }
   ],
   "source": [
    "sessions_data_adj5 = sessions_data_adj4.map(lambda x: ','.join([str(y) for y in x]))\n",
    "sessions_data_adj5.take(1)"
   ]
  },
  {
   "cell_type": "code",
   "execution_count": 43,
   "metadata": {
    "ExecuteTime": {
     "end_time": "2019-02-25T02:37:50.264783Z",
     "start_time": "2019-02-25T02:37:36.778673Z"
    }
   },
   "outputs": [],
   "source": [
    "with open('sessions.csv', 'w') as f:\n",
    "    for line in sessions_data_adj5.collect():\n",
    "        f.write(line)\n",
    "        f.write('\\n')"
   ]
  },
  {
   "cell_type": "code",
   "execution_count": 44,
   "metadata": {
    "ExecuteTime": {
     "end_time": "2019-02-25T02:37:54.510157Z",
     "start_time": "2019-02-25T02:37:50.268857Z"
    }
   },
   "outputs": [
    {
     "data": {
      "text/plain": [
       "619519"
      ]
     },
     "execution_count": 44,
     "metadata": {},
     "output_type": "execute_result"
    }
   ],
   "source": [
    "sessions_data_adj5.count()"
   ]
  },
  {
   "cell_type": "code",
   "execution_count": null,
   "metadata": {},
   "outputs": [],
   "source": []
  }
 ],
 "metadata": {
  "kernelspec": {
   "display_name": "Python 2",
   "language": "python",
   "name": "python2"
  },
  "language_info": {
   "codemirror_mode": {
    "name": "ipython",
    "version": 2
   },
   "file_extension": ".py",
   "mimetype": "text/x-python",
   "name": "python",
   "nbconvert_exporter": "python",
   "pygments_lexer": "ipython2",
   "version": "2.7.15"
  }
 },
 "nbformat": 4,
 "nbformat_minor": 2
}
