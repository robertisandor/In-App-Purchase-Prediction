{
 "cells": [
  {
   "cell_type": "code",
   "execution_count": 52,
   "metadata": {
    "ExecuteTime": {
     "end_time": "2019-02-20T09:32:48.379214Z",
     "start_time": "2019-02-20T09:32:48.372922Z"
    }
   },
   "outputs": [],
   "source": [
    "import os\n",
    "import numpy as np\n",
    "import timeit\n",
    "import pyspark\n",
    "import pandas as pd\n",
    "import s3fs\n",
    "import time\n",
    "import ast\n",
    "from datetime import datetime"
   ]
  },
  {
   "cell_type": "code",
   "execution_count": 53,
   "metadata": {
    "ExecuteTime": {
     "end_time": "2019-02-20T09:32:57.465074Z",
     "start_time": "2019-02-20T09:32:48.616458Z"
    }
   },
   "outputs": [],
   "source": [
    "sc = pyspark.SparkContext.getOrCreate()\n",
    "ss = pyspark.sql.SparkSession.builder.getOrCreate()"
   ]
  },
  {
   "cell_type": "code",
   "execution_count": 54,
   "metadata": {
    "ExecuteTime": {
     "end_time": "2019-02-20T09:32:57.484804Z",
     "start_time": "2019-02-20T09:32:57.469080Z"
    }
   },
   "outputs": [
    {
     "data": {
      "text/plain": [
       "{'attributes': 's3a://msds630-kaggle-competition/attributes.csv',\n",
       " 'events': 's3a://msds630-kaggle-competition/events.csv',\n",
       " 'messages': 's3a://msds630-kaggle-competition/messages.csv',\n",
       " 'sessions': 's3a://msds630-kaggle-competition/sessions.csv'}"
      ]
     },
     "execution_count": 54,
     "metadata": {},
     "output_type": "execute_result"
    }
   ],
   "source": [
    "s3_address = \"s3a://msds630-kaggle-competition/\"\n",
    "dataset_addr_book = {}\n",
    "dataset_name_list = [\"events\", \"messages\", \"attributes\", \"sessions\"]\n",
    "for name in dataset_name_list:\n",
    "    dataset_addr_book[name] = \"\".join([s3_address, name, \".csv\"])\n",
    "\n",
    "dataset_addr_book"
   ]
  },
  {
   "cell_type": "code",
   "execution_count": 55,
   "metadata": {
    "ExecuteTime": {
     "end_time": "2019-02-20T09:33:07.363439Z",
     "start_time": "2019-02-20T09:32:57.488960Z"
    }
   },
   "outputs": [
    {
     "name": "stdout",
     "output_type": "stream",
     "text": [
      "['app_id', 'session_id', 'event', 'event_timestamp', 'event_value', 'user_id_hash']\n",
      "6\n"
     ]
    }
   ],
   "source": [
    "events_rdd = sc.textFile(dataset_addr_book[\"events\"])\\\n",
    "               .map(lambda line : line.encode('ascii', 'ignore'))\n",
    "cols_events = events_rdd.map(lambda x: x.split(',')).take(1)[0]\n",
    "print(cols_events)\n",
    "print(len(cols_events))"
   ]
  },
  {
   "cell_type": "code",
   "execution_count": 56,
   "metadata": {
    "ExecuteTime": {
     "end_time": "2019-02-20T09:33:08.145402Z",
     "start_time": "2019-02-20T09:33:07.367417Z"
    }
   },
   "outputs": [
    {
     "data": {
      "text/plain": [
       "[['4724682771660800',\n",
       "  '5558845121177764917',\n",
       "  '45',\n",
       "  '1542215397132',\n",
       "  '0.0',\n",
       "  '9943447915df3a45fd6720a026af905b6da6b56a37701b8b2629802e9a541006']]"
      ]
     },
     "execution_count": 56,
     "metadata": {},
     "output_type": "execute_result"
    }
   ],
   "source": [
    "events_data = events_rdd.filter(lambda x: 'app_id' not in x)\\\n",
    "                        .map(lambda x: x.split(','))\n",
    "events_data.take(1)"
   ]
  },
  {
   "cell_type": "code",
   "execution_count": 57,
   "metadata": {
    "ExecuteTime": {
     "end_time": "2019-02-20T09:33:08.814959Z",
     "start_time": "2019-02-20T09:33:08.149386Z"
    }
   },
   "outputs": [
    {
     "data": {
      "text/plain": [
       "[['5558845121177764917',\n",
       "  '45',\n",
       "  '1542215397132',\n",
       "  '0.0',\n",
       "  '9943447915df3a45fd6720a026af905b6da6b56a37701b8b2629802e9a541006']]"
      ]
     },
     "execution_count": 57,
     "metadata": {},
     "output_type": "execute_result"
    }
   ],
   "source": [
    "events_data_adj = events_data.map(lambda x: x[1:]) # Drop app_id\n",
    "events_data_adj.take(1)"
   ]
  },
  {
   "cell_type": "code",
   "execution_count": 58,
   "metadata": {
    "ExecuteTime": {
     "end_time": "2019-02-20T09:33:08.827982Z",
     "start_time": "2019-02-20T09:33:08.818876Z"
    }
   },
   "outputs": [
    {
     "data": {
      "text/plain": [
       "'2018-11-08 00:53:44'"
      ]
     },
     "execution_count": 58,
     "metadata": {},
     "output_type": "execute_result"
    }
   ],
   "source": [
    "def convertTime(ts_str):\n",
    "    return datetime.utcfromtimestamp(int(ts_str)/1000.0).strftime('%Y-%m-%d %H:%M:%S')\n",
    "convertTime('1541638424150')"
   ]
  },
  {
   "cell_type": "code",
   "execution_count": 59,
   "metadata": {
    "ExecuteTime": {
     "end_time": "2019-02-20T09:33:09.474740Z",
     "start_time": "2019-02-20T09:33:08.831914Z"
    }
   },
   "outputs": [
    {
     "data": {
      "text/plain": [
       "[('9943447915df3a45fd6720a026af905b6da6b56a37701b8b2629802e9a541006',\n",
       "  '2018-11-14 17:09:57')]"
      ]
     },
     "execution_count": 59,
     "metadata": {},
     "output_type": "execute_result"
    }
   ],
   "source": [
    "events_data_adj2 = events_data_adj.map(lambda x: (x[4], convertTime(x[2])))\n",
    "events_data_adj2.take(1)"
   ]
  },
  {
   "cell_type": "code",
   "execution_count": 60,
   "metadata": {
    "ExecuteTime": {
     "end_time": "2019-02-20T09:33:18.023002Z",
     "start_time": "2019-02-20T09:33:18.018632Z"
    }
   },
   "outputs": [],
   "source": [
    "events_data_train = events_data_adj2.filter(lambda x: x[1] < '2018-12-02')\n",
    "events_data_test = events_data_adj2.filter(lambda x: x[1] < '2018-12-16')"
   ]
  },
  {
   "cell_type": "code",
   "execution_count": 61,
   "metadata": {
    "ExecuteTime": {
     "end_time": "2019-02-20T09:33:20.326806Z",
     "start_time": "2019-02-20T09:33:19.669229Z"
    }
   },
   "outputs": [
    {
     "data": {
      "text/plain": [
       "'2018-11-14 17:09:57'"
      ]
     },
     "execution_count": 61,
     "metadata": {},
     "output_type": "execute_result"
    }
   ],
   "source": [
    "events_data_train.take(1)[0][1]"
   ]
  },
  {
   "cell_type": "code",
   "execution_count": 62,
   "metadata": {
    "ExecuteTime": {
     "end_time": "2019-02-20T09:33:23.458682Z",
     "start_time": "2019-02-20T09:33:23.449587Z"
    }
   },
   "outputs": [
    {
     "data": {
      "text/plain": [
       "datetime.datetime(2018, 11, 14, 17, 9, 57)"
      ]
     },
     "execution_count": 62,
     "metadata": {},
     "output_type": "execute_result"
    }
   ],
   "source": [
    "datetime.strptime('2018-11-14 17:09:57', '%Y-%m-%d %H:%M:%S')"
   ]
  },
  {
   "cell_type": "code",
   "execution_count": 63,
   "metadata": {
    "ExecuteTime": {
     "end_time": "2019-02-20T09:33:24.516394Z",
     "start_time": "2019-02-20T09:33:24.506050Z"
    }
   },
   "outputs": [
    {
     "data": {
      "text/plain": [
       "datetime.datetime(2018, 12, 14, 17, 9, 57)"
      ]
     },
     "execution_count": 63,
     "metadata": {},
     "output_type": "execute_result"
    }
   ],
   "source": [
    "def getMaxDate(dt_list):\n",
    "    return max([datetime.strptime(date, '%Y-%m-%d %H:%M:%S') for date in dt_list])\n",
    "getMaxDate(['2018-11-14 17:09:57','2018-12-14 17:09:57'])"
   ]
  },
  {
   "cell_type": "code",
   "execution_count": 64,
   "metadata": {
    "ExecuteTime": {
     "end_time": "2019-02-20T09:33:27.360036Z",
     "start_time": "2019-02-20T09:33:27.316636Z"
    }
   },
   "outputs": [],
   "source": [
    "event_data_train_group = events_data_train.groupByKey().map(lambda x: [x[0], getMaxDate(list(x[1]))])\n",
    "event_data_test_group = events_data_test.groupByKey().map(lambda x: [x[0], getMaxDate(list(x[1]))])"
   ]
  },
  {
   "cell_type": "code",
   "execution_count": 65,
   "metadata": {
    "ExecuteTime": {
     "end_time": "2019-02-20T09:37:45.259816Z",
     "start_time": "2019-02-20T09:33:29.571358Z"
    }
   },
   "outputs": [
    {
     "data": {
      "text/plain": [
       "[['f112a4a8617253cf392752d6cb8eaae910750852a2c95ec0b5255b090cd8ef2f',\n",
       "  datetime.datetime(2018, 10, 31, 9, 2, 59)]]"
      ]
     },
     "execution_count": 65,
     "metadata": {},
     "output_type": "execute_result"
    }
   ],
   "source": [
    "event_data_train_group.take(1)"
   ]
  },
  {
   "cell_type": "code",
   "execution_count": 66,
   "metadata": {
    "ExecuteTime": {
     "end_time": "2019-02-20T09:37:45.272359Z",
     "start_time": "2019-02-20T09:37:45.263966Z"
    }
   },
   "outputs": [
    {
     "data": {
      "text/plain": [
       "'2018-11-05 08:00:26'"
      ]
     },
     "execution_count": 66,
     "metadata": {},
     "output_type": "execute_result"
    }
   ],
   "source": [
    "str(datetime(2018, 11, 5, 8, 0, 26))"
   ]
  },
  {
   "cell_type": "code",
   "execution_count": 67,
   "metadata": {
    "ExecuteTime": {
     "end_time": "2019-02-20T09:37:45.281645Z",
     "start_time": "2019-02-20T09:37:45.276077Z"
    }
   },
   "outputs": [],
   "source": [
    "event_data_train_group_2 = event_data_train_group.map(lambda x: ','.join([x[0],str(x[1])]))\n",
    "event_data_test_group_2 = event_data_test_group.map(lambda x: ','.join([x[0],str(x[1])]))"
   ]
  },
  {
   "cell_type": "code",
   "execution_count": 68,
   "metadata": {
    "ExecuteTime": {
     "end_time": "2019-02-20T09:37:45.544077Z",
     "start_time": "2019-02-20T09:37:45.285422Z"
    }
   },
   "outputs": [
    {
     "data": {
      "text/plain": [
       "['f112a4a8617253cf392752d6cb8eaae910750852a2c95ec0b5255b090cd8ef2f,2018-10-31 09:02:59']"
      ]
     },
     "execution_count": 68,
     "metadata": {},
     "output_type": "execute_result"
    }
   ],
   "source": [
    "event_data_train_group_2.take(1)"
   ]
  },
  {
   "cell_type": "code",
   "execution_count": 45,
   "metadata": {
    "ExecuteTime": {
     "end_time": "2019-02-20T08:53:04.601732Z",
     "start_time": "2019-02-20T08:31:18.690307Z"
    }
   },
   "outputs": [],
   "source": [
    "# event_data_train_group_2.coalesce(1).saveAsTextFile(\"train_most_recent_session.csv\")"
   ]
  },
  {
   "cell_type": "code",
   "execution_count": 46,
   "metadata": {
    "ExecuteTime": {
     "end_time": "2019-02-20T09:22:08.932833Z",
     "start_time": "2019-02-20T08:53:04.604812Z"
    }
   },
   "outputs": [],
   "source": [
    "# event_data_test_group_2.coalesce(1).saveAsTextFile(\"test_most_recent_session.csv\")"
   ]
  },
  {
   "cell_type": "code",
   "execution_count": 71,
   "metadata": {
    "ExecuteTime": {
     "end_time": "2019-02-20T09:51:32.349574Z",
     "start_time": "2019-02-20T09:47:44.800721Z"
    }
   },
   "outputs": [],
   "source": [
    "with open('most_recent_session_train.csv', 'w') as f:\n",
    "    for line in event_data_train_group_2.collect():\n",
    "        f.write(line)\n",
    "        f.write('\\n')"
   ]
  },
  {
   "cell_type": "code",
   "execution_count": 72,
   "metadata": {
    "ExecuteTime": {
     "end_time": "2019-02-20T09:51:32.468716Z",
     "start_time": "2019-02-20T09:51:32.354072Z"
    }
   },
   "outputs": [
    {
     "data": {
      "text/plain": [
       "['545bc18dece2ea9762fabe6d23507455e955c0aec1369f51a704d9b2c564b1f4,2018-11-05 08:00:26']"
      ]
     },
     "execution_count": 72,
     "metadata": {},
     "output_type": "execute_result"
    }
   ],
   "source": [
    "event_data_test_group_2.take(1)"
   ]
  },
  {
   "cell_type": "code",
   "execution_count": 73,
   "metadata": {
    "ExecuteTime": {
     "end_time": "2019-02-20T09:55:00.552244Z",
     "start_time": "2019-02-20T09:51:32.472863Z"
    }
   },
   "outputs": [],
   "source": [
    "with open('most_recent_session_test.csv', 'w') as f:\n",
    "    for line in event_data_test_group_2.collect():\n",
    "        f.write(line)\n",
    "        f.write('\\n')"
   ]
  },
  {
   "cell_type": "code",
   "execution_count": null,
   "metadata": {
    "ExecuteTime": {
     "end_time": "2019-02-20T09:47:34.845281Z",
     "start_time": "2019-02-20T09:34:20.815Z"
    }
   },
   "outputs": [],
   "source": [
    "event_data_train_group_2.count()"
   ]
  },
  {
   "cell_type": "code",
   "execution_count": null,
   "metadata": {},
   "outputs": [],
   "source": []
  }
 ],
 "metadata": {
  "kernelspec": {
   "display_name": "Python 3",
   "language": "python",
   "name": "python3"
  },
  "language_info": {
   "codemirror_mode": {
    "name": "ipython",
    "version": 3
   },
   "file_extension": ".py",
   "mimetype": "text/x-python",
   "name": "python",
   "nbconvert_exporter": "python",
   "pygments_lexer": "ipython3",
   "version": "3.6.8"
  }
 },
 "nbformat": 4,
 "nbformat_minor": 2
}
