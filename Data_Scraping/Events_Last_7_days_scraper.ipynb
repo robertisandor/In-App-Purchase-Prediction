{
 "cells": [
  {
   "cell_type": "code",
   "execution_count": 1,
   "metadata": {
    "ExecuteTime": {
     "end_time": "2019-02-25T01:22:01.534667Z",
     "start_time": "2019-02-25T01:22:01.163222Z"
    }
   },
   "outputs": [],
   "source": [
    "import os\n",
    "import numpy as np\n",
    "import timeit\n",
    "import pyspark\n",
    "import pandas as pd\n",
    "import s3fs\n",
    "import time\n",
    "import ast\n",
    "import operator\n",
    "from datetime import datetime\n",
    "import statistics"
   ]
  },
  {
   "cell_type": "code",
   "execution_count": 2,
   "metadata": {
    "ExecuteTime": {
     "end_time": "2019-02-25T01:22:01.545286Z",
     "start_time": "2019-02-25T01:22:01.539038Z"
    }
   },
   "outputs": [],
   "source": [
    "sc = pyspark.SparkContext.getOrCreate()\n",
    "ss = pyspark.sql.SparkSession.builder.getOrCreate()"
   ]
  },
  {
   "cell_type": "markdown",
   "metadata": {},
   "source": [
    "## Set up the data address book"
   ]
  },
  {
   "cell_type": "code",
   "execution_count": 3,
   "metadata": {
    "ExecuteTime": {
     "end_time": "2019-02-25T01:22:01.564746Z",
     "start_time": "2019-02-25T01:22:01.549114Z"
    }
   },
   "outputs": [
    {
     "data": {
      "text/plain": [
       "{'attributes': 's3a://msds630-kaggle-competition/attributes.csv',\n",
       " 'events': 's3a://msds630-kaggle-competition/events.csv',\n",
       " 'messages': 's3a://msds630-kaggle-competition/messages.csv',\n",
       " 'sessions': 's3a://msds630-kaggle-competition/sessions.csv'}"
      ]
     },
     "execution_count": 3,
     "metadata": {},
     "output_type": "execute_result"
    }
   ],
   "source": [
    "s3_address = \"s3a://msds630-kaggle-competition/\"\n",
    "dataset_addr_book = {}\n",
    "dataset_name_list = [\"events\", \"messages\", \"attributes\", \"sessions\"]\n",
    "for name in dataset_name_list:\n",
    "    dataset_addr_book[name] = \"\".join([s3_address, name, \".csv\"])\n",
    "\n",
    "dataset_addr_book"
   ]
  },
  {
   "cell_type": "markdown",
   "metadata": {},
   "source": [
    "## Load events"
   ]
  },
  {
   "cell_type": "code",
   "execution_count": 4,
   "metadata": {
    "ExecuteTime": {
     "end_time": "2019-02-25T01:22:12.329414Z",
     "start_time": "2019-02-25T01:22:01.568724Z"
    }
   },
   "outputs": [
    {
     "name": "stdout",
     "output_type": "stream",
     "text": [
      "['app_id', 'session_id', 'event', 'event_timestamp', 'event_value', 'user_id_hash']\n",
      "6\n"
     ]
    }
   ],
   "source": [
    "events_rdd = sc.textFile(dataset_addr_book[\"events\"])\\\n",
    "               .map(lambda line : line.encode('ascii', 'ignore'))\n",
    "cols_events = events_rdd.map(lambda x: x.split(',')).take(1)[0]\n",
    "print(cols_events)\n",
    "print(len(cols_events))"
   ]
  },
  {
   "cell_type": "code",
   "execution_count": 5,
   "metadata": {
    "ExecuteTime": {
     "end_time": "2019-02-25T01:22:13.047150Z",
     "start_time": "2019-02-25T01:22:12.333621Z"
    }
   },
   "outputs": [
    {
     "data": {
      "text/plain": [
       "[['4724682771660800',\n",
       "  '5558845121177764917',\n",
       "  '45',\n",
       "  '1542215397132',\n",
       "  '0.0',\n",
       "  '9943447915df3a45fd6720a026af905b6da6b56a37701b8b2629802e9a541006']]"
      ]
     },
     "execution_count": 5,
     "metadata": {},
     "output_type": "execute_result"
    }
   ],
   "source": [
    "events_data = events_rdd.filter(lambda x: 'app_id' not in x)\\\n",
    "                        .map(lambda x: x.split(','))\n",
    "events_data.take(1)"
   ]
  },
  {
   "cell_type": "code",
   "execution_count": 6,
   "metadata": {
    "ExecuteTime": {
     "end_time": "2019-02-25T01:22:13.059110Z",
     "start_time": "2019-02-25T01:22:13.051275Z"
    }
   },
   "outputs": [
    {
     "data": {
      "text/plain": [
       "['session_id', 'event', 'event_timestamp', 'event_value', 'user_id_hash']"
      ]
     },
     "execution_count": 6,
     "metadata": {},
     "output_type": "execute_result"
    }
   ],
   "source": [
    "cols_events_adj = cols_events[1:] # Drop app_id\n",
    "cols_events_adj"
   ]
  },
  {
   "cell_type": "code",
   "execution_count": 7,
   "metadata": {
    "ExecuteTime": {
     "end_time": "2019-02-25T01:22:13.882281Z",
     "start_time": "2019-02-25T01:22:13.062937Z"
    }
   },
   "outputs": [
    {
     "data": {
      "text/plain": [
       "[['5558845121177764917',\n",
       "  '45',\n",
       "  '1542215397132',\n",
       "  '0.0',\n",
       "  '9943447915df3a45fd6720a026af905b6da6b56a37701b8b2629802e9a541006']]"
      ]
     },
     "execution_count": 7,
     "metadata": {},
     "output_type": "execute_result"
    }
   ],
   "source": [
    "events_data_adj = events_data.map(lambda x: x[1:]) # Drop app_id\n",
    "events_data_adj.take(1)"
   ]
  },
  {
   "cell_type": "code",
   "execution_count": 8,
   "metadata": {
    "ExecuteTime": {
     "end_time": "2019-02-25T01:22:13.895424Z",
     "start_time": "2019-02-25T01:22:13.886595Z"
    }
   },
   "outputs": [
    {
     "data": {
      "text/plain": [
       "'2018-11-08 00:53:44'"
      ]
     },
     "execution_count": 8,
     "metadata": {},
     "output_type": "execute_result"
    }
   ],
   "source": [
    "def convertTime(ts_str):\n",
    "    return datetime.utcfromtimestamp(int(ts_str)/1000.0).strftime('%Y-%m-%d %H:%M:%S')\n",
    "convertTime('1541638424150')"
   ]
  },
  {
   "cell_type": "markdown",
   "metadata": {},
   "source": [
    "## Train"
   ]
  },
  {
   "cell_type": "code",
   "execution_count": 12,
   "metadata": {
    "ExecuteTime": {
     "end_time": "2019-02-25T01:25:45.133611Z",
     "start_time": "2019-02-25T01:25:44.395627Z"
    }
   },
   "outputs": [
    {
     "data": {
      "text/plain": [
       "[['3911933845664332608',\n",
       "  '45',\n",
       "  '1543451911352',\n",
       "  '0.0',\n",
       "  '9943447915df3a45fd6720a026af905b6da6b56a37701b8b2629802e9a541006']]"
      ]
     },
     "execution_count": 12,
     "metadata": {},
     "output_type": "execute_result"
    }
   ],
   "source": [
    "events_data_train = events_data_adj.filter(lambda x: convertTime(x[2])[:10] < '2018-12-02')\\\n",
    "                                   .filter(lambda x: convertTime(x[2])[:10] >= '2018-11-25')\n",
    "events_data_train.take(1)"
   ]
  },
  {
   "cell_type": "code",
   "execution_count": 13,
   "metadata": {
    "ExecuteTime": {
     "end_time": "2019-02-25T01:25:46.656841Z",
     "start_time": "2019-02-25T01:25:46.561065Z"
    }
   },
   "outputs": [],
   "source": [
    "temp_pair_train_dict = {}\n",
    "for i in range(6):\n",
    "    if i != 0:\n",
    "        temp_pair = events_data_train.map(lambda x: (x[0], x[i]))\\\n",
    "                                    .groupByKey().map(lambda x: [x[0], list(x[1])])\n",
    "        temp_pair_train_dict[i] = temp_pair"
   ]
  },
  {
   "cell_type": "code",
   "execution_count": 14,
   "metadata": {
    "ExecuteTime": {
     "end_time": "2019-02-25T01:32:27.012894Z",
     "start_time": "2019-02-25T01:25:47.074259Z"
    }
   },
   "outputs": [
    {
     "data": {
      "text/plain": [
       "[('6309264250257609843',\n",
       "  [['1',\n",
       "    '5',\n",
       "    '45',\n",
       "    '45',\n",
       "    '45',\n",
       "    '45',\n",
       "    '45',\n",
       "    '45',\n",
       "    '45',\n",
       "    '45',\n",
       "    '45',\n",
       "    '45',\n",
       "    '45',\n",
       "    '45',\n",
       "    '45',\n",
       "    '45',\n",
       "    '45',\n",
       "    '4',\n",
       "    '6',\n",
       "    '40',\n",
       "    '41',\n",
       "    '3',\n",
       "    '42'],\n",
       "   ['1543175110236',\n",
       "    '1543175113178',\n",
       "    '1543175188473',\n",
       "    '1543175236995',\n",
       "    '1543175242927',\n",
       "    '1543175281611',\n",
       "    '1543175322511',\n",
       "    '1543175370581',\n",
       "    '1543175381381',\n",
       "    '1543175420159',\n",
       "    '1543175444136',\n",
       "    '1543175469816',\n",
       "    '1543175478723',\n",
       "    '1543175484426',\n",
       "    '1543175488738',\n",
       "    '1543175548012',\n",
       "    '1543175624174',\n",
       "    '1543175687406',\n",
       "    '1543175696612',\n",
       "    '1543175706829',\n",
       "    '1543175710120',\n",
       "    '1543175773504',\n",
       "    '1543175775452'],\n",
       "   ['0.0',\n",
       "    '1.0',\n",
       "    '0.0',\n",
       "    '0.0',\n",
       "    '0.0',\n",
       "    '0.0',\n",
       "    '0.0',\n",
       "    '0.0',\n",
       "    '0.0',\n",
       "    '0.0',\n",
       "    '0.0',\n",
       "    '0.0',\n",
       "    '0.0',\n",
       "    '0.0',\n",
       "    '0.0',\n",
       "    '0.0',\n",
       "    '0.0',\n",
       "    '0.0',\n",
       "    '0.0',\n",
       "    '0.0',\n",
       "    '0.0',\n",
       "    '0.0',\n",
       "    '0.0'],\n",
       "   ['10596df08f16abc27259f399c1e71d5b591a931c22eeed1cd3fa8ba3e798d237',\n",
       "    '10596df08f16abc27259f399c1e71d5b591a931c22eeed1cd3fa8ba3e798d237',\n",
       "    '10596df08f16abc27259f399c1e71d5b591a931c22eeed1cd3fa8ba3e798d237',\n",
       "    '10596df08f16abc27259f399c1e71d5b591a931c22eeed1cd3fa8ba3e798d237',\n",
       "    '10596df08f16abc27259f399c1e71d5b591a931c22eeed1cd3fa8ba3e798d237',\n",
       "    '10596df08f16abc27259f399c1e71d5b591a931c22eeed1cd3fa8ba3e798d237',\n",
       "    '10596df08f16abc27259f399c1e71d5b591a931c22eeed1cd3fa8ba3e798d237',\n",
       "    '10596df08f16abc27259f399c1e71d5b591a931c22eeed1cd3fa8ba3e798d237',\n",
       "    '10596df08f16abc27259f399c1e71d5b591a931c22eeed1cd3fa8ba3e798d237',\n",
       "    '10596df08f16abc27259f399c1e71d5b591a931c22eeed1cd3fa8ba3e798d237',\n",
       "    '10596df08f16abc27259f399c1e71d5b591a931c22eeed1cd3fa8ba3e798d237',\n",
       "    '10596df08f16abc27259f399c1e71d5b591a931c22eeed1cd3fa8ba3e798d237',\n",
       "    '10596df08f16abc27259f399c1e71d5b591a931c22eeed1cd3fa8ba3e798d237',\n",
       "    '10596df08f16abc27259f399c1e71d5b591a931c22eeed1cd3fa8ba3e798d237',\n",
       "    '10596df08f16abc27259f399c1e71d5b591a931c22eeed1cd3fa8ba3e798d237',\n",
       "    '10596df08f16abc27259f399c1e71d5b591a931c22eeed1cd3fa8ba3e798d237',\n",
       "    '10596df08f16abc27259f399c1e71d5b591a931c22eeed1cd3fa8ba3e798d237',\n",
       "    '10596df08f16abc27259f399c1e71d5b591a931c22eeed1cd3fa8ba3e798d237',\n",
       "    '10596df08f16abc27259f399c1e71d5b591a931c22eeed1cd3fa8ba3e798d237',\n",
       "    '10596df08f16abc27259f399c1e71d5b591a931c22eeed1cd3fa8ba3e798d237',\n",
       "    '10596df08f16abc27259f399c1e71d5b591a931c22eeed1cd3fa8ba3e798d237',\n",
       "    '10596df08f16abc27259f399c1e71d5b591a931c22eeed1cd3fa8ba3e798d237',\n",
       "    '10596df08f16abc27259f399c1e71d5b591a931c22eeed1cd3fa8ba3e798d237']])]"
      ]
     },
     "execution_count": 14,
     "metadata": {},
     "output_type": "execute_result"
    }
   ],
   "source": [
    "events_data_train_adj = temp_pair_train_dict[1]\n",
    "events_data_train_adj = events_data_train_adj.leftOuterJoin(temp_pair_train_dict[2])\\\n",
    "                                             .map(lambda x: (x[0], list(x[1])))\n",
    "events_data_train_adj = events_data_train_adj.leftOuterJoin(temp_pair_train_dict[3])\\\n",
    "                                             .map(lambda x: (x[0], list(x[1])))\\\n",
    "                                             .map(lambda x: (x[0], [x[1][0][0], x[1][0][1], x[1][1]]))\n",
    "events_data_train_adj = events_data_train_adj.leftOuterJoin(temp_pair_train_dict[4])\\\n",
    "                                             .map(lambda x: (x[0], list(x[1])))\\\n",
    "                                             .map(lambda x: (x[0], [x[1][0][0], x[1][0][1], x[1][0][2], x[1][1]]))\n",
    "events_data_train_adj.take(1)"
   ]
  },
  {
   "cell_type": "code",
   "execution_count": 15,
   "metadata": {
    "ExecuteTime": {
     "end_time": "2019-02-25T01:32:27.021542Z",
     "start_time": "2019-02-25T01:32:27.016951Z"
    }
   },
   "outputs": [],
   "source": [
    "def most_common(lst):\n",
    "    return max(set(lst), key=lst.count)"
   ]
  },
  {
   "cell_type": "code",
   "execution_count": 16,
   "metadata": {
    "ExecuteTime": {
     "end_time": "2019-02-25T01:32:27.120928Z",
     "start_time": "2019-02-25T01:32:27.025506Z"
    }
   },
   "outputs": [
    {
     "data": {
      "text/plain": [
       "[['6309264250257609843',\n",
       "  ['1',\n",
       "   '5',\n",
       "   '45',\n",
       "   '45',\n",
       "   '45',\n",
       "   '45',\n",
       "   '45',\n",
       "   '45',\n",
       "   '45',\n",
       "   '45',\n",
       "   '45',\n",
       "   '45',\n",
       "   '45',\n",
       "   '45',\n",
       "   '45',\n",
       "   '45',\n",
       "   '45',\n",
       "   '4',\n",
       "   '6',\n",
       "   '40',\n",
       "   '41',\n",
       "   '3',\n",
       "   '42'],\n",
       "  ['1543175110236',\n",
       "   '1543175113178',\n",
       "   '1543175188473',\n",
       "   '1543175236995',\n",
       "   '1543175242927',\n",
       "   '1543175281611',\n",
       "   '1543175322511',\n",
       "   '1543175370581',\n",
       "   '1543175381381',\n",
       "   '1543175420159',\n",
       "   '1543175444136',\n",
       "   '1543175469816',\n",
       "   '1543175478723',\n",
       "   '1543175484426',\n",
       "   '1543175488738',\n",
       "   '1543175548012',\n",
       "   '1543175624174',\n",
       "   '1543175687406',\n",
       "   '1543175696612',\n",
       "   '1543175706829',\n",
       "   '1543175710120',\n",
       "   '1543175773504',\n",
       "   '1543175775452'],\n",
       "  ['0.0',\n",
       "   '1.0',\n",
       "   '0.0',\n",
       "   '0.0',\n",
       "   '0.0',\n",
       "   '0.0',\n",
       "   '0.0',\n",
       "   '0.0',\n",
       "   '0.0',\n",
       "   '0.0',\n",
       "   '0.0',\n",
       "   '0.0',\n",
       "   '0.0',\n",
       "   '0.0',\n",
       "   '0.0',\n",
       "   '0.0',\n",
       "   '0.0',\n",
       "   '0.0',\n",
       "   '0.0',\n",
       "   '0.0',\n",
       "   '0.0',\n",
       "   '0.0',\n",
       "   '0.0'],\n",
       "  '10596df08f16abc27259f399c1e71d5b591a931c22eeed1cd3fa8ba3e798d237']]"
      ]
     },
     "execution_count": 16,
     "metadata": {},
     "output_type": "execute_result"
    }
   ],
   "source": [
    "events_data_train_adj2 = events_data_train_adj.map(lambda x: [x[0], x[1][0], x[1][1], x[1][2], \n",
    "                                                              most_common(x[1][3])])\n",
    "events_data_train_adj2.take(1)"
   ]
  },
  {
   "cell_type": "code",
   "execution_count": 17,
   "metadata": {
    "ExecuteTime": {
     "end_time": "2019-02-25T01:32:27.129234Z",
     "start_time": "2019-02-25T01:32:27.123687Z"
    }
   },
   "outputs": [],
   "source": [
    "def findPur(event_list):\n",
    "    pur_list = []\n",
    "    for i in range(len(event_list)):\n",
    "        if event_list[i] == '8':\n",
    "            pur_list.append(i)\n",
    "    return pur_list     "
   ]
  },
  {
   "cell_type": "code",
   "execution_count": 18,
   "metadata": {
    "ExecuteTime": {
     "end_time": "2019-02-25T01:32:27.197110Z",
     "start_time": "2019-02-25T01:32:27.133181Z"
    }
   },
   "outputs": [
    {
     "data": {
      "text/plain": [
       "[['6706918736980330942',\n",
       "  [0],\n",
       "  33,\n",
       "  ['1543276071431',\n",
       "   '1543276092053',\n",
       "   '1543276092059',\n",
       "   '1543276223128',\n",
       "   '1543276393299',\n",
       "   '1543276445457',\n",
       "   '1543276651567',\n",
       "   '1543276726439',\n",
       "   '1543276826273',\n",
       "   '1543276922619',\n",
       "   '1543276922631',\n",
       "   '1543277005322',\n",
       "   '1543277020292',\n",
       "   '1543277077316',\n",
       "   '1543277144537',\n",
       "   '1543277278941',\n",
       "   '1543277340345',\n",
       "   '1543277348546',\n",
       "   '1543277399346',\n",
       "   '1543277406008',\n",
       "   '1543277416756',\n",
       "   '1543277435860',\n",
       "   '1543277609704',\n",
       "   '1543277611067',\n",
       "   '1543277635349',\n",
       "   '1543277759711',\n",
       "   '1543277805399',\n",
       "   '1543277904395',\n",
       "   '1543277945300',\n",
       "   '1543278037594',\n",
       "   '1543278095400',\n",
       "   '1543278139337',\n",
       "   '1543278377618'],\n",
       "  ['3.493',\n",
       "   '25.0',\n",
       "   '0.0',\n",
       "   '0.0',\n",
       "   '0.0',\n",
       "   '0.0',\n",
       "   '0.0',\n",
       "   '0.0',\n",
       "   '0.0',\n",
       "   '19.0',\n",
       "   '0.0',\n",
       "   '0.0',\n",
       "   '0.0',\n",
       "   '0.0',\n",
       "   '0.0',\n",
       "   '0.0',\n",
       "   '0.0',\n",
       "   '0.0',\n",
       "   '0.0',\n",
       "   '0.0',\n",
       "   '0.0',\n",
       "   '0.0',\n",
       "   '0.0',\n",
       "   '0.0',\n",
       "   '1.0',\n",
       "   '0.0',\n",
       "   '0.0',\n",
       "   '0.0',\n",
       "   '0.0',\n",
       "   '0.0',\n",
       "   '0.0',\n",
       "   '0.0',\n",
       "   '0.0'],\n",
       "  '175800a4d243a8210d681cb9b3ecf66288e71080d06dfe7b4caeb221119f0a66']]"
      ]
     },
     "execution_count": 18,
     "metadata": {},
     "output_type": "execute_result"
    }
   ],
   "source": [
    "events_data_train_adj3 = events_data_train_adj2.map(lambda x: [x[0], findPur(x[1]), len(x[1]), x[2], x[3], x[4]])\n",
    "events_data_train_adj3.filter(lambda x: x[1]!=[]).take(1)"
   ]
  },
  {
   "cell_type": "code",
   "execution_count": 19,
   "metadata": {
    "ExecuteTime": {
     "end_time": "2019-02-25T01:32:27.211491Z",
     "start_time": "2019-02-25T01:32:27.201172Z"
    }
   },
   "outputs": [
    {
     "data": {
      "text/plain": [
       "2.0"
      ]
     },
     "execution_count": 19,
     "metadata": {},
     "output_type": "execute_result"
    }
   ],
   "source": [
    "def moneySum(value_list ,idx_list):\n",
    "    if idx_list == []:\n",
    "        return 0.0\n",
    "    moneySum = 0.0\n",
    "    for idx in idx_list:\n",
    "        moneySum += float(value_list[idx])\n",
    "    return moneySum\n",
    "        \n",
    "a = ['1.0','1.0','5.0']\n",
    "b = [0,1]\n",
    "moneySum(a,b)"
   ]
  },
  {
   "cell_type": "code",
   "execution_count": 20,
   "metadata": {
    "ExecuteTime": {
     "end_time": "2019-02-25T01:32:27.296859Z",
     "start_time": "2019-02-25T01:32:27.215548Z"
    }
   },
   "outputs": [
    {
     "data": {
      "text/plain": [
       "[['175800a4d243a8210d681cb9b3ecf66288e71080d06dfe7b4caeb221119f0a66',\n",
       "  '6706918736980330942',\n",
       "  33,\n",
       "  1,\n",
       "  2306187.0,\n",
       "  3.493]]"
      ]
     },
     "execution_count": 20,
     "metadata": {},
     "output_type": "execute_result"
    }
   ],
   "source": [
    "events_data_train_adj4 = events_data_train_adj3.map(lambda x: [x[5], x[0], x[2], len(x[1]),\n",
    "                                                               float(max(x[3]))-float(min(x[3])), \n",
    "                                                               moneySum(x[4], x[1])])\n",
    "events_data_train_adj4.filter(lambda x: x[3]>0).take(1)"
   ]
  },
  {
   "cell_type": "code",
   "execution_count": 21,
   "metadata": {
    "ExecuteTime": {
     "end_time": "2019-02-25T01:32:27.381348Z",
     "start_time": "2019-02-25T01:32:27.299681Z"
    }
   },
   "outputs": [],
   "source": [
    "temp_pair_train_dict_2 = {}\n",
    "for i in range(6):\n",
    "    if i != 0:\n",
    "        temp_pair = events_data_train_adj4.map(lambda x: (x[0], x[i]))\\\n",
    "                                    .groupByKey().map(lambda x: [x[0], list(x[1])])\n",
    "        temp_pair_train_dict_2[i] = temp_pair"
   ]
  },
  {
   "cell_type": "code",
   "execution_count": 22,
   "metadata": {
    "ExecuteTime": {
     "end_time": "2019-02-25T01:33:15.969608Z",
     "start_time": "2019-02-25T01:32:27.385339Z"
    }
   },
   "outputs": [
    {
     "data": {
      "text/plain": [
       "[('c7385007b6f158e913411d1563d1f5ef90ea003050b105583104a583768edc85',\n",
       "  [['5373970154285758020'], [1], [0], [0.0], [0.0]])]"
      ]
     },
     "execution_count": 22,
     "metadata": {},
     "output_type": "execute_result"
    }
   ],
   "source": [
    "events_data_train_adj5 = temp_pair_train_dict_2[1]\n",
    "events_data_train_adj5 = events_data_train_adj5.leftOuterJoin(temp_pair_train_dict_2[2])\\\n",
    "                                             .map(lambda x: (x[0], list(x[1])))\n",
    "events_data_train_adj5 = events_data_train_adj5.leftOuterJoin(temp_pair_train_dict_2[3])\\\n",
    "                                             .map(lambda x: (x[0], list(x[1])))\\\n",
    "                                             .map(lambda x: (x[0], [x[1][0][0], x[1][0][1], x[1][1]]))\n",
    "events_data_train_adj5 = events_data_train_adj5.leftOuterJoin(temp_pair_train_dict_2[4])\\\n",
    "                                             .map(lambda x: (x[0], list(x[1])))\\\n",
    "                                             .map(lambda x: (x[0], [x[1][0][0], x[1][0][1], x[1][0][2], x[1][1]]))\n",
    "events_data_train_adj5 = events_data_train_adj5.leftOuterJoin(temp_pair_train_dict_2[5])\\\n",
    "                                             .map(lambda x: (x[0], list(x[1])))\\\n",
    "                                             .map(lambda x: (x[0], [x[1][0][0], x[1][0][1], x[1][0][2], \n",
    "                                                                    x[1][0][3], x[1][1]]))\n",
    "events_data_train_adj5.take(1)"
   ]
  },
  {
   "cell_type": "code",
   "execution_count": 23,
   "metadata": {
    "ExecuteTime": {
     "end_time": "2019-02-25T01:33:15.981808Z",
     "start_time": "2019-02-25T01:33:15.973553Z"
    }
   },
   "outputs": [
    {
     "name": "stdout",
     "output_type": "stream",
     "text": [
      "1\n",
      "1.5\n"
     ]
    }
   ],
   "source": [
    "def getMedian(lst):\n",
    "    if lst == []:\n",
    "        return 0.0\n",
    "    elif len(lst) % 2 == 1:\n",
    "        return sorted(lst)[(len(lst)-1)/2]\n",
    "    else:\n",
    "        lst = sorted(lst)\n",
    "        mid = (len(lst)-1)/2\n",
    "        return (lst[mid]+lst[mid+1])/2.0\n",
    "    \n",
    "print(getMedian([0,1,2,]))\n",
    "print(getMedian([0,1,2,3]))"
   ]
  },
  {
   "cell_type": "code",
   "execution_count": 24,
   "metadata": {
    "ExecuteTime": {
     "end_time": "2019-02-25T01:33:16.103052Z",
     "start_time": "2019-02-25T01:33:15.984588Z"
    }
   },
   "outputs": [
    {
     "data": {
      "text/plain": [
       "[['c7385007b6f158e913411d1563d1f5ef90ea003050b105583104a583768edc85',\n",
       "  1,\n",
       "  1,\n",
       "  1,\n",
       "  0,\n",
       "  0.0,\n",
       "  0.0]]"
      ]
     },
     "execution_count": 24,
     "metadata": {},
     "output_type": "execute_result"
    }
   ],
   "source": [
    "events_data_train_adj6 = events_data_train_adj5.map(lambda x: [x[0], \n",
    "                                                               len(x[1][0]),\n",
    "                                                               sum(x[1][1]),\n",
    "                                                               getMedian(x[1][1]),\n",
    "                                                               sum(x[1][2]), \n",
    "                                                               sum(x[1][4]),\n",
    "                                                               getMedian(x[1][3])])\n",
    "events_data_train_adj6.take(1)"
   ]
  },
  {
   "cell_type": "markdown",
   "metadata": {},
   "source": [
    "## Data Dictionary\n",
    "0 - user_id  \n",
    "1 - total number of sessions  \n",
    "2 - total number of events  \n",
    "3 - median number of events  \n",
    "4 - total sum of purchases  \n",
    "5 - total amount of purchases  \n",
    "6 - median session duration"
   ]
  },
  {
   "cell_type": "code",
   "execution_count": 25,
   "metadata": {
    "ExecuteTime": {
     "end_time": "2019-02-25T01:33:16.222490Z",
     "start_time": "2019-02-25T01:33:16.107003Z"
    }
   },
   "outputs": [
    {
     "data": {
      "text/plain": [
       "['c7385007b6f158e913411d1563d1f5ef90ea003050b105583104a583768edc85,1,1,1,0,0.0,0.0']"
      ]
     },
     "execution_count": 25,
     "metadata": {},
     "output_type": "execute_result"
    }
   ],
   "source": [
    "events_data_train_adj7 = events_data_train_adj6.map(lambda x: ','.join([str(y) for y in x]))\n",
    "events_data_train_adj7.take(1)"
   ]
  },
  {
   "cell_type": "code",
   "execution_count": 26,
   "metadata": {
    "ExecuteTime": {
     "end_time": "2019-02-25T01:33:20.802592Z",
     "start_time": "2019-02-25T01:33:16.226497Z"
    }
   },
   "outputs": [],
   "source": [
    "with open('train_last_7_days.csv', 'w') as f:\n",
    "    for line in events_data_train_adj7.collect():\n",
    "        f.write(line)\n",
    "        f.write('\\n')"
   ]
  },
  {
   "cell_type": "markdown",
   "metadata": {},
   "source": [
    "## Test"
   ]
  },
  {
   "cell_type": "code",
   "execution_count": 27,
   "metadata": {
    "ExecuteTime": {
     "end_time": "2019-02-25T01:33:23.620100Z",
     "start_time": "2019-02-25T01:33:20.806674Z"
    }
   },
   "outputs": [
    {
     "data": {
      "text/plain": [
       "[['7658550338340861062',\n",
       "  '0',\n",
       "  '1544694242367',\n",
       "  '0.0',\n",
       "  '207852210fbcc1e958c85f1fa0729b3acf67c1ae26c775e98c556aeafdb7bda5']]"
      ]
     },
     "execution_count": 27,
     "metadata": {},
     "output_type": "execute_result"
    }
   ],
   "source": [
    "events_data_test = events_data_adj.filter(lambda x: convertTime(x[2])[:10] < '2018-12-16')\\\n",
    "                                  .filter(lambda x: convertTime(x[2])[:10] >= '2018-12-09')\n",
    "events_data_test.take(1)"
   ]
  },
  {
   "cell_type": "code",
   "execution_count": 28,
   "metadata": {
    "ExecuteTime": {
     "end_time": "2019-02-25T01:33:23.705466Z",
     "start_time": "2019-02-25T01:33:23.624753Z"
    }
   },
   "outputs": [],
   "source": [
    "temp_pair_test_dict = {}\n",
    "for i in range(6):\n",
    "    if i != 0:\n",
    "        temp_pair = events_data_test.map(lambda x: (x[0], x[i]))\\\n",
    "                                    .groupByKey().map(lambda x: [x[0], list(x[1])])\n",
    "        temp_pair_test_dict[i] = temp_pair"
   ]
  },
  {
   "cell_type": "code",
   "execution_count": 29,
   "metadata": {
    "ExecuteTime": {
     "end_time": "2019-02-25T01:37:57.124783Z",
     "start_time": "2019-02-25T01:33:23.709609Z"
    }
   },
   "outputs": [
    {
     "data": {
      "text/plain": [
       "[('8551675621918410413',\n",
       "  [['45'],\n",
       "   ['1544393498323'],\n",
       "   ['0.0'],\n",
       "   ['9bf30b7fd7412fbd1fb15c39df1a20094eb66431b0d0eab74d0731b6585b8dd4']])]"
      ]
     },
     "execution_count": 29,
     "metadata": {},
     "output_type": "execute_result"
    }
   ],
   "source": [
    "events_data_test_adj = temp_pair_test_dict[1]\n",
    "events_data_test_adj = events_data_test_adj.leftOuterJoin(temp_pair_test_dict[2])\\\n",
    "                                           .map(lambda x: (x[0], list(x[1])))\n",
    "events_data_test_adj = events_data_test_adj.leftOuterJoin(temp_pair_test_dict[3])\\\n",
    "                                             .map(lambda x: (x[0], list(x[1])))\\\n",
    "                                             .map(lambda x: (x[0], [x[1][0][0], x[1][0][1], x[1][1]]))\n",
    "events_data_test_adj = events_data_test_adj.leftOuterJoin(temp_pair_test_dict[4])\\\n",
    "                                             .map(lambda x: (x[0], list(x[1])))\\\n",
    "                                             .map(lambda x: (x[0], [x[1][0][0], x[1][0][1], x[1][0][2], x[1][1]]))\n",
    "events_data_test_adj.take(1)"
   ]
  },
  {
   "cell_type": "code",
   "execution_count": 30,
   "metadata": {
    "ExecuteTime": {
     "end_time": "2019-02-25T01:37:57.179240Z",
     "start_time": "2019-02-25T01:37:57.127936Z"
    }
   },
   "outputs": [
    {
     "data": {
      "text/plain": [
       "[['8551675621918410413',\n",
       "  ['45'],\n",
       "  ['1544393498323'],\n",
       "  ['0.0'],\n",
       "  '9bf30b7fd7412fbd1fb15c39df1a20094eb66431b0d0eab74d0731b6585b8dd4']]"
      ]
     },
     "execution_count": 30,
     "metadata": {},
     "output_type": "execute_result"
    }
   ],
   "source": [
    "events_data_test_adj2 = events_data_test_adj.map(lambda x: [x[0], x[1][0], x[1][1], x[1][2], \n",
    "                                                            most_common(x[1][3])])\n",
    "events_data_test_adj2.take(1)"
   ]
  },
  {
   "cell_type": "code",
   "execution_count": 31,
   "metadata": {
    "ExecuteTime": {
     "end_time": "2019-02-25T01:37:57.237022Z",
     "start_time": "2019-02-25T01:37:57.183328Z"
    }
   },
   "outputs": [
    {
     "data": {
      "text/plain": [
       "[['6944784711615725873',\n",
       "  [8, 15, 25, 35],\n",
       "  62,\n",
       "  ['1544758674714',\n",
       "   '1544758684218',\n",
       "   '1544758703123',\n",
       "   '1544758732303',\n",
       "   '1544758739234',\n",
       "   '1544758755806',\n",
       "   '1544758758254',\n",
       "   '1544758799635',\n",
       "   '1544758848297',\n",
       "   '1544758855624',\n",
       "   '1544758855626',\n",
       "   '1544758864411',\n",
       "   '1544758992671',\n",
       "   '1544759133298',\n",
       "   '1544759261141',\n",
       "   '1544759470196',\n",
       "   '1544759479774',\n",
       "   '1544759479776',\n",
       "   '1544759504205',\n",
       "   '1544759512826',\n",
       "   '1544759559523',\n",
       "   '1544759607659',\n",
       "   '1544759751487',\n",
       "   '1544759823357',\n",
       "   '1544759989737',\n",
       "   '1544760149329',\n",
       "   '1544760157431',\n",
       "   '1544760157434',\n",
       "   '1544760251063',\n",
       "   '1544760345086',\n",
       "   '1544760429726',\n",
       "   '1544760566156',\n",
       "   '1544760587477',\n",
       "   '1544760626830',\n",
       "   '1544760844476',\n",
       "   '1544760878331',\n",
       "   '1544760892324',\n",
       "   '1544760894547',\n",
       "   '1544760955185',\n",
       "   '1544761004770',\n",
       "   '1544761056259',\n",
       "   '1544761096543',\n",
       "   '1544761151414',\n",
       "   '1544761151417',\n",
       "   '1544761215436',\n",
       "   '1544761253578',\n",
       "   '1544761329851',\n",
       "   '1544761365347',\n",
       "   '1544761428420',\n",
       "   '1544761496971',\n",
       "   '1544761611000',\n",
       "   '1544761642439',\n",
       "   '1544761705995',\n",
       "   '1544761725229',\n",
       "   '1544761813769',\n",
       "   '1544761813771',\n",
       "   '1544761965050',\n",
       "   '1544762007620',\n",
       "   '1544762044126',\n",
       "   '1544762086495',\n",
       "   '1544762179720',\n",
       "   '1544762243209'],\n",
       "  ['0.0',\n",
       "   '0.0',\n",
       "   '0.0',\n",
       "   '0.0',\n",
       "   '0.0',\n",
       "   '0.0',\n",
       "   '0.0',\n",
       "   '0.0',\n",
       "   '1.393',\n",
       "   '15.0',\n",
       "   '0.0',\n",
       "   '0.0',\n",
       "   '0.0',\n",
       "   '0.0',\n",
       "   '0.0',\n",
       "   '1.393',\n",
       "   '20.0',\n",
       "   '0.0',\n",
       "   '0.0',\n",
       "   '0.0',\n",
       "   '0.0',\n",
       "   '0.0',\n",
       "   '0.0',\n",
       "   '0.0',\n",
       "   '0.0',\n",
       "   '1.393',\n",
       "   '12.0',\n",
       "   '0.0',\n",
       "   '0.0',\n",
       "   '0.0',\n",
       "   '0.0',\n",
       "   '0.0',\n",
       "   '0.0',\n",
       "   '0.0',\n",
       "   '0.0',\n",
       "   '13.993',\n",
       "   '0.0',\n",
       "   '1.0',\n",
       "   '0.0',\n",
       "   '0.0',\n",
       "   '0.0',\n",
       "   '0.0',\n",
       "   '15.0',\n",
       "   '0.0',\n",
       "   '0.0',\n",
       "   '0.0',\n",
       "   '0.0',\n",
       "   '0.0',\n",
       "   '0.0',\n",
       "   '0.0',\n",
       "   '0.0',\n",
       "   '0.0',\n",
       "   '0.0',\n",
       "   '0.0',\n",
       "   '25.0',\n",
       "   '0.0',\n",
       "   '0.0',\n",
       "   '0.0',\n",
       "   '0.0',\n",
       "   '0.0',\n",
       "   '0.0',\n",
       "   '0.0'],\n",
       "  'd40afe9bca803dcb81afa7d1e6170304e340718976c5821913b38aa1a143bbc9']]"
      ]
     },
     "execution_count": 31,
     "metadata": {},
     "output_type": "execute_result"
    }
   ],
   "source": [
    "events_data_test_adj3 = events_data_test_adj2.map(lambda x: [x[0], findPur(x[1]), len(x[1]), x[2], x[3], x[4]])\n",
    "events_data_test_adj3.filter(lambda x: x[1]!=[]).take(1)"
   ]
  },
  {
   "cell_type": "code",
   "execution_count": 32,
   "metadata": {
    "ExecuteTime": {
     "end_time": "2019-02-25T01:37:57.291343Z",
     "start_time": "2019-02-25T01:37:57.241199Z"
    }
   },
   "outputs": [
    {
     "data": {
      "text/plain": [
       "[['d40afe9bca803dcb81afa7d1e6170304e340718976c5821913b38aa1a143bbc9',\n",
       "  '6944784711615725873',\n",
       "  62,\n",
       "  4,\n",
       "  3568495.0,\n",
       "  18.172]]"
      ]
     },
     "execution_count": 32,
     "metadata": {},
     "output_type": "execute_result"
    }
   ],
   "source": [
    "events_data_test_adj4 = events_data_test_adj3.map(lambda x: [x[5], x[0], x[2], len(x[1]),\n",
    "                                                               float(max(x[3]))-float(min(x[3])), \n",
    "                                                               moneySum(x[4], x[1])])\n",
    "events_data_test_adj4.filter(lambda x: x[3]>0).take(1)"
   ]
  },
  {
   "cell_type": "code",
   "execution_count": 33,
   "metadata": {
    "ExecuteTime": {
     "end_time": "2019-02-25T01:37:57.376822Z",
     "start_time": "2019-02-25T01:37:57.295614Z"
    }
   },
   "outputs": [],
   "source": [
    "temp_pair_test_dict_2 = {}\n",
    "for i in range(6):\n",
    "    if i != 0:\n",
    "        temp_pair = events_data_test_adj4.map(lambda x: (x[0], x[i]))\\\n",
    "                                    .groupByKey().map(lambda x: [x[0], list(x[1])])\n",
    "        temp_pair_test_dict_2[i] = temp_pair"
   ]
  },
  {
   "cell_type": "code",
   "execution_count": 34,
   "metadata": {
    "ExecuteTime": {
     "end_time": "2019-02-25T01:38:26.808611Z",
     "start_time": "2019-02-25T01:37:57.381007Z"
    }
   },
   "outputs": [
    {
     "data": {
      "text/plain": [
       "[('499ee86372fde21cbab510ac83d2a74a81bdd664ee98837fdeb910e5ad35c799',\n",
       "  [['7102252389912184790'], [27], [0], [77928.0], [0.0]])]"
      ]
     },
     "execution_count": 34,
     "metadata": {},
     "output_type": "execute_result"
    }
   ],
   "source": [
    "events_data_test_adj5 = temp_pair_test_dict_2[1]\n",
    "events_data_test_adj5 = events_data_test_adj5.leftOuterJoin(temp_pair_test_dict_2[2])\\\n",
    "                                             .map(lambda x: (x[0], list(x[1])))\n",
    "events_data_test_adj5 = events_data_test_adj5.leftOuterJoin(temp_pair_test_dict_2[3])\\\n",
    "                                             .map(lambda x: (x[0], list(x[1])))\\\n",
    "                                             .map(lambda x: (x[0], [x[1][0][0], x[1][0][1], x[1][1]]))\n",
    "events_data_test_adj5 = events_data_test_adj5.leftOuterJoin(temp_pair_test_dict_2[4])\\\n",
    "                                             .map(lambda x: (x[0], list(x[1])))\\\n",
    "                                             .map(lambda x: (x[0], [x[1][0][0], x[1][0][1], x[1][0][2], x[1][1]]))\n",
    "events_data_test_adj5 = events_data_test_adj5.leftOuterJoin(temp_pair_test_dict_2[5])\\\n",
    "                                             .map(lambda x: (x[0], list(x[1])))\\\n",
    "                                             .map(lambda x: (x[0], [x[1][0][0], x[1][0][1], x[1][0][2], \n",
    "                                                                    x[1][0][3], x[1][1]]))\n",
    "events_data_test_adj5.take(1)"
   ]
  },
  {
   "cell_type": "code",
   "execution_count": 35,
   "metadata": {
    "ExecuteTime": {
     "end_time": "2019-02-25T01:38:26.921717Z",
     "start_time": "2019-02-25T01:38:26.812670Z"
    }
   },
   "outputs": [
    {
     "data": {
      "text/plain": [
       "[['499ee86372fde21cbab510ac83d2a74a81bdd664ee98837fdeb910e5ad35c799',\n",
       "  1,\n",
       "  27,\n",
       "  27,\n",
       "  0,\n",
       "  0.0,\n",
       "  77928.0]]"
      ]
     },
     "execution_count": 35,
     "metadata": {},
     "output_type": "execute_result"
    }
   ],
   "source": [
    "events_data_test_adj6 = events_data_test_adj5.map(lambda x: [x[0], \n",
    "                                                               len(x[1][0]),\n",
    "                                                               sum(x[1][1]),\n",
    "                                                               getMedian(x[1][1]),\n",
    "                                                               sum(x[1][2]), \n",
    "                                                               sum(x[1][4]),\n",
    "                                                               getMedian(x[1][3])])\n",
    "events_data_test_adj6.take(1)"
   ]
  },
  {
   "cell_type": "code",
   "execution_count": 36,
   "metadata": {
    "ExecuteTime": {
     "end_time": "2019-02-25T01:38:27.005777Z",
     "start_time": "2019-02-25T01:38:26.925586Z"
    }
   },
   "outputs": [
    {
     "data": {
      "text/plain": [
       "['499ee86372fde21cbab510ac83d2a74a81bdd664ee98837fdeb910e5ad35c799,1,27,27,0,0.0,77928.0']"
      ]
     },
     "execution_count": 36,
     "metadata": {},
     "output_type": "execute_result"
    }
   ],
   "source": [
    "events_data_test_adj7 = events_data_test_adj6.map(lambda x: ','.join([str(y) for y in x]))\n",
    "events_data_test_adj7.take(1)"
   ]
  },
  {
   "cell_type": "code",
   "execution_count": 37,
   "metadata": {
    "ExecuteTime": {
     "end_time": "2019-02-25T01:38:31.306627Z",
     "start_time": "2019-02-25T01:38:27.009683Z"
    }
   },
   "outputs": [],
   "source": [
    "with open('test_last_7_days.csv', 'w') as f:\n",
    "    for line in events_data_test_adj7.collect():\n",
    "        f.write(line)\n",
    "        f.write('\\n')"
   ]
  },
  {
   "cell_type": "code",
   "execution_count": 38,
   "metadata": {
    "ExecuteTime": {
     "end_time": "2019-02-25T01:38:39.965926Z",
     "start_time": "2019-02-25T01:38:31.310870Z"
    }
   },
   "outputs": [
    {
     "name": "stdout",
     "output_type": "stream",
     "text": [
      "120036\n",
      "42806\n"
     ]
    }
   ],
   "source": [
    "print(events_data_train_adj7.count())\n",
    "print(events_data_test_adj7.count())"
   ]
  },
  {
   "cell_type": "code",
   "execution_count": 39,
   "metadata": {
    "ExecuteTime": {
     "end_time": "2019-02-25T01:38:40.905421Z",
     "start_time": "2019-02-25T01:38:39.970591Z"
    }
   },
   "outputs": [],
   "source": [
    "sc.stop()"
   ]
  },
  {
   "cell_type": "code",
   "execution_count": null,
   "metadata": {},
   "outputs": [],
   "source": []
  }
 ],
 "metadata": {
  "kernelspec": {
   "display_name": "Python 3",
   "language": "python",
   "name": "python3"
  },
  "language_info": {
   "codemirror_mode": {
    "name": "ipython",
    "version": 3
   },
   "file_extension": ".py",
   "mimetype": "text/x-python",
   "name": "python",
   "nbconvert_exporter": "python",
   "pygments_lexer": "ipython3",
   "version": "3.6.8"
  }
 },
 "nbformat": 4,
 "nbformat_minor": 2
}
