{
 "cells": [
  {
   "cell_type": "code",
   "execution_count": 1,
   "metadata": {},
   "outputs": [],
   "source": [
    "import os\n",
    "import json\n",
    "\n",
    "import matplotlib.pyplot as plt\n",
    "import seaborn as sns; sns.set()\n",
    "import pandas as pd\n",
    "import numpy as np\n",
    "\n",
    "import s3fs\n",
    "from datetime import datetime\n",
    "from datetime import timedelta\n",
    "import calendar"
   ]
  },
  {
   "cell_type": "code",
   "execution_count": 2,
   "metadata": {},
   "outputs": [],
   "source": [
    "raw_test = pd.read_csv('s3://msds630-kaggle-competition/sessions_events_modified_v2.csv/part-00000', header=None)"
   ]
  },
  {
   "cell_type": "code",
   "execution_count": 3,
   "metadata": {},
   "outputs": [],
   "source": [
    "columns = [\"session_id\", \"start_timestamp\",\"time_zone\",\"timezone_offset\",\"previous_sessions\",\"user_created_stamp\",\"is_first_session\",\"country\", \"region\",\"city\",\"latitude\",\"longitude\",\"local\",\"os_name\",\"session_index\",\"device_id\",\"user_id_hash\",\"num_events\",\"num_purchases\",\"weekend_purchase\",\"is_purchase\",'purchase_times','sum_purchase','1week','2week']\n",
    "raw_test.columns = columns"
   ]
  },
  {
   "cell_type": "code",
   "execution_count": 4,
   "metadata": {},
   "outputs": [
    {
     "data": {
      "text/plain": [
       "'2018-11-08 00:53:44'"
      ]
     },
     "execution_count": 4,
     "metadata": {},
     "output_type": "execute_result"
    }
   ],
   "source": [
    "import math\n",
    "\n",
    "def convertTime(ts_str):\n",
    "    if math.isnan(float(ts_str)):\n",
    "        return None\n",
    "    else:\n",
    "        return datetime.utcfromtimestamp(int(ts_str)/1000.0).strftime('%Y-%m-%d %H:%M:%S')\n",
    "convertTime('1541638424150')"
   ]
  },
  {
   "cell_type": "code",
   "execution_count": 5,
   "metadata": {},
   "outputs": [],
   "source": [
    "raw_test['start_timestamp'] = raw_test['start_timestamp'].map(lambda x: convertTime(x))\n",
    "columns = [\"user_id_hash\",\"session_id\", \"start_timestamp\",\"time_zone\",\"timezone_offset\",\"previous_sessions\",\"user_created_stamp\",\"is_first_session\",\"country\", \"region\",\"city\",\"latitude\",\"longitude\",\"local\",\"os_name\",\"session_index\",\"device_id\",\"num_events\",\"num_purchases\",\"weekend_purchase\",\"is_purchase\",'purchase_times','sum_purchase','1week','2week']\n",
    "raw_test = raw_test.reindex(columns,axis=1)"
   ]
  },
  {
   "cell_type": "code",
   "execution_count": 6,
   "metadata": {},
   "outputs": [],
   "source": [
    "raw_test.drop([\"sum_purchase\"], axis=1, inplace=True)"
   ]
  },
  {
   "cell_type": "code",
   "execution_count": 7,
   "metadata": {},
   "outputs": [],
   "source": [
    "raw_train = raw_test[raw_test[\"start_timestamp\"] < \"2018-12-02\"] "
   ]
  },
  {
   "cell_type": "code",
   "execution_count": 8,
   "metadata": {},
   "outputs": [
    {
     "data": {
      "text/html": [
       "<div>\n",
       "<style scoped>\n",
       "    .dataframe tbody tr th:only-of-type {\n",
       "        vertical-align: middle;\n",
       "    }\n",
       "\n",
       "    .dataframe tbody tr th {\n",
       "        vertical-align: top;\n",
       "    }\n",
       "\n",
       "    .dataframe thead th {\n",
       "        text-align: right;\n",
       "    }\n",
       "</style>\n",
       "<table border=\"1\" class=\"dataframe\">\n",
       "  <thead>\n",
       "    <tr style=\"text-align: right;\">\n",
       "      <th></th>\n",
       "      <th>user_id_hash</th>\n",
       "      <th>session_id</th>\n",
       "      <th>start_timestamp</th>\n",
       "      <th>time_zone</th>\n",
       "      <th>timezone_offset</th>\n",
       "      <th>previous_sessions</th>\n",
       "      <th>user_created_stamp</th>\n",
       "      <th>is_first_session</th>\n",
       "      <th>country</th>\n",
       "      <th>region</th>\n",
       "      <th>...</th>\n",
       "      <th>os_name</th>\n",
       "      <th>session_index</th>\n",
       "      <th>device_id</th>\n",
       "      <th>num_events</th>\n",
       "      <th>num_purchases</th>\n",
       "      <th>weekend_purchase</th>\n",
       "      <th>is_purchase</th>\n",
       "      <th>purchase_times</th>\n",
       "      <th>1week</th>\n",
       "      <th>2week</th>\n",
       "    </tr>\n",
       "  </thead>\n",
       "  <tbody>\n",
       "    <tr>\n",
       "      <th>0</th>\n",
       "      <td>9e095d1e1a4049b2c830d3884ca526c3cd00faadef7768...</td>\n",
       "      <td>6282115060269174490</td>\n",
       "      <td>2018-10-28 06:52:14</td>\n",
       "      <td>America/Los_Angeles</td>\n",
       "      <td>-25200000.0</td>\n",
       "      <td>127776870.0</td>\n",
       "      <td>1.539629e+12</td>\n",
       "      <td>False</td>\n",
       "      <td>US</td>\n",
       "      <td>wa</td>\n",
       "      <td>...</td>\n",
       "      <td>Android OS</td>\n",
       "      <td>52.0</td>\n",
       "      <td>eaf0f10b-5e67-412a-9a30-7a687d902636</td>\n",
       "      <td>11.0</td>\n",
       "      <td>0.0</td>\n",
       "      <td>NaN</td>\n",
       "      <td>-1.0</td>\n",
       "      <td>NaN</td>\n",
       "      <td>-1.0</td>\n",
       "      <td>-1.0</td>\n",
       "    </tr>\n",
       "    <tr>\n",
       "      <th>1</th>\n",
       "      <td>965bbf8946615acfd53b9d4febc4bfb8f76d2ca8dcc47e...</td>\n",
       "      <td>3311962070546841600</td>\n",
       "      <td>2018-10-18 00:42:48</td>\n",
       "      <td>America/New_York</td>\n",
       "      <td>-14400000.0</td>\n",
       "      <td>0.0</td>\n",
       "      <td>1.539823e+12</td>\n",
       "      <td>True</td>\n",
       "      <td>US</td>\n",
       "      <td>nc</td>\n",
       "      <td>...</td>\n",
       "      <td>Android OS</td>\n",
       "      <td>1.0</td>\n",
       "      <td>f90df33e-5bd3-41b0-af5e-3613bfaff7df</td>\n",
       "      <td>57.0</td>\n",
       "      <td>0.0</td>\n",
       "      <td>NaN</td>\n",
       "      <td>-1.0</td>\n",
       "      <td>NaN</td>\n",
       "      <td>-1.0</td>\n",
       "      <td>-1.0</td>\n",
       "    </tr>\n",
       "    <tr>\n",
       "      <th>2</th>\n",
       "      <td>8ef37a8bf91fcf32fd2dff7361140d062d25e89403498c...</td>\n",
       "      <td>2227925547996687280</td>\n",
       "      <td>2018-11-17 16:41:00</td>\n",
       "      <td>America/New_York</td>\n",
       "      <td>-18000000.0</td>\n",
       "      <td>148898.0</td>\n",
       "      <td>1.542405e+12</td>\n",
       "      <td>False</td>\n",
       "      <td>US</td>\n",
       "      <td>ny</td>\n",
       "      <td>...</td>\n",
       "      <td>iOS</td>\n",
       "      <td>3.0</td>\n",
       "      <td>779DA08D-B10E-45EC-89FB-C28D15E02C88</td>\n",
       "      <td>NaN</td>\n",
       "      <td>NaN</td>\n",
       "      <td>NaN</td>\n",
       "      <td>NaN</td>\n",
       "      <td>NaN</td>\n",
       "      <td>NaN</td>\n",
       "      <td>NaN</td>\n",
       "    </tr>\n",
       "    <tr>\n",
       "      <th>3</th>\n",
       "      <td>1b24599435b469b251f4f6c907a46d54b334e956e815a0...</td>\n",
       "      <td>8939252064915685380</td>\n",
       "      <td>2018-11-28 10:36:47</td>\n",
       "      <td>Australia/Sydney</td>\n",
       "      <td>39600000.0</td>\n",
       "      <td>61598736.0</td>\n",
       "      <td>1.540796e+12</td>\n",
       "      <td>False</td>\n",
       "      <td>AU</td>\n",
       "      <td>vic</td>\n",
       "      <td>...</td>\n",
       "      <td>Android OS</td>\n",
       "      <td>58.0</td>\n",
       "      <td>f8ae3393-8a50-426c-8e61-b855478f4de0</td>\n",
       "      <td>4.0</td>\n",
       "      <td>0.0</td>\n",
       "      <td>NaN</td>\n",
       "      <td>-1.0</td>\n",
       "      <td>NaN</td>\n",
       "      <td>-1.0</td>\n",
       "      <td>-1.0</td>\n",
       "    </tr>\n",
       "    <tr>\n",
       "      <th>4</th>\n",
       "      <td>b8f647bd603c347e013739f5c3bb9568f21d6736c82fb9...</td>\n",
       "      <td>5558769389058741590</td>\n",
       "      <td>2018-11-13 20:07:28</td>\n",
       "      <td>Asia/Kolkata</td>\n",
       "      <td>19800000.0</td>\n",
       "      <td>17663056.0</td>\n",
       "      <td>1.541154e+12</td>\n",
       "      <td>False</td>\n",
       "      <td>IN</td>\n",
       "      <td>up</td>\n",
       "      <td>...</td>\n",
       "      <td>iOS</td>\n",
       "      <td>30.0</td>\n",
       "      <td>400E3C4E-55B6-4BAC-AEB9-12C0F9EB2FC6</td>\n",
       "      <td>42.0</td>\n",
       "      <td>0.0</td>\n",
       "      <td>NaN</td>\n",
       "      <td>-1.0</td>\n",
       "      <td>NaN</td>\n",
       "      <td>-1.0</td>\n",
       "      <td>-1.0</td>\n",
       "    </tr>\n",
       "  </tbody>\n",
       "</table>\n",
       "<p>5 rows × 24 columns</p>\n",
       "</div>"
      ],
      "text/plain": [
       "                                        user_id_hash           session_id  \\\n",
       "0  9e095d1e1a4049b2c830d3884ca526c3cd00faadef7768...  6282115060269174490   \n",
       "1  965bbf8946615acfd53b9d4febc4bfb8f76d2ca8dcc47e...  3311962070546841600   \n",
       "2  8ef37a8bf91fcf32fd2dff7361140d062d25e89403498c...  2227925547996687280   \n",
       "3  1b24599435b469b251f4f6c907a46d54b334e956e815a0...  8939252064915685380   \n",
       "4  b8f647bd603c347e013739f5c3bb9568f21d6736c82fb9...  5558769389058741590   \n",
       "\n",
       "       start_timestamp            time_zone  timezone_offset  \\\n",
       "0  2018-10-28 06:52:14  America/Los_Angeles      -25200000.0   \n",
       "1  2018-10-18 00:42:48     America/New_York      -14400000.0   \n",
       "2  2018-11-17 16:41:00     America/New_York      -18000000.0   \n",
       "3  2018-11-28 10:36:47     Australia/Sydney       39600000.0   \n",
       "4  2018-11-13 20:07:28         Asia/Kolkata       19800000.0   \n",
       "\n",
       "   previous_sessions  user_created_stamp is_first_session country region  \\\n",
       "0        127776870.0        1.539629e+12            False      US     wa   \n",
       "1                0.0        1.539823e+12             True      US     nc   \n",
       "2           148898.0        1.542405e+12            False      US     ny   \n",
       "3         61598736.0        1.540796e+12            False      AU    vic   \n",
       "4         17663056.0        1.541154e+12            False      IN     up   \n",
       "\n",
       "   ...       os_name  session_index                             device_id  \\\n",
       "0  ...    Android OS           52.0  eaf0f10b-5e67-412a-9a30-7a687d902636   \n",
       "1  ...    Android OS            1.0  f90df33e-5bd3-41b0-af5e-3613bfaff7df   \n",
       "2  ...           iOS            3.0  779DA08D-B10E-45EC-89FB-C28D15E02C88   \n",
       "3  ...    Android OS           58.0  f8ae3393-8a50-426c-8e61-b855478f4de0   \n",
       "4  ...           iOS           30.0  400E3C4E-55B6-4BAC-AEB9-12C0F9EB2FC6   \n",
       "\n",
       "  num_events num_purchases  weekend_purchase is_purchase  purchase_times  \\\n",
       "0       11.0           0.0               NaN        -1.0             NaN   \n",
       "1       57.0           0.0               NaN        -1.0             NaN   \n",
       "2        NaN           NaN               NaN         NaN             NaN   \n",
       "3        4.0           0.0               NaN        -1.0             NaN   \n",
       "4       42.0           0.0               NaN        -1.0             NaN   \n",
       "\n",
       "   1week  2week  \n",
       "0   -1.0   -1.0  \n",
       "1   -1.0   -1.0  \n",
       "2    NaN    NaN  \n",
       "3   -1.0   -1.0  \n",
       "4   -1.0   -1.0  \n",
       "\n",
       "[5 rows x 24 columns]"
      ]
     },
     "execution_count": 8,
     "metadata": {},
     "output_type": "execute_result"
    }
   ],
   "source": [
    "raw_test.head()"
   ]
  },
  {
   "cell_type": "code",
   "execution_count": 9,
   "metadata": {},
   "outputs": [
    {
     "data": {
      "text/html": [
       "<div>\n",
       "<style scoped>\n",
       "    .dataframe tbody tr th:only-of-type {\n",
       "        vertical-align: middle;\n",
       "    }\n",
       "\n",
       "    .dataframe tbody tr th {\n",
       "        vertical-align: top;\n",
       "    }\n",
       "\n",
       "    .dataframe thead th {\n",
       "        text-align: right;\n",
       "    }\n",
       "</style>\n",
       "<table border=\"1\" class=\"dataframe\">\n",
       "  <thead>\n",
       "    <tr style=\"text-align: right;\">\n",
       "      <th></th>\n",
       "      <th>user_id_hash</th>\n",
       "      <th>session_id</th>\n",
       "      <th>start_timestamp</th>\n",
       "      <th>time_zone</th>\n",
       "      <th>timezone_offset</th>\n",
       "      <th>previous_sessions</th>\n",
       "      <th>user_created_stamp</th>\n",
       "      <th>is_first_session</th>\n",
       "      <th>country</th>\n",
       "      <th>region</th>\n",
       "      <th>...</th>\n",
       "      <th>os_name</th>\n",
       "      <th>session_index</th>\n",
       "      <th>device_id</th>\n",
       "      <th>num_events</th>\n",
       "      <th>num_purchases</th>\n",
       "      <th>weekend_purchase</th>\n",
       "      <th>is_purchase</th>\n",
       "      <th>purchase_times</th>\n",
       "      <th>1week</th>\n",
       "      <th>2week</th>\n",
       "    </tr>\n",
       "  </thead>\n",
       "  <tbody>\n",
       "    <tr>\n",
       "      <th>0</th>\n",
       "      <td>9e095d1e1a4049b2c830d3884ca526c3cd00faadef7768...</td>\n",
       "      <td>6282115060269174490</td>\n",
       "      <td>2018-10-28 06:52:14</td>\n",
       "      <td>America/Los_Angeles</td>\n",
       "      <td>-25200000.0</td>\n",
       "      <td>127776870.0</td>\n",
       "      <td>1.539629e+12</td>\n",
       "      <td>False</td>\n",
       "      <td>US</td>\n",
       "      <td>wa</td>\n",
       "      <td>...</td>\n",
       "      <td>Android OS</td>\n",
       "      <td>52.0</td>\n",
       "      <td>eaf0f10b-5e67-412a-9a30-7a687d902636</td>\n",
       "      <td>11.0</td>\n",
       "      <td>0.0</td>\n",
       "      <td>NaN</td>\n",
       "      <td>-1.0</td>\n",
       "      <td>NaN</td>\n",
       "      <td>-1.0</td>\n",
       "      <td>-1.0</td>\n",
       "    </tr>\n",
       "    <tr>\n",
       "      <th>1</th>\n",
       "      <td>965bbf8946615acfd53b9d4febc4bfb8f76d2ca8dcc47e...</td>\n",
       "      <td>3311962070546841600</td>\n",
       "      <td>2018-10-18 00:42:48</td>\n",
       "      <td>America/New_York</td>\n",
       "      <td>-14400000.0</td>\n",
       "      <td>0.0</td>\n",
       "      <td>1.539823e+12</td>\n",
       "      <td>True</td>\n",
       "      <td>US</td>\n",
       "      <td>nc</td>\n",
       "      <td>...</td>\n",
       "      <td>Android OS</td>\n",
       "      <td>1.0</td>\n",
       "      <td>f90df33e-5bd3-41b0-af5e-3613bfaff7df</td>\n",
       "      <td>57.0</td>\n",
       "      <td>0.0</td>\n",
       "      <td>NaN</td>\n",
       "      <td>-1.0</td>\n",
       "      <td>NaN</td>\n",
       "      <td>-1.0</td>\n",
       "      <td>-1.0</td>\n",
       "    </tr>\n",
       "    <tr>\n",
       "      <th>2</th>\n",
       "      <td>8ef37a8bf91fcf32fd2dff7361140d062d25e89403498c...</td>\n",
       "      <td>2227925547996687280</td>\n",
       "      <td>2018-11-17 16:41:00</td>\n",
       "      <td>America/New_York</td>\n",
       "      <td>-18000000.0</td>\n",
       "      <td>148898.0</td>\n",
       "      <td>1.542405e+12</td>\n",
       "      <td>False</td>\n",
       "      <td>US</td>\n",
       "      <td>ny</td>\n",
       "      <td>...</td>\n",
       "      <td>iOS</td>\n",
       "      <td>3.0</td>\n",
       "      <td>779DA08D-B10E-45EC-89FB-C28D15E02C88</td>\n",
       "      <td>NaN</td>\n",
       "      <td>NaN</td>\n",
       "      <td>NaN</td>\n",
       "      <td>NaN</td>\n",
       "      <td>NaN</td>\n",
       "      <td>NaN</td>\n",
       "      <td>NaN</td>\n",
       "    </tr>\n",
       "    <tr>\n",
       "      <th>3</th>\n",
       "      <td>1b24599435b469b251f4f6c907a46d54b334e956e815a0...</td>\n",
       "      <td>8939252064915685380</td>\n",
       "      <td>2018-11-28 10:36:47</td>\n",
       "      <td>Australia/Sydney</td>\n",
       "      <td>39600000.0</td>\n",
       "      <td>61598736.0</td>\n",
       "      <td>1.540796e+12</td>\n",
       "      <td>False</td>\n",
       "      <td>AU</td>\n",
       "      <td>vic</td>\n",
       "      <td>...</td>\n",
       "      <td>Android OS</td>\n",
       "      <td>58.0</td>\n",
       "      <td>f8ae3393-8a50-426c-8e61-b855478f4de0</td>\n",
       "      <td>4.0</td>\n",
       "      <td>0.0</td>\n",
       "      <td>NaN</td>\n",
       "      <td>-1.0</td>\n",
       "      <td>NaN</td>\n",
       "      <td>-1.0</td>\n",
       "      <td>-1.0</td>\n",
       "    </tr>\n",
       "    <tr>\n",
       "      <th>4</th>\n",
       "      <td>b8f647bd603c347e013739f5c3bb9568f21d6736c82fb9...</td>\n",
       "      <td>5558769389058741590</td>\n",
       "      <td>2018-11-13 20:07:28</td>\n",
       "      <td>Asia/Kolkata</td>\n",
       "      <td>19800000.0</td>\n",
       "      <td>17663056.0</td>\n",
       "      <td>1.541154e+12</td>\n",
       "      <td>False</td>\n",
       "      <td>IN</td>\n",
       "      <td>up</td>\n",
       "      <td>...</td>\n",
       "      <td>iOS</td>\n",
       "      <td>30.0</td>\n",
       "      <td>400E3C4E-55B6-4BAC-AEB9-12C0F9EB2FC6</td>\n",
       "      <td>42.0</td>\n",
       "      <td>0.0</td>\n",
       "      <td>NaN</td>\n",
       "      <td>-1.0</td>\n",
       "      <td>NaN</td>\n",
       "      <td>-1.0</td>\n",
       "      <td>-1.0</td>\n",
       "    </tr>\n",
       "  </tbody>\n",
       "</table>\n",
       "<p>5 rows × 24 columns</p>\n",
       "</div>"
      ],
      "text/plain": [
       "                                        user_id_hash           session_id  \\\n",
       "0  9e095d1e1a4049b2c830d3884ca526c3cd00faadef7768...  6282115060269174490   \n",
       "1  965bbf8946615acfd53b9d4febc4bfb8f76d2ca8dcc47e...  3311962070546841600   \n",
       "2  8ef37a8bf91fcf32fd2dff7361140d062d25e89403498c...  2227925547996687280   \n",
       "3  1b24599435b469b251f4f6c907a46d54b334e956e815a0...  8939252064915685380   \n",
       "4  b8f647bd603c347e013739f5c3bb9568f21d6736c82fb9...  5558769389058741590   \n",
       "\n",
       "       start_timestamp            time_zone  timezone_offset  \\\n",
       "0  2018-10-28 06:52:14  America/Los_Angeles      -25200000.0   \n",
       "1  2018-10-18 00:42:48     America/New_York      -14400000.0   \n",
       "2  2018-11-17 16:41:00     America/New_York      -18000000.0   \n",
       "3  2018-11-28 10:36:47     Australia/Sydney       39600000.0   \n",
       "4  2018-11-13 20:07:28         Asia/Kolkata       19800000.0   \n",
       "\n",
       "   previous_sessions  user_created_stamp is_first_session country region  \\\n",
       "0        127776870.0        1.539629e+12            False      US     wa   \n",
       "1                0.0        1.539823e+12             True      US     nc   \n",
       "2           148898.0        1.542405e+12            False      US     ny   \n",
       "3         61598736.0        1.540796e+12            False      AU    vic   \n",
       "4         17663056.0        1.541154e+12            False      IN     up   \n",
       "\n",
       "   ...       os_name  session_index                             device_id  \\\n",
       "0  ...    Android OS           52.0  eaf0f10b-5e67-412a-9a30-7a687d902636   \n",
       "1  ...    Android OS            1.0  f90df33e-5bd3-41b0-af5e-3613bfaff7df   \n",
       "2  ...           iOS            3.0  779DA08D-B10E-45EC-89FB-C28D15E02C88   \n",
       "3  ...    Android OS           58.0  f8ae3393-8a50-426c-8e61-b855478f4de0   \n",
       "4  ...           iOS           30.0  400E3C4E-55B6-4BAC-AEB9-12C0F9EB2FC6   \n",
       "\n",
       "  num_events num_purchases  weekend_purchase is_purchase  purchase_times  \\\n",
       "0       11.0           0.0               NaN        -1.0             NaN   \n",
       "1       57.0           0.0               NaN        -1.0             NaN   \n",
       "2        NaN           NaN               NaN         NaN             NaN   \n",
       "3        4.0           0.0               NaN        -1.0             NaN   \n",
       "4       42.0           0.0               NaN        -1.0             NaN   \n",
       "\n",
       "   1week  2week  \n",
       "0   -1.0   -1.0  \n",
       "1   -1.0   -1.0  \n",
       "2    NaN    NaN  \n",
       "3   -1.0   -1.0  \n",
       "4   -1.0   -1.0  \n",
       "\n",
       "[5 rows x 24 columns]"
      ]
     },
     "execution_count": 9,
     "metadata": {},
     "output_type": "execute_result"
    }
   ],
   "source": [
    "raw_train.head()"
   ]
  },
  {
   "cell_type": "code",
   "execution_count": 10,
   "metadata": {},
   "outputs": [],
   "source": [
    "def enconder(x):\n",
    "    if x==1: return x\n",
    "    else: return 0"
   ]
  },
  {
   "cell_type": "code",
   "execution_count": 11,
   "metadata": {},
   "outputs": [],
   "source": [
    "raw_test['1week'] = raw_test['1week'].map(lambda x: enconder(x))\n",
    "raw_test['2week'] = raw_test['2week'].map(lambda x: enconder(x))"
   ]
  },
  {
   "cell_type": "code",
   "execution_count": 12,
   "metadata": {},
   "outputs": [],
   "source": [
    "raw_test['session_id'] = raw_test['session_id'].map(lambda x: 1)"
   ]
  },
  {
   "cell_type": "code",
   "execution_count": 13,
   "metadata": {},
   "outputs": [],
   "source": [
    "new = raw_test.groupby('user_id_hash').sum()"
   ]
  },
  {
   "cell_type": "code",
   "execution_count": 14,
   "metadata": {},
   "outputs": [],
   "source": [
    "def encoder2(x):\n",
    "    if x>0: return 1\n",
    "    else: return 0"
   ]
  },
  {
   "cell_type": "code",
   "execution_count": 15,
   "metadata": {},
   "outputs": [],
   "source": [
    "new['1week'] = new['1week'].map(lambda x: encoder2(x))\n",
    "new['2week'] = new['2week'].map(lambda x: encoder2(x))"
   ]
  },
  {
   "cell_type": "code",
   "execution_count": 16,
   "metadata": {},
   "outputs": [
    {
     "data": {
      "text/plain": [
       "0    615121\n",
       "1      4398\n",
       "Name: 1week, dtype: int64"
      ]
     },
     "execution_count": 16,
     "metadata": {},
     "output_type": "execute_result"
    }
   ],
   "source": [
    "new['1week'].value_counts()"
   ]
  },
  {
   "cell_type": "code",
   "execution_count": 17,
   "metadata": {},
   "outputs": [],
   "source": [
    "from sklearn.model_selection import train_test_split\n",
    "\n",
    "X_train, X_test, y_train, y_test = train_test_split(new[new.columns[:-1]], \n",
    "                                                    new['2week'], test_size=0.10)"
   ]
  },
  {
   "cell_type": "code",
   "execution_count": 18,
   "metadata": {},
   "outputs": [
    {
     "name": "stderr",
     "output_type": "stream",
     "text": [
      "/anaconda3/envs/msds694/lib/python3.6/site-packages/sklearn/linear_model/logistic.py:433: FutureWarning: Default solver will be changed to 'lbfgs' in 0.22. Specify a solver to silence this warning.\n",
      "  FutureWarning)\n"
     ]
    }
   ],
   "source": [
    "from sklearn.linear_model import LogisticRegression\n",
    "logmodel = LogisticRegression()\n",
    "logmodel.fit(X_train,y_train)\n",
    "predictions = logmodel.predict(X_test)"
   ]
  },
  {
   "cell_type": "code",
   "execution_count": 19,
   "metadata": {},
   "outputs": [
    {
     "name": "stdout",
     "output_type": "stream",
     "text": [
      "              precision    recall  f1-score   support\n",
      "\n",
      "           0       0.99      1.00      1.00     61414\n",
      "           1       0.36      0.02      0.04       538\n",
      "\n",
      "   micro avg       0.99      0.99      0.99     61952\n",
      "   macro avg       0.68      0.51      0.52     61952\n",
      "weighted avg       0.99      0.99      0.99     61952\n",
      "\n"
     ]
    }
   ],
   "source": [
    "from sklearn.metrics import classification_report\n",
    "print(classification_report(y_test,predictions))"
   ]
  },
  {
   "cell_type": "code",
   "execution_count": 20,
   "metadata": {},
   "outputs": [
    {
     "name": "stderr",
     "output_type": "stream",
     "text": [
      "/anaconda3/envs/msds694/lib/python3.6/site-packages/sklearn/linear_model/logistic.py:433: FutureWarning: Default solver will be changed to 'lbfgs' in 0.22. Specify a solver to silence this warning.\n",
      "  FutureWarning)\n"
     ]
    }
   ],
   "source": [
    "logmodel.fit(new[new.columns[:-1]],new['2week'])\n",
    "predictions = logmodel.predict(new[new.columns[:-1]])"
   ]
  },
  {
   "cell_type": "code",
   "execution_count": 21,
   "metadata": {},
   "outputs": [],
   "source": [
    "#### Predictions"
   ]
  },
  {
   "cell_type": "code",
   "execution_count": 22,
   "metadata": {},
   "outputs": [],
   "source": [
    "pred = pd.DataFrame(list(map(list, zip(*[new.index.tolist(),list(predictions)]))))"
   ]
  },
  {
   "cell_type": "code",
   "execution_count": 23,
   "metadata": {},
   "outputs": [],
   "source": [
    "df = pd.read_csv(\"Data/sample_submission_2.csv\")"
   ]
  },
  {
   "cell_type": "code",
   "execution_count": 24,
   "metadata": {},
   "outputs": [],
   "source": [
    "def enco_pred(x):\n",
    "    if x in pred.values:\n",
    "        pred[pred[\"user_id_hash\"]==x]['1week'].values[0]\n",
    "    else:\n",
    "        return 0"
   ]
  },
  {
   "cell_type": "code",
   "execution_count": 34,
   "metadata": {},
   "outputs": [],
   "source": [
    "pred.columns = [\"user_id_hash\",\"prediction\"]"
   ]
  },
  {
   "cell_type": "code",
   "execution_count": 35,
   "metadata": {},
   "outputs": [
    {
     "data": {
      "text/html": [
       "<div>\n",
       "<style scoped>\n",
       "    .dataframe tbody tr th:only-of-type {\n",
       "        vertical-align: middle;\n",
       "    }\n",
       "\n",
       "    .dataframe tbody tr th {\n",
       "        vertical-align: top;\n",
       "    }\n",
       "\n",
       "    .dataframe thead th {\n",
       "        text-align: right;\n",
       "    }\n",
       "</style>\n",
       "<table border=\"1\" class=\"dataframe\">\n",
       "  <thead>\n",
       "    <tr style=\"text-align: right;\">\n",
       "      <th></th>\n",
       "      <th>user_id_hash</th>\n",
       "      <th>prediction</th>\n",
       "    </tr>\n",
       "  </thead>\n",
       "  <tbody>\n",
       "    <tr>\n",
       "      <th>0</th>\n",
       "      <td>00000db35682058bb7916cb90f85709f54c1a0f7a3b6de...</td>\n",
       "      <td>0</td>\n",
       "    </tr>\n",
       "    <tr>\n",
       "      <th>1</th>\n",
       "      <td>000059859ec188af6035870faf885c3038cedda05b3a54...</td>\n",
       "      <td>0</td>\n",
       "    </tr>\n",
       "    <tr>\n",
       "      <th>2</th>\n",
       "      <td>000062e9be78f3da274fec338e78f89d12000e781967f2...</td>\n",
       "      <td>0</td>\n",
       "    </tr>\n",
       "    <tr>\n",
       "      <th>3</th>\n",
       "      <td>00006ad44c0d33a2a526caf75514643639b7b7070dfffd...</td>\n",
       "      <td>0</td>\n",
       "    </tr>\n",
       "    <tr>\n",
       "      <th>4</th>\n",
       "      <td>000081a7d841b0f953bdba6c185fd5cc335fd6015a30c3...</td>\n",
       "      <td>0</td>\n",
       "    </tr>\n",
       "  </tbody>\n",
       "</table>\n",
       "</div>"
      ],
      "text/plain": [
       "                                        user_id_hash  prediction\n",
       "0  00000db35682058bb7916cb90f85709f54c1a0f7a3b6de...           0\n",
       "1  000059859ec188af6035870faf885c3038cedda05b3a54...           0\n",
       "2  000062e9be78f3da274fec338e78f89d12000e781967f2...           0\n",
       "3  00006ad44c0d33a2a526caf75514643639b7b7070dfffd...           0\n",
       "4  000081a7d841b0f953bdba6c185fd5cc335fd6015a30c3...           0"
      ]
     },
     "execution_count": 35,
     "metadata": {},
     "output_type": "execute_result"
    }
   ],
   "source": [
    "pred.head()"
   ]
  },
  {
   "cell_type": "code",
   "execution_count": 36,
   "metadata": {},
   "outputs": [
    {
     "data": {
      "text/html": [
       "<div>\n",
       "<style scoped>\n",
       "    .dataframe tbody tr th:only-of-type {\n",
       "        vertical-align: middle;\n",
       "    }\n",
       "\n",
       "    .dataframe tbody tr th {\n",
       "        vertical-align: top;\n",
       "    }\n",
       "\n",
       "    .dataframe thead th {\n",
       "        text-align: right;\n",
       "    }\n",
       "</style>\n",
       "<table border=\"1\" class=\"dataframe\">\n",
       "  <thead>\n",
       "    <tr style=\"text-align: right;\">\n",
       "      <th></th>\n",
       "      <th>user_id_hash</th>\n",
       "      <th>user_purchase_binary_7_days</th>\n",
       "      <th>user_purchase_binary_14_days</th>\n",
       "    </tr>\n",
       "  </thead>\n",
       "  <tbody>\n",
       "    <tr>\n",
       "      <th>0</th>\n",
       "      <td>e469dfaed039ead9110165d9bc457acb11609ca34057dc...</td>\n",
       "      <td>0.01</td>\n",
       "      <td>0.02</td>\n",
       "    </tr>\n",
       "    <tr>\n",
       "      <th>1</th>\n",
       "      <td>afcc639a324b6c598ef83d360450afa011cb2dd1358bf9...</td>\n",
       "      <td>0.01</td>\n",
       "      <td>0.02</td>\n",
       "    </tr>\n",
       "    <tr>\n",
       "      <th>2</th>\n",
       "      <td>fd5a7cf211d08e3e00f7be6a9df6e6ea3d2e5c22a5d9c3...</td>\n",
       "      <td>0.01</td>\n",
       "      <td>0.02</td>\n",
       "    </tr>\n",
       "    <tr>\n",
       "      <th>3</th>\n",
       "      <td>00bfff98b9d0329f014c2eeac7ce47cd18b2bc6e10d608...</td>\n",
       "      <td>0.01</td>\n",
       "      <td>0.02</td>\n",
       "    </tr>\n",
       "    <tr>\n",
       "      <th>4</th>\n",
       "      <td>0d298f3638c43e915c119d4935e1ce8d168f81b5e3e8c1...</td>\n",
       "      <td>0.01</td>\n",
       "      <td>0.02</td>\n",
       "    </tr>\n",
       "  </tbody>\n",
       "</table>\n",
       "</div>"
      ],
      "text/plain": [
       "                                        user_id_hash  \\\n",
       "0  e469dfaed039ead9110165d9bc457acb11609ca34057dc...   \n",
       "1  afcc639a324b6c598ef83d360450afa011cb2dd1358bf9...   \n",
       "2  fd5a7cf211d08e3e00f7be6a9df6e6ea3d2e5c22a5d9c3...   \n",
       "3  00bfff98b9d0329f014c2eeac7ce47cd18b2bc6e10d608...   \n",
       "4  0d298f3638c43e915c119d4935e1ce8d168f81b5e3e8c1...   \n",
       "\n",
       "   user_purchase_binary_7_days  user_purchase_binary_14_days  \n",
       "0                         0.01                          0.02  \n",
       "1                         0.01                          0.02  \n",
       "2                         0.01                          0.02  \n",
       "3                         0.01                          0.02  \n",
       "4                         0.01                          0.02  "
      ]
     },
     "execution_count": 36,
     "metadata": {},
     "output_type": "execute_result"
    }
   ],
   "source": [
    "df.head()"
   ]
  },
  {
   "cell_type": "code",
   "execution_count": 37,
   "metadata": {},
   "outputs": [],
   "source": [
    "new2 = df.merge(pred, on='user_id_hash', how=\"left\")"
   ]
  },
  {
   "cell_type": "code",
   "execution_count": 38,
   "metadata": {},
   "outputs": [],
   "source": [
    "new2.drop('user_purchase_binary_7_days', inplace=True, axis=1)"
   ]
  },
  {
   "cell_type": "code",
   "execution_count": 42,
   "metadata": {},
   "outputs": [],
   "source": [
    "new2['user_purchase_binary_14_days'] = new2['prediction']"
   ]
  },
  {
   "cell_type": "code",
   "execution_count": 43,
   "metadata": {},
   "outputs": [],
   "source": [
    "def rand(x):\n",
    "    if x == 1:\n",
    "        return x\n",
    "    else:\n",
    "        return np.random.choice((1,0), p=[0.23, 0.77])"
   ]
  },
  {
   "cell_type": "code",
   "execution_count": 44,
   "metadata": {},
   "outputs": [],
   "source": [
    "new2['user_purchase_binary_14_days'] = new2['user_purchase_binary_14_days'].map(lambda x: rand(x))"
   ]
  },
  {
   "cell_type": "code",
   "execution_count": 45,
   "metadata": {},
   "outputs": [],
   "source": [
    "new2.columns = ['user_id_hash', 'user_purchase_binary_14_days', 'user_purchase_binary_7_days']"
   ]
  },
  {
   "cell_type": "code",
   "execution_count": 46,
   "metadata": {},
   "outputs": [],
   "source": [
    "columns = ['user_id_hash', 'user_purchase_binary_7_days', 'user_purchase_binary_14_days']"
   ]
  },
  {
   "cell_type": "code",
   "execution_count": 47,
   "metadata": {},
   "outputs": [],
   "source": [
    "new2 = new2.reindex(columns,axis=1)"
   ]
  },
  {
   "cell_type": "code",
   "execution_count": 48,
   "metadata": {},
   "outputs": [],
   "source": [
    "new2['user_purchase_binary_7_days'] = new2['user_purchase_binary_7_days'].map(lambda x: enconder(x))"
   ]
  },
  {
   "cell_type": "code",
   "execution_count": 49,
   "metadata": {},
   "outputs": [
    {
     "data": {
      "text/plain": [
       "user_id_hash                    312568\n",
       "user_purchase_binary_7_days     312568\n",
       "user_purchase_binary_14_days    312568\n",
       "dtype: int64"
      ]
     },
     "execution_count": 49,
     "metadata": {},
     "output_type": "execute_result"
    }
   ],
   "source": [
    "new2.count()"
   ]
  },
  {
   "cell_type": "code",
   "execution_count": null,
   "metadata": {},
   "outputs": [],
   "source": []
  },
  {
   "cell_type": "code",
   "execution_count": 50,
   "metadata": {},
   "outputs": [],
   "source": [
    "new2.to_csv('submission1.csv', index=False)"
   ]
  },
  {
   "cell_type": "code",
   "execution_count": null,
   "metadata": {},
   "outputs": [],
   "source": []
  }
 ],
 "metadata": {
  "kernelspec": {
   "display_name": "Python 3",
   "language": "python",
   "name": "python3"
  },
  "language_info": {
   "codemirror_mode": {
    "name": "ipython",
    "version": 3
   },
   "file_extension": ".py",
   "mimetype": "text/x-python",
   "name": "python",
   "nbconvert_exporter": "python",
   "pygments_lexer": "ipython3",
   "version": "3.6.6"
  }
 },
 "nbformat": 4,
 "nbformat_minor": 2
}
