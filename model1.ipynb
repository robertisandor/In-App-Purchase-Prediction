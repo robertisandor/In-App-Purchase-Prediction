{
 "cells": [
  {
   "cell_type": "code",
   "execution_count": 12,
   "metadata": {
    "ExecuteTime": {
     "end_time": "2019-02-19T23:29:22.030657Z",
     "start_time": "2019-02-19T23:29:22.027464Z"
    }
   },
   "outputs": [],
   "source": [
    "import os\n",
    "import pandas as pd\n",
    "import numpy as np\n",
    "import s3fs\n",
    "from datetime import datetime\n",
    "from datetime import timedelta\n",
    "import calendar\n",
    "import boto3\n",
    "import io\n",
    "import ast"
   ]
  },
  {
   "cell_type": "markdown",
   "metadata": {},
   "source": [
    "## Setup s3"
   ]
  },
  {
   "cell_type": "code",
   "execution_count": 2,
   "metadata": {
    "ExecuteTime": {
     "end_time": "2019-02-19T23:21:35.893035Z",
     "start_time": "2019-02-19T23:21:35.889113Z"
    }
   },
   "outputs": [],
   "source": [
    "# aws\n",
    "aws_filename = \"my_aws.txt\"\n",
    "with open (aws_filename, 'r') as f:\n",
    "    aws_id_key = f.read()\n",
    "access_id, access_key = aws_id_key.replace(\"\\n\",\"\").split(',')"
   ]
  },
  {
   "cell_type": "code",
   "execution_count": 3,
   "metadata": {
    "ExecuteTime": {
     "end_time": "2019-02-19T23:21:35.992422Z",
     "start_time": "2019-02-19T23:21:35.895154Z"
    }
   },
   "outputs": [],
   "source": [
    "s3 = boto3.client('s3',\n",
    "                  aws_access_key_id=access_id,\n",
    "                  aws_secret_access_key=access_key)"
   ]
  },
  {
   "cell_type": "markdown",
   "metadata": {},
   "source": [
    "## Read train data"
   ]
  },
  {
   "cell_type": "code",
   "execution_count": 25,
   "metadata": {
    "ExecuteTime": {
     "end_time": "2019-02-19T23:35:06.507492Z",
     "start_time": "2019-02-19T23:34:47.535050Z"
    }
   },
   "outputs": [],
   "source": [
    "obj_train = s3.get_object(Bucket='msds630-kaggle-competition', Key='feature_engineered_train.csv/part-00000')\n",
    "raw_train = pd.read_csv(obj_train['Body'], header = None)"
   ]
  },
  {
   "cell_type": "code",
   "execution_count": 68,
   "metadata": {
    "ExecuteTime": {
     "end_time": "2019-02-19T23:58:35.660081Z",
     "start_time": "2019-02-19T23:58:35.642187Z"
    }
   },
   "outputs": [
    {
     "data": {
      "text/html": [
       "<div>\n",
       "<style scoped>\n",
       "    .dataframe tbody tr th:only-of-type {\n",
       "        vertical-align: middle;\n",
       "    }\n",
       "\n",
       "    .dataframe tbody tr th {\n",
       "        vertical-align: top;\n",
       "    }\n",
       "\n",
       "    .dataframe thead th {\n",
       "        text-align: right;\n",
       "    }\n",
       "</style>\n",
       "<table border=\"1\" class=\"dataframe\">\n",
       "  <thead>\n",
       "    <tr style=\"text-align: right;\">\n",
       "      <th></th>\n",
       "      <th>0</th>\n",
       "      <th>1</th>\n",
       "      <th>2</th>\n",
       "      <th>3</th>\n",
       "      <th>4</th>\n",
       "      <th>5</th>\n",
       "      <th>6</th>\n",
       "      <th>7</th>\n",
       "      <th>8</th>\n",
       "      <th>9</th>\n",
       "      <th>10</th>\n",
       "      <th>11</th>\n",
       "    </tr>\n",
       "  </thead>\n",
       "  <tbody>\n",
       "    <tr>\n",
       "      <th>0</th>\n",
       "      <td>['eb37a43eb25770c442b54a4943c7f9eb17278328dd04...</td>\n",
       "      <td>9</td>\n",
       "      <td>3.560204e+06</td>\n",
       "      <td>'2018-11-15 09:53:20'</td>\n",
       "      <td>'IN'</td>\n",
       "      <td>'Android OS'</td>\n",
       "      <td>1</td>\n",
       "      <td>84.0</td>\n",
       "      <td>0.0</td>\n",
       "      <td>0.0</td>\n",
       "      <td>-1.0</td>\n",
       "      <td>-1.0]</td>\n",
       "    </tr>\n",
       "    <tr>\n",
       "      <th>1</th>\n",
       "      <td>['e2c1b7686b247d8ce10d9afbde701ae2a9203731edf8...</td>\n",
       "      <td>1</td>\n",
       "      <td>0.000000e+00</td>\n",
       "      <td>'2018-11-25 17:50:00'</td>\n",
       "      <td>'US'</td>\n",
       "      <td>'Android OS'</td>\n",
       "      <td>1</td>\n",
       "      <td>4.0</td>\n",
       "      <td>0.0</td>\n",
       "      <td>0.0</td>\n",
       "      <td>-1.0</td>\n",
       "      <td>-1.0]</td>\n",
       "    </tr>\n",
       "    <tr>\n",
       "      <th>2</th>\n",
       "      <td>['feea441cbaf2df60e772241695d5809cf4bc8f516c34...</td>\n",
       "      <td>1</td>\n",
       "      <td>0.000000e+00</td>\n",
       "      <td>'2018-11-14 23:01:40'</td>\n",
       "      <td>'PH'</td>\n",
       "      <td>'Android OS'</td>\n",
       "      <td>1</td>\n",
       "      <td>15.0</td>\n",
       "      <td>0.0</td>\n",
       "      <td>0.0</td>\n",
       "      <td>-1.0</td>\n",
       "      <td>-1.0]</td>\n",
       "    </tr>\n",
       "    <tr>\n",
       "      <th>3</th>\n",
       "      <td>['bf23f836143cc7fb00ec1e6c570e211c601628ad5680...</td>\n",
       "      <td>1</td>\n",
       "      <td>0.000000e+00</td>\n",
       "      <td>'2018-11-18 16:33:20'</td>\n",
       "      <td>'US'</td>\n",
       "      <td>'Android OS'</td>\n",
       "      <td>1</td>\n",
       "      <td>36.0</td>\n",
       "      <td>0.0</td>\n",
       "      <td>0.0</td>\n",
       "      <td>-1.0</td>\n",
       "      <td>-1.0]</td>\n",
       "    </tr>\n",
       "    <tr>\n",
       "      <th>4</th>\n",
       "      <td>['b18aa61b3cec4bd7168de7e5037561dc44ec3051c461...</td>\n",
       "      <td>1</td>\n",
       "      <td>0.000000e+00</td>\n",
       "      <td>'2018-11-08 17:26:40'</td>\n",
       "      <td>'US'</td>\n",
       "      <td>'Android OS'</td>\n",
       "      <td>1</td>\n",
       "      <td>9.0</td>\n",
       "      <td>0.0</td>\n",
       "      <td>0.0</td>\n",
       "      <td>-1.0</td>\n",
       "      <td>-1.0]</td>\n",
       "    </tr>\n",
       "  </tbody>\n",
       "</table>\n",
       "</div>"
      ],
      "text/plain": [
       "                                                  0   1             2   \\\n",
       "0  ['eb37a43eb25770c442b54a4943c7f9eb17278328dd04...   9  3.560204e+06   \n",
       "1  ['e2c1b7686b247d8ce10d9afbde701ae2a9203731edf8...   1  0.000000e+00   \n",
       "2  ['feea441cbaf2df60e772241695d5809cf4bc8f516c34...   1  0.000000e+00   \n",
       "3  ['bf23f836143cc7fb00ec1e6c570e211c601628ad5680...   1  0.000000e+00   \n",
       "4  ['b18aa61b3cec4bd7168de7e5037561dc44ec3051c461...   1  0.000000e+00   \n",
       "\n",
       "                       3      4              5   6     7    8    9    10  \\\n",
       "0   '2018-11-15 09:53:20'   'IN'   'Android OS'   1  84.0  0.0  0.0 -1.0   \n",
       "1   '2018-11-25 17:50:00'   'US'   'Android OS'   1   4.0  0.0  0.0 -1.0   \n",
       "2   '2018-11-14 23:01:40'   'PH'   'Android OS'   1  15.0  0.0  0.0 -1.0   \n",
       "3   '2018-11-18 16:33:20'   'US'   'Android OS'   1  36.0  0.0  0.0 -1.0   \n",
       "4   '2018-11-08 17:26:40'   'US'   'Android OS'   1   9.0  0.0  0.0 -1.0   \n",
       "\n",
       "       11  \n",
       "0   -1.0]  \n",
       "1   -1.0]  \n",
       "2   -1.0]  \n",
       "3   -1.0]  \n",
       "4   -1.0]  "
      ]
     },
     "execution_count": 68,
     "metadata": {},
     "output_type": "execute_result"
    }
   ],
   "source": [
    "raw_train.head() # Check the head"
   ]
  },
  {
   "cell_type": "code",
   "execution_count": 157,
   "metadata": {
    "ExecuteTime": {
     "end_time": "2019-02-20T00:52:48.951989Z",
     "start_time": "2019-02-20T00:52:37.939613Z"
    }
   },
   "outputs": [],
   "source": [
    "# Clean the data\n",
    "raw_train_adj = pd.DataFrame()\n",
    "raw_train_adj[\"user_hash_id\"] = [ast.literal_eval(elem + \"]\")[0] for elem in raw_train[0].values]\n",
    "raw_train_adj[\"num_uniq_session_id\"] = raw_train[1].values\n",
    "raw_train_adj[\"mean_prev_session\"] = raw_train[2].values\n",
    "raw_train_adj[\"date_user_created\"] = [elem.replace(\"\\'\", \"\").strip() for elem in raw_train[3].values]\n",
    "raw_train_adj[\"most_freq_country\"] = [elem.replace(\"\\'\", \"\").strip() for elem in raw_train[4].values]\n",
    "raw_train_adj[\"most_freq_os\"] = [elem.replace(\"\\'\", \"\").strip() for elem in raw_train[5].values]\n",
    "raw_train_adj[\"num_uniq_device_id\"] = raw_train[6].values\n",
    "raw_train_adj[\"max_num_events_a_session\"] = raw_train[7].values\n",
    "raw_train_adj[\"total_num_purchase\"] = raw_train[8].values\n",
    "raw_train_adj[\"total_purchase_amt\"] = raw_train[9].values\n",
    "raw_train_adj[\"label_1\"] = raw_train[10].values\n",
    "raw_train_adj[\"label_2\"] = [ast.literal_eval(\"[\" + elem)[0] for elem in raw_train[11].values]"
   ]
  },
  {
   "cell_type": "code",
   "execution_count": 158,
   "metadata": {
    "ExecuteTime": {
     "end_time": "2019-02-20T00:52:48.972260Z",
     "start_time": "2019-02-20T00:52:48.954387Z"
    }
   },
   "outputs": [
    {
     "data": {
      "text/html": [
       "<div>\n",
       "<style scoped>\n",
       "    .dataframe tbody tr th:only-of-type {\n",
       "        vertical-align: middle;\n",
       "    }\n",
       "\n",
       "    .dataframe tbody tr th {\n",
       "        vertical-align: top;\n",
       "    }\n",
       "\n",
       "    .dataframe thead th {\n",
       "        text-align: right;\n",
       "    }\n",
       "</style>\n",
       "<table border=\"1\" class=\"dataframe\">\n",
       "  <thead>\n",
       "    <tr style=\"text-align: right;\">\n",
       "      <th></th>\n",
       "      <th>user_hash_id</th>\n",
       "      <th>num_uniq_session_id</th>\n",
       "      <th>mean_prev_session</th>\n",
       "      <th>date_user_created</th>\n",
       "      <th>most_freq_country</th>\n",
       "      <th>most_freq_os</th>\n",
       "      <th>num_uniq_device_id</th>\n",
       "      <th>max_num_events_a_session</th>\n",
       "      <th>total_num_purchase</th>\n",
       "      <th>total_purchase_amt</th>\n",
       "      <th>label_1</th>\n",
       "      <th>label_2</th>\n",
       "    </tr>\n",
       "  </thead>\n",
       "  <tbody>\n",
       "    <tr>\n",
       "      <th>0</th>\n",
       "      <td>eb37a43eb25770c442b54a4943c7f9eb17278328dd0499...</td>\n",
       "      <td>9</td>\n",
       "      <td>3.560204e+06</td>\n",
       "      <td>2018-11-15 09:53:20</td>\n",
       "      <td>IN</td>\n",
       "      <td>Android OS</td>\n",
       "      <td>1</td>\n",
       "      <td>84.0</td>\n",
       "      <td>0.0</td>\n",
       "      <td>0.0</td>\n",
       "      <td>-1.0</td>\n",
       "      <td>-1.0</td>\n",
       "    </tr>\n",
       "    <tr>\n",
       "      <th>1</th>\n",
       "      <td>e2c1b7686b247d8ce10d9afbde701ae2a9203731edf81a...</td>\n",
       "      <td>1</td>\n",
       "      <td>0.000000e+00</td>\n",
       "      <td>2018-11-25 17:50:00</td>\n",
       "      <td>US</td>\n",
       "      <td>Android OS</td>\n",
       "      <td>1</td>\n",
       "      <td>4.0</td>\n",
       "      <td>0.0</td>\n",
       "      <td>0.0</td>\n",
       "      <td>-1.0</td>\n",
       "      <td>-1.0</td>\n",
       "    </tr>\n",
       "    <tr>\n",
       "      <th>2</th>\n",
       "      <td>feea441cbaf2df60e772241695d5809cf4bc8f516c347c...</td>\n",
       "      <td>1</td>\n",
       "      <td>0.000000e+00</td>\n",
       "      <td>2018-11-14 23:01:40</td>\n",
       "      <td>PH</td>\n",
       "      <td>Android OS</td>\n",
       "      <td>1</td>\n",
       "      <td>15.0</td>\n",
       "      <td>0.0</td>\n",
       "      <td>0.0</td>\n",
       "      <td>-1.0</td>\n",
       "      <td>-1.0</td>\n",
       "    </tr>\n",
       "    <tr>\n",
       "      <th>3</th>\n",
       "      <td>bf23f836143cc7fb00ec1e6c570e211c601628ad5680eb...</td>\n",
       "      <td>1</td>\n",
       "      <td>0.000000e+00</td>\n",
       "      <td>2018-11-18 16:33:20</td>\n",
       "      <td>US</td>\n",
       "      <td>Android OS</td>\n",
       "      <td>1</td>\n",
       "      <td>36.0</td>\n",
       "      <td>0.0</td>\n",
       "      <td>0.0</td>\n",
       "      <td>-1.0</td>\n",
       "      <td>-1.0</td>\n",
       "    </tr>\n",
       "    <tr>\n",
       "      <th>4</th>\n",
       "      <td>b18aa61b3cec4bd7168de7e5037561dc44ec3051c461b2...</td>\n",
       "      <td>1</td>\n",
       "      <td>0.000000e+00</td>\n",
       "      <td>2018-11-08 17:26:40</td>\n",
       "      <td>US</td>\n",
       "      <td>Android OS</td>\n",
       "      <td>1</td>\n",
       "      <td>9.0</td>\n",
       "      <td>0.0</td>\n",
       "      <td>0.0</td>\n",
       "      <td>-1.0</td>\n",
       "      <td>-1.0</td>\n",
       "    </tr>\n",
       "  </tbody>\n",
       "</table>\n",
       "</div>"
      ],
      "text/plain": [
       "                                        user_hash_id  num_uniq_session_id  \\\n",
       "0  eb37a43eb25770c442b54a4943c7f9eb17278328dd0499...                    9   \n",
       "1  e2c1b7686b247d8ce10d9afbde701ae2a9203731edf81a...                    1   \n",
       "2  feea441cbaf2df60e772241695d5809cf4bc8f516c347c...                    1   \n",
       "3  bf23f836143cc7fb00ec1e6c570e211c601628ad5680eb...                    1   \n",
       "4  b18aa61b3cec4bd7168de7e5037561dc44ec3051c461b2...                    1   \n",
       "\n",
       "   mean_prev_session    date_user_created most_freq_country most_freq_os  \\\n",
       "0       3.560204e+06  2018-11-15 09:53:20                IN   Android OS   \n",
       "1       0.000000e+00  2018-11-25 17:50:00                US   Android OS   \n",
       "2       0.000000e+00  2018-11-14 23:01:40                PH   Android OS   \n",
       "3       0.000000e+00  2018-11-18 16:33:20                US   Android OS   \n",
       "4       0.000000e+00  2018-11-08 17:26:40                US   Android OS   \n",
       "\n",
       "   num_uniq_device_id  max_num_events_a_session  total_num_purchase  \\\n",
       "0                   1                      84.0                 0.0   \n",
       "1                   1                       4.0                 0.0   \n",
       "2                   1                      15.0                 0.0   \n",
       "3                   1                      36.0                 0.0   \n",
       "4                   1                       9.0                 0.0   \n",
       "\n",
       "   total_purchase_amt  label_1  label_2  \n",
       "0                 0.0     -1.0     -1.0  \n",
       "1                 0.0     -1.0     -1.0  \n",
       "2                 0.0     -1.0     -1.0  \n",
       "3                 0.0     -1.0     -1.0  \n",
       "4                 0.0     -1.0     -1.0  "
      ]
     },
     "execution_count": 158,
     "metadata": {},
     "output_type": "execute_result"
    }
   ],
   "source": [
    "raw_train_adj.head() # Check the head"
   ]
  },
  {
   "cell_type": "markdown",
   "metadata": {},
   "source": [
    "## Read test data"
   ]
  },
  {
   "cell_type": "code",
   "execution_count": 18,
   "metadata": {
    "ExecuteTime": {
     "end_time": "2019-02-19T23:32:28.560184Z",
     "start_time": "2019-02-19T23:32:15.448136Z"
    }
   },
   "outputs": [],
   "source": [
    "obj_test = s3.get_object(Bucket='msds630-kaggle-competition', Key='feature_engineered_test.csv/part-00000')\n",
    "raw_test = pd.read_csv(obj_test['Body'], header = None)"
   ]
  },
  {
   "cell_type": "code",
   "execution_count": 19,
   "metadata": {
    "ExecuteTime": {
     "end_time": "2019-02-19T23:32:28.582561Z",
     "start_time": "2019-02-19T23:32:28.562946Z"
    },
    "scrolled": true
   },
   "outputs": [
    {
     "data": {
      "text/html": [
       "<div>\n",
       "<style scoped>\n",
       "    .dataframe tbody tr th:only-of-type {\n",
       "        vertical-align: middle;\n",
       "    }\n",
       "\n",
       "    .dataframe tbody tr th {\n",
       "        vertical-align: top;\n",
       "    }\n",
       "\n",
       "    .dataframe thead th {\n",
       "        text-align: right;\n",
       "    }\n",
       "</style>\n",
       "<table border=\"1\" class=\"dataframe\">\n",
       "  <thead>\n",
       "    <tr style=\"text-align: right;\">\n",
       "      <th></th>\n",
       "      <th>0</th>\n",
       "      <th>1</th>\n",
       "      <th>2</th>\n",
       "      <th>3</th>\n",
       "      <th>4</th>\n",
       "      <th>5</th>\n",
       "      <th>6</th>\n",
       "      <th>7</th>\n",
       "      <th>8</th>\n",
       "      <th>9</th>\n",
       "    </tr>\n",
       "  </thead>\n",
       "  <tbody>\n",
       "    <tr>\n",
       "      <th>0</th>\n",
       "      <td>['d6cf11a892144d6d2b5d953a5dba12033b2041655aaf...</td>\n",
       "      <td>46</td>\n",
       "      <td>3.323395e+07</td>\n",
       "      <td>'2018-10-06 05:05:00'</td>\n",
       "      <td>'US'</td>\n",
       "      <td>'iOS'</td>\n",
       "      <td>1</td>\n",
       "      <td>63.0</td>\n",
       "      <td>12.0</td>\n",
       "      <td>35.61600000000001]</td>\n",
       "    </tr>\n",
       "    <tr>\n",
       "      <th>1</th>\n",
       "      <td>['2b0dae5cbb692617108ec258eee1f996a61beec0dc87...</td>\n",
       "      <td>1</td>\n",
       "      <td>0.000000e+00</td>\n",
       "      <td>'2018-10-13 19:46:40'</td>\n",
       "      <td>'AT'</td>\n",
       "      <td>'iOS'</td>\n",
       "      <td>1</td>\n",
       "      <td>2.0</td>\n",
       "      <td>0.0</td>\n",
       "      <td>0.0]</td>\n",
       "    </tr>\n",
       "    <tr>\n",
       "      <th>2</th>\n",
       "      <td>['91dc64176a5e7dde98de44444c53cadc491c0d576332...</td>\n",
       "      <td>1</td>\n",
       "      <td>0.000000e+00</td>\n",
       "      <td>'2018-10-29 16:05:00'</td>\n",
       "      <td>'CV'</td>\n",
       "      <td>'iOS'</td>\n",
       "      <td>1</td>\n",
       "      <td>13.0</td>\n",
       "      <td>0.0</td>\n",
       "      <td>0.0]</td>\n",
       "    </tr>\n",
       "    <tr>\n",
       "      <th>3</th>\n",
       "      <td>['5c07a4b87ac4e07894cc50667c01ae688a9e30e5e214...</td>\n",
       "      <td>6</td>\n",
       "      <td>3.968576e+06</td>\n",
       "      <td>'2018-11-01 17:38:20'</td>\n",
       "      <td>'BS'</td>\n",
       "      <td>'Android OS'</td>\n",
       "      <td>1</td>\n",
       "      <td>42.0</td>\n",
       "      <td>0.0</td>\n",
       "      <td>0.0]</td>\n",
       "    </tr>\n",
       "    <tr>\n",
       "      <th>4</th>\n",
       "      <td>['a0701427d30f102e4187a9abaacf381f5a46a1dd964f...</td>\n",
       "      <td>4</td>\n",
       "      <td>2.468833e+06</td>\n",
       "      <td>'2018-11-19 23:31:40'</td>\n",
       "      <td>'US'</td>\n",
       "      <td>'iOS'</td>\n",
       "      <td>1</td>\n",
       "      <td>50.0</td>\n",
       "      <td>0.0</td>\n",
       "      <td>0.0]</td>\n",
       "    </tr>\n",
       "  </tbody>\n",
       "</table>\n",
       "</div>"
      ],
      "text/plain": [
       "                                                   0   1             2  \\\n",
       "0  ['d6cf11a892144d6d2b5d953a5dba12033b2041655aaf...  46  3.323395e+07   \n",
       "1  ['2b0dae5cbb692617108ec258eee1f996a61beec0dc87...   1  0.000000e+00   \n",
       "2  ['91dc64176a5e7dde98de44444c53cadc491c0d576332...   1  0.000000e+00   \n",
       "3  ['5c07a4b87ac4e07894cc50667c01ae688a9e30e5e214...   6  3.968576e+06   \n",
       "4  ['a0701427d30f102e4187a9abaacf381f5a46a1dd964f...   4  2.468833e+06   \n",
       "\n",
       "                        3      4              5  6     7     8  \\\n",
       "0   '2018-10-06 05:05:00'   'US'          'iOS'  1  63.0  12.0   \n",
       "1   '2018-10-13 19:46:40'   'AT'          'iOS'  1   2.0   0.0   \n",
       "2   '2018-10-29 16:05:00'   'CV'          'iOS'  1  13.0   0.0   \n",
       "3   '2018-11-01 17:38:20'   'BS'   'Android OS'  1  42.0   0.0   \n",
       "4   '2018-11-19 23:31:40'   'US'          'iOS'  1  50.0   0.0   \n",
       "\n",
       "                     9  \n",
       "0   35.61600000000001]  \n",
       "1                 0.0]  \n",
       "2                 0.0]  \n",
       "3                 0.0]  \n",
       "4                 0.0]  "
      ]
     },
     "execution_count": 19,
     "metadata": {},
     "output_type": "execute_result"
    }
   ],
   "source": [
    "raw_test.head() # Check the head"
   ]
  },
  {
   "cell_type": "code",
   "execution_count": 159,
   "metadata": {
    "ExecuteTime": {
     "end_time": "2019-02-20T00:52:58.244724Z",
     "start_time": "2019-02-20T00:52:48.973920Z"
    }
   },
   "outputs": [],
   "source": [
    "# Clean the data\n",
    "raw_test_adj = pd.DataFrame()\n",
    "raw_test_adj[\"user_hash_id\"] = [ast.literal_eval(elem + \"]\")[0] for elem in raw_test[0].values]\n",
    "raw_test_adj[\"num_uniq_session_id\"] = raw_test[1].values\n",
    "raw_test_adj[\"mean_prev_session\"] = raw_test[2].values\n",
    "raw_test_adj[\"date_user_created\"] = [elem.replace(\"\\'\", \"\").strip() for elem in raw_test[3].values]\n",
    "raw_test_adj[\"most_freq_country\"] = [elem.replace(\"\\'\", \"\").strip() for elem in raw_test[4].values]\n",
    "raw_test_adj[\"most_freq_os\"] = [elem.replace(\"\\'\", \"\").strip() for elem in raw_test[5].values]\n",
    "raw_test_adj[\"num_uniq_device_id\"] = raw_test[6].values\n",
    "raw_test_adj[\"max_num_events_a_session\"] = raw_test[7].values\n",
    "raw_test_adj[\"total_num_purchase\"] = raw_test[8].values\n",
    "raw_test_adj[\"total_purchase_amt\"] = [ast.literal_eval(\"[\" + elem)[0] for elem in raw_test[9].values]"
   ]
  },
  {
   "cell_type": "code",
   "execution_count": 160,
   "metadata": {
    "ExecuteTime": {
     "end_time": "2019-02-20T00:52:58.265260Z",
     "start_time": "2019-02-20T00:52:58.247447Z"
    }
   },
   "outputs": [
    {
     "data": {
      "text/html": [
       "<div>\n",
       "<style scoped>\n",
       "    .dataframe tbody tr th:only-of-type {\n",
       "        vertical-align: middle;\n",
       "    }\n",
       "\n",
       "    .dataframe tbody tr th {\n",
       "        vertical-align: top;\n",
       "    }\n",
       "\n",
       "    .dataframe thead th {\n",
       "        text-align: right;\n",
       "    }\n",
       "</style>\n",
       "<table border=\"1\" class=\"dataframe\">\n",
       "  <thead>\n",
       "    <tr style=\"text-align: right;\">\n",
       "      <th></th>\n",
       "      <th>user_hash_id</th>\n",
       "      <th>num_uniq_session_id</th>\n",
       "      <th>mean_prev_session</th>\n",
       "      <th>date_user_created</th>\n",
       "      <th>most_freq_country</th>\n",
       "      <th>most_freq_os</th>\n",
       "      <th>num_uniq_device_id</th>\n",
       "      <th>max_num_events_a_session</th>\n",
       "      <th>total_num_purchase</th>\n",
       "      <th>total_purchase_amt</th>\n",
       "    </tr>\n",
       "  </thead>\n",
       "  <tbody>\n",
       "    <tr>\n",
       "      <th>0</th>\n",
       "      <td>d6cf11a892144d6d2b5d953a5dba12033b2041655aaf26...</td>\n",
       "      <td>46</td>\n",
       "      <td>3.323395e+07</td>\n",
       "      <td>2018-10-06 05:05:00</td>\n",
       "      <td>US</td>\n",
       "      <td>iOS</td>\n",
       "      <td>1</td>\n",
       "      <td>63.0</td>\n",
       "      <td>12.0</td>\n",
       "      <td>35.616</td>\n",
       "    </tr>\n",
       "    <tr>\n",
       "      <th>1</th>\n",
       "      <td>2b0dae5cbb692617108ec258eee1f996a61beec0dc8711...</td>\n",
       "      <td>1</td>\n",
       "      <td>0.000000e+00</td>\n",
       "      <td>2018-10-13 19:46:40</td>\n",
       "      <td>AT</td>\n",
       "      <td>iOS</td>\n",
       "      <td>1</td>\n",
       "      <td>2.0</td>\n",
       "      <td>0.0</td>\n",
       "      <td>0.000</td>\n",
       "    </tr>\n",
       "    <tr>\n",
       "      <th>2</th>\n",
       "      <td>91dc64176a5e7dde98de44444c53cadc491c0d57633288...</td>\n",
       "      <td>1</td>\n",
       "      <td>0.000000e+00</td>\n",
       "      <td>2018-10-29 16:05:00</td>\n",
       "      <td>CV</td>\n",
       "      <td>iOS</td>\n",
       "      <td>1</td>\n",
       "      <td>13.0</td>\n",
       "      <td>0.0</td>\n",
       "      <td>0.000</td>\n",
       "    </tr>\n",
       "    <tr>\n",
       "      <th>3</th>\n",
       "      <td>5c07a4b87ac4e07894cc50667c01ae688a9e30e5e2147a...</td>\n",
       "      <td>6</td>\n",
       "      <td>3.968576e+06</td>\n",
       "      <td>2018-11-01 17:38:20</td>\n",
       "      <td>BS</td>\n",
       "      <td>Android OS</td>\n",
       "      <td>1</td>\n",
       "      <td>42.0</td>\n",
       "      <td>0.0</td>\n",
       "      <td>0.000</td>\n",
       "    </tr>\n",
       "    <tr>\n",
       "      <th>4</th>\n",
       "      <td>a0701427d30f102e4187a9abaacf381f5a46a1dd964ffe...</td>\n",
       "      <td>4</td>\n",
       "      <td>2.468833e+06</td>\n",
       "      <td>2018-11-19 23:31:40</td>\n",
       "      <td>US</td>\n",
       "      <td>iOS</td>\n",
       "      <td>1</td>\n",
       "      <td>50.0</td>\n",
       "      <td>0.0</td>\n",
       "      <td>0.000</td>\n",
       "    </tr>\n",
       "  </tbody>\n",
       "</table>\n",
       "</div>"
      ],
      "text/plain": [
       "                                        user_hash_id  num_uniq_session_id  \\\n",
       "0  d6cf11a892144d6d2b5d953a5dba12033b2041655aaf26...                   46   \n",
       "1  2b0dae5cbb692617108ec258eee1f996a61beec0dc8711...                    1   \n",
       "2  91dc64176a5e7dde98de44444c53cadc491c0d57633288...                    1   \n",
       "3  5c07a4b87ac4e07894cc50667c01ae688a9e30e5e2147a...                    6   \n",
       "4  a0701427d30f102e4187a9abaacf381f5a46a1dd964ffe...                    4   \n",
       "\n",
       "   mean_prev_session    date_user_created most_freq_country most_freq_os  \\\n",
       "0       3.323395e+07  2018-10-06 05:05:00                US          iOS   \n",
       "1       0.000000e+00  2018-10-13 19:46:40                AT          iOS   \n",
       "2       0.000000e+00  2018-10-29 16:05:00                CV          iOS   \n",
       "3       3.968576e+06  2018-11-01 17:38:20                BS   Android OS   \n",
       "4       2.468833e+06  2018-11-19 23:31:40                US          iOS   \n",
       "\n",
       "   num_uniq_device_id  max_num_events_a_session  total_num_purchase  \\\n",
       "0                   1                      63.0                12.0   \n",
       "1                   1                       2.0                 0.0   \n",
       "2                   1                      13.0                 0.0   \n",
       "3                   1                      42.0                 0.0   \n",
       "4                   1                      50.0                 0.0   \n",
       "\n",
       "   total_purchase_amt  \n",
       "0              35.616  \n",
       "1               0.000  \n",
       "2               0.000  \n",
       "3               0.000  \n",
       "4               0.000  "
      ]
     },
     "execution_count": 160,
     "metadata": {},
     "output_type": "execute_result"
    }
   ],
   "source": [
    "raw_test_adj.head()"
   ]
  },
  {
   "cell_type": "code",
   "execution_count": 161,
   "metadata": {
    "ExecuteTime": {
     "end_time": "2019-02-20T00:52:58.790330Z",
     "start_time": "2019-02-20T00:52:58.268508Z"
    }
   },
   "outputs": [
    {
     "data": {
      "text/html": [
       "<div>\n",
       "<style scoped>\n",
       "    .dataframe tbody tr th:only-of-type {\n",
       "        vertical-align: middle;\n",
       "    }\n",
       "\n",
       "    .dataframe tbody tr th {\n",
       "        vertical-align: top;\n",
       "    }\n",
       "\n",
       "    .dataframe thead th {\n",
       "        text-align: right;\n",
       "    }\n",
       "</style>\n",
       "<table border=\"1\" class=\"dataframe\">\n",
       "  <thead>\n",
       "    <tr style=\"text-align: right;\">\n",
       "      <th></th>\n",
       "      <th>user_id_hash</th>\n",
       "      <th>user_purchase_binary_7_days</th>\n",
       "      <th>user_purchase_binary_14_days</th>\n",
       "    </tr>\n",
       "  </thead>\n",
       "  <tbody>\n",
       "    <tr>\n",
       "      <th>0</th>\n",
       "      <td>e469dfaed039ead9110165d9bc457acb11609ca34057dc...</td>\n",
       "      <td>0.01</td>\n",
       "      <td>0.02</td>\n",
       "    </tr>\n",
       "    <tr>\n",
       "      <th>1</th>\n",
       "      <td>afcc639a324b6c598ef83d360450afa011cb2dd1358bf9...</td>\n",
       "      <td>0.01</td>\n",
       "      <td>0.02</td>\n",
       "    </tr>\n",
       "    <tr>\n",
       "      <th>2</th>\n",
       "      <td>fd5a7cf211d08e3e00f7be6a9df6e6ea3d2e5c22a5d9c3...</td>\n",
       "      <td>0.01</td>\n",
       "      <td>0.02</td>\n",
       "    </tr>\n",
       "    <tr>\n",
       "      <th>3</th>\n",
       "      <td>00bfff98b9d0329f014c2eeac7ce47cd18b2bc6e10d608...</td>\n",
       "      <td>0.01</td>\n",
       "      <td>0.02</td>\n",
       "    </tr>\n",
       "    <tr>\n",
       "      <th>4</th>\n",
       "      <td>0d298f3638c43e915c119d4935e1ce8d168f81b5e3e8c1...</td>\n",
       "      <td>0.01</td>\n",
       "      <td>0.02</td>\n",
       "    </tr>\n",
       "  </tbody>\n",
       "</table>\n",
       "</div>"
      ],
      "text/plain": [
       "                                        user_id_hash  \\\n",
       "0  e469dfaed039ead9110165d9bc457acb11609ca34057dc...   \n",
       "1  afcc639a324b6c598ef83d360450afa011cb2dd1358bf9...   \n",
       "2  fd5a7cf211d08e3e00f7be6a9df6e6ea3d2e5c22a5d9c3...   \n",
       "3  00bfff98b9d0329f014c2eeac7ce47cd18b2bc6e10d608...   \n",
       "4  0d298f3638c43e915c119d4935e1ce8d168f81b5e3e8c1...   \n",
       "\n",
       "   user_purchase_binary_7_days  user_purchase_binary_14_days  \n",
       "0                         0.01                          0.02  \n",
       "1                         0.01                          0.02  \n",
       "2                         0.01                          0.02  \n",
       "3                         0.01                          0.02  \n",
       "4                         0.01                          0.02  "
      ]
     },
     "execution_count": 161,
     "metadata": {},
     "output_type": "execute_result"
    }
   ],
   "source": [
    "# read test_sample\n",
    "# Make sure you have sample_submission_2.csv in your local path\n",
    "sample_sub_df = pd.read_csv(\"sample_submission_2.csv\")\n",
    "sample_sub_df.head()"
   ]
  },
  {
   "cell_type": "code",
   "execution_count": 163,
   "metadata": {
    "ExecuteTime": {
     "end_time": "2019-02-20T00:53:06.669036Z",
     "start_time": "2019-02-20T00:53:06.664940Z"
    }
   },
   "outputs": [
    {
     "name": "stdout",
     "output_type": "stream",
     "text": [
      "Number of users in sample submission: 312568.\n",
      "Number of users in test dataset: 619520.\n"
     ]
    }
   ],
   "source": [
    "# Check how many users in sample submission\n",
    "print(f\"Number of users in sample submission: {len(sample_sub_df)}.\")\n",
    "print(f\"Number of users in test dataset: {len(raw_test_adj)}.\")"
   ]
  },
  {
   "cell_type": "code",
   "execution_count": 164,
   "metadata": {
    "ExecuteTime": {
     "end_time": "2019-02-20T00:53:17.539674Z",
     "start_time": "2019-02-20T00:53:16.972471Z"
    }
   },
   "outputs": [
    {
     "name": "stdout",
     "output_type": "stream",
     "text": [
      "Number of users in intersection: 311565.\n"
     ]
    }
   ],
   "source": [
    "users_in_test_n_sample_sub = list(set(raw_test_adj.user_hash_id.values) - \n",
    "                                  (set(raw_test_adj.user_hash_id.values) - set(sample_sub_df.user_id_hash.values)))\n",
    "print(f\"Number of users in intersection: {len(users_in_test_n_sample_sub)}.\")"
   ]
  },
  {
   "cell_type": "code",
   "execution_count": 165,
   "metadata": {
    "ExecuteTime": {
     "end_time": "2019-02-20T00:53:22.532317Z",
     "start_time": "2019-02-20T00:53:22.335984Z"
    }
   },
   "outputs": [
    {
     "name": "stdout",
     "output_type": "stream",
     "text": [
      "Number of users in sample_sub not in test: 1003.\n"
     ]
    }
   ],
   "source": [
    "users_in_sample_sub_not_in_test = list(set(sample_sub_df.user_id_hash.values) - set(raw_test_adj.user_hash_id.values))\n",
    "print(f\"Number of users in sample_sub not in test: {len(users_in_sample_sub_not_in_test)}.\")"
   ]
  },
  {
   "cell_type": "code",
   "execution_count": 166,
   "metadata": {
    "ExecuteTime": {
     "end_time": "2019-02-20T00:54:19.077808Z",
     "start_time": "2019-02-20T00:53:33.933147Z"
    }
   },
   "outputs": [],
   "source": [
    "# Impute zero for users that don't show up in the sample_sub\n",
    "for user in users_in_sample_sub_not_in_test:\n",
    "    sample_sub_df.loc[sample_sub_df.user_id_hash == user, 'user_purchase_binary_7_days'] = 0\n",
    "    sample_sub_df.loc[sample_sub_df.user_id_hash == user, 'user_purchase_binary_14_days'] = 0"
   ]
  },
  {
   "cell_type": "code",
   "execution_count": 187,
   "metadata": {
    "ExecuteTime": {
     "end_time": "2019-02-20T02:26:15.212112Z",
     "start_time": "2019-02-20T02:26:14.614790Z"
    }
   },
   "outputs": [
    {
     "data": {
      "text/plain": [
       "311565"
      ]
     },
     "execution_count": 187,
     "metadata": {},
     "output_type": "execute_result"
    }
   ],
   "source": [
    "# Generate the test dataset only using id's from sample_sub\n",
    "desired_idx_list = []\n",
    "id_list_in_test_dict = {}\n",
    "for i, user in enumerate(list(raw_test_adj.user_hash_id.values)):\n",
    "    id_list_in_test_dict[user] = i\n",
    "for user in users_in_test_n_sample_sub:\n",
    "    desired_idx_list.append(id_list_in_test_dict[user])\n",
    "len(desired_idx_list)"
   ]
  },
  {
   "cell_type": "code",
   "execution_count": 190,
   "metadata": {
    "ExecuteTime": {
     "end_time": "2019-02-20T02:26:37.430518Z",
     "start_time": "2019-02-20T02:26:36.560439Z"
    }
   },
   "outputs": [
    {
     "data": {
      "text/plain": [
       "311565"
      ]
     },
     "execution_count": 190,
     "metadata": {},
     "output_type": "execute_result"
    }
   ],
   "source": [
    "raw_test_adj2 = raw_test_adj.loc[desired_idx_list,]\n",
    "len(raw_test_adj2)"
   ]
  },
  {
   "cell_type": "code",
   "execution_count": 196,
   "metadata": {
    "ExecuteTime": {
     "end_time": "2019-02-20T02:28:48.623468Z",
     "start_time": "2019-02-20T02:28:48.313534Z"
    }
   },
   "outputs": [
    {
     "data": {
      "text/plain": [
       "311565"
      ]
     },
     "execution_count": 196,
     "metadata": {},
     "output_type": "execute_result"
    }
   ],
   "source": [
    "# Test if the intersection between raw_test_adj2 and sample_sub_df is 311565\n",
    "len(set(raw_test_adj2.user_hash_id.values) - \n",
    "    (set(raw_test_adj2.user_hash_id.values) - set(sample_sub_df.user_id_hash.values)))"
   ]
  },
  {
   "cell_type": "code",
   "execution_count": 199,
   "metadata": {
    "ExecuteTime": {
     "end_time": "2019-02-20T02:33:13.453660Z",
     "start_time": "2019-02-20T02:33:01.818553Z"
    }
   },
   "outputs": [],
   "source": [
    "# Save df's locally\n",
    "raw_train_adj.to_csv('data/train.csv')\n",
    "raw_test_adj2.to_csv('data/test.csv')\n",
    "sample_sub_df.to_csv('data/sample_submission_2_adj.csv')"
   ]
  },
  {
   "cell_type": "markdown",
   "metadata": {},
   "source": [
    "## Feature Engineering"
   ]
  },
  {
   "cell_type": "markdown",
   "metadata": {},
   "source": [
    "### Create column for Number of Days Existed"
   ]
  },
  {
   "cell_type": "code",
   "execution_count": 192,
   "metadata": {
    "ExecuteTime": {
     "end_time": "2019-02-20T02:27:06.927510Z",
     "start_time": "2019-02-20T02:27:06.924177Z"
    }
   },
   "outputs": [],
   "source": [
    "train_fe = raw_train_adj\n",
    "test_fe = raw_test_adj2"
   ]
  },
  {
   "cell_type": "code",
   "execution_count": 193,
   "metadata": {
    "ExecuteTime": {
     "end_time": "2019-02-20T02:27:19.959936Z",
     "start_time": "2019-02-20T02:27:09.584966Z"
    }
   },
   "outputs": [],
   "source": [
    "# Create column for Number of Days Existed\n",
    "# For training, compute days between first date and Dec.2\n",
    "# For testing, compute days between first date and Dec.16\n",
    "train_fe[\"num_days_existed\"] = [(datetime(2018, 12, 2) - datetime.strptime(date, '%Y-%m-%d %H:%M:%S')).days \n",
    "                                for date in train_fe.date_user_created.values]\n",
    "test_fe[\"num_days_existed\"] = [(datetime(2018, 12, 16) - datetime.strptime(date, '%Y-%m-%d %H:%M:%S')).days \n",
    "                                for date in test_fe.date_user_created.values]"
   ]
  },
  {
   "cell_type": "code",
   "execution_count": 203,
   "metadata": {
    "ExecuteTime": {
     "end_time": "2019-02-20T02:42:47.607316Z",
     "start_time": "2019-02-20T02:42:47.192208Z"
    }
   },
   "outputs": [],
   "source": [
    "# Convert -1.0 to 0.0 in labels\n",
    "train_fe[\"label_1\"] = [0.0 if x == -1.0 else x for x in train_fe.label_1.values]\n",
    "train_fe[\"label_2\"] = [0.0 if x == -1.0 else x for x in train_fe.label_2.values]"
   ]
  },
  {
   "cell_type": "code",
   "execution_count": 204,
   "metadata": {
    "ExecuteTime": {
     "end_time": "2019-02-20T02:42:48.454896Z",
     "start_time": "2019-02-20T02:42:48.434829Z"
    }
   },
   "outputs": [
    {
     "data": {
      "text/html": [
       "<div>\n",
       "<style scoped>\n",
       "    .dataframe tbody tr th:only-of-type {\n",
       "        vertical-align: middle;\n",
       "    }\n",
       "\n",
       "    .dataframe tbody tr th {\n",
       "        vertical-align: top;\n",
       "    }\n",
       "\n",
       "    .dataframe thead th {\n",
       "        text-align: right;\n",
       "    }\n",
       "</style>\n",
       "<table border=\"1\" class=\"dataframe\">\n",
       "  <thead>\n",
       "    <tr style=\"text-align: right;\">\n",
       "      <th></th>\n",
       "      <th>user_hash_id</th>\n",
       "      <th>num_uniq_session_id</th>\n",
       "      <th>mean_prev_session</th>\n",
       "      <th>date_user_created</th>\n",
       "      <th>most_freq_country</th>\n",
       "      <th>most_freq_os</th>\n",
       "      <th>num_uniq_device_id</th>\n",
       "      <th>max_num_events_a_session</th>\n",
       "      <th>total_num_purchase</th>\n",
       "      <th>total_purchase_amt</th>\n",
       "      <th>label_1</th>\n",
       "      <th>label_2</th>\n",
       "      <th>num_days_existed</th>\n",
       "    </tr>\n",
       "  </thead>\n",
       "  <tbody>\n",
       "    <tr>\n",
       "      <th>0</th>\n",
       "      <td>eb37a43eb25770c442b54a4943c7f9eb17278328dd0499...</td>\n",
       "      <td>9</td>\n",
       "      <td>3.560204e+06</td>\n",
       "      <td>2018-11-15 09:53:20</td>\n",
       "      <td>IN</td>\n",
       "      <td>Android OS</td>\n",
       "      <td>1</td>\n",
       "      <td>84.0</td>\n",
       "      <td>0.0</td>\n",
       "      <td>0.0</td>\n",
       "      <td>0.0</td>\n",
       "      <td>0.0</td>\n",
       "      <td>16</td>\n",
       "    </tr>\n",
       "    <tr>\n",
       "      <th>1</th>\n",
       "      <td>e2c1b7686b247d8ce10d9afbde701ae2a9203731edf81a...</td>\n",
       "      <td>1</td>\n",
       "      <td>0.000000e+00</td>\n",
       "      <td>2018-11-25 17:50:00</td>\n",
       "      <td>US</td>\n",
       "      <td>Android OS</td>\n",
       "      <td>1</td>\n",
       "      <td>4.0</td>\n",
       "      <td>0.0</td>\n",
       "      <td>0.0</td>\n",
       "      <td>0.0</td>\n",
       "      <td>0.0</td>\n",
       "      <td>6</td>\n",
       "    </tr>\n",
       "    <tr>\n",
       "      <th>2</th>\n",
       "      <td>feea441cbaf2df60e772241695d5809cf4bc8f516c347c...</td>\n",
       "      <td>1</td>\n",
       "      <td>0.000000e+00</td>\n",
       "      <td>2018-11-14 23:01:40</td>\n",
       "      <td>PH</td>\n",
       "      <td>Android OS</td>\n",
       "      <td>1</td>\n",
       "      <td>15.0</td>\n",
       "      <td>0.0</td>\n",
       "      <td>0.0</td>\n",
       "      <td>0.0</td>\n",
       "      <td>0.0</td>\n",
       "      <td>17</td>\n",
       "    </tr>\n",
       "    <tr>\n",
       "      <th>3</th>\n",
       "      <td>bf23f836143cc7fb00ec1e6c570e211c601628ad5680eb...</td>\n",
       "      <td>1</td>\n",
       "      <td>0.000000e+00</td>\n",
       "      <td>2018-11-18 16:33:20</td>\n",
       "      <td>US</td>\n",
       "      <td>Android OS</td>\n",
       "      <td>1</td>\n",
       "      <td>36.0</td>\n",
       "      <td>0.0</td>\n",
       "      <td>0.0</td>\n",
       "      <td>0.0</td>\n",
       "      <td>0.0</td>\n",
       "      <td>13</td>\n",
       "    </tr>\n",
       "    <tr>\n",
       "      <th>4</th>\n",
       "      <td>b18aa61b3cec4bd7168de7e5037561dc44ec3051c461b2...</td>\n",
       "      <td>1</td>\n",
       "      <td>0.000000e+00</td>\n",
       "      <td>2018-11-08 17:26:40</td>\n",
       "      <td>US</td>\n",
       "      <td>Android OS</td>\n",
       "      <td>1</td>\n",
       "      <td>9.0</td>\n",
       "      <td>0.0</td>\n",
       "      <td>0.0</td>\n",
       "      <td>0.0</td>\n",
       "      <td>0.0</td>\n",
       "      <td>23</td>\n",
       "    </tr>\n",
       "  </tbody>\n",
       "</table>\n",
       "</div>"
      ],
      "text/plain": [
       "                                        user_hash_id  num_uniq_session_id  \\\n",
       "0  eb37a43eb25770c442b54a4943c7f9eb17278328dd0499...                    9   \n",
       "1  e2c1b7686b247d8ce10d9afbde701ae2a9203731edf81a...                    1   \n",
       "2  feea441cbaf2df60e772241695d5809cf4bc8f516c347c...                    1   \n",
       "3  bf23f836143cc7fb00ec1e6c570e211c601628ad5680eb...                    1   \n",
       "4  b18aa61b3cec4bd7168de7e5037561dc44ec3051c461b2...                    1   \n",
       "\n",
       "   mean_prev_session    date_user_created most_freq_country most_freq_os  \\\n",
       "0       3.560204e+06  2018-11-15 09:53:20                IN   Android OS   \n",
       "1       0.000000e+00  2018-11-25 17:50:00                US   Android OS   \n",
       "2       0.000000e+00  2018-11-14 23:01:40                PH   Android OS   \n",
       "3       0.000000e+00  2018-11-18 16:33:20                US   Android OS   \n",
       "4       0.000000e+00  2018-11-08 17:26:40                US   Android OS   \n",
       "\n",
       "   num_uniq_device_id  max_num_events_a_session  total_num_purchase  \\\n",
       "0                   1                      84.0                 0.0   \n",
       "1                   1                       4.0                 0.0   \n",
       "2                   1                      15.0                 0.0   \n",
       "3                   1                      36.0                 0.0   \n",
       "4                   1                       9.0                 0.0   \n",
       "\n",
       "   total_purchase_amt  label_1  label_2  num_days_existed  \n",
       "0                 0.0      0.0      0.0                16  \n",
       "1                 0.0      0.0      0.0                 6  \n",
       "2                 0.0      0.0      0.0                17  \n",
       "3                 0.0      0.0      0.0                13  \n",
       "4                 0.0      0.0      0.0                23  "
      ]
     },
     "execution_count": 204,
     "metadata": {},
     "output_type": "execute_result"
    }
   ],
   "source": [
    "train_fe.head()"
   ]
  },
  {
   "cell_type": "markdown",
   "metadata": {},
   "source": [
    "## Modeling"
   ]
  },
  {
   "cell_type": "code",
   "execution_count": 206,
   "metadata": {
    "ExecuteTime": {
     "end_time": "2019-02-20T02:45:10.749826Z",
     "start_time": "2019-02-20T02:45:10.745999Z"
    }
   },
   "outputs": [],
   "source": [
    "train_ml = train_fe\n",
    "test_ml = test_fe"
   ]
  },
  {
   "cell_type": "code",
   "execution_count": 207,
   "metadata": {
    "ExecuteTime": {
     "end_time": "2019-02-20T02:45:19.005235Z",
     "start_time": "2019-02-20T02:45:18.999263Z"
    }
   },
   "outputs": [
    {
     "data": {
      "text/plain": [
       "Index(['user_hash_id', 'num_uniq_session_id', 'mean_prev_session',\n",
       "       'date_user_created', 'most_freq_country', 'most_freq_os',\n",
       "       'num_uniq_device_id', 'max_num_events_a_session', 'total_num_purchase',\n",
       "       'total_purchase_amt', 'label_1', 'label_2', 'num_days_existed'],\n",
       "      dtype='object')"
      ]
     },
     "execution_count": 207,
     "metadata": {},
     "output_type": "execute_result"
    }
   ],
   "source": [
    "train_ml.columns"
   ]
  },
  {
   "cell_type": "code",
   "execution_count": 208,
   "metadata": {
    "ExecuteTime": {
     "end_time": "2019-02-20T02:47:03.031792Z",
     "start_time": "2019-02-20T02:47:03.029010Z"
    }
   },
   "outputs": [],
   "source": [
    "# Set labels\n",
    "labels_1 = train_ml.label_1\n",
    "labels_2 = train_ml.label_2"
   ]
  },
  {
   "cell_type": "code",
   "execution_count": 211,
   "metadata": {
    "ExecuteTime": {
     "end_time": "2019-02-20T02:51:46.336539Z",
     "start_time": "2019-02-20T02:51:46.266971Z"
    }
   },
   "outputs": [],
   "source": [
    "# Set features\n",
    "features_train = train_ml.drop([\"user_hash_id\", \n",
    "                                \"date_user_created\", \"most_freq_country\", \"most_freq_os\", \n",
    "                                \"label_1\", \"label_2\"], axis = 1)\n",
    "features_test = test_ml.drop([\"user_hash_id\", \n",
    "                              \"date_user_created\", \"most_freq_country\", \"most_freq_os\"], axis = 1)"
   ]
  },
  {
   "cell_type": "markdown",
   "metadata": {},
   "source": [
    "### Label 1 Model"
   ]
  },
  {
   "cell_type": "code",
   "execution_count": 212,
   "metadata": {
    "ExecuteTime": {
     "end_time": "2019-02-20T02:53:12.747465Z",
     "start_time": "2019-02-20T02:53:11.959823Z"
    }
   },
   "outputs": [],
   "source": [
    "from sklearn.model_selection import train_test_split\n",
    "X_train_1, X_val_1, y_train_1, y_val_1 = train_test_split(features_train, labels_1, test_size=0.3)"
   ]
  },
  {
   "cell_type": "code",
   "execution_count": 230,
   "metadata": {
    "ExecuteTime": {
     "end_time": "2019-02-20T03:02:25.916445Z",
     "start_time": "2019-02-20T03:02:24.191802Z"
    }
   },
   "outputs": [
    {
     "name": "stderr",
     "output_type": "stream",
     "text": [
      "/Users/xulian/anaconda3/envs/ml/lib/python3.6/site-packages/sklearn/linear_model/logistic.py:433: FutureWarning: Default solver will be changed to 'lbfgs' in 0.22. Specify a solver to silence this warning.\n",
      "  FutureWarning)\n"
     ]
    },
    {
     "name": "stdout",
     "output_type": "stream",
     "text": [
      "0.8446\n"
     ]
    }
   ],
   "source": [
    "from sklearn.linear_model import LogisticRegression\n",
    "lr_1 = LogisticRegression(penalty='l2', class_weight = \"balanced\")\n",
    "lr_1.fit(X_train_1, y_train_1)\n",
    "lr_1_acc = lr_1.score(X_val_1, y_val_1)\n",
    "print(f\"{lr_1_acc:.4f}\")"
   ]
  },
  {
   "cell_type": "markdown",
   "metadata": {},
   "source": [
    "### Label 2 Model"
   ]
  },
  {
   "cell_type": "code",
   "execution_count": 229,
   "metadata": {
    "ExecuteTime": {
     "end_time": "2019-02-20T03:01:59.580798Z",
     "start_time": "2019-02-20T03:01:59.460412Z"
    }
   },
   "outputs": [],
   "source": [
    "X_train_2, X_val_2, y_train_2, y_val_2 = train_test_split(features_train, labels_2, test_size=0.3)"
   ]
  },
  {
   "cell_type": "code",
   "execution_count": 231,
   "metadata": {
    "ExecuteTime": {
     "end_time": "2019-02-20T03:02:54.189193Z",
     "start_time": "2019-02-20T03:02:52.413273Z"
    }
   },
   "outputs": [
    {
     "name": "stderr",
     "output_type": "stream",
     "text": [
      "/Users/xulian/anaconda3/envs/ml/lib/python3.6/site-packages/sklearn/linear_model/logistic.py:433: FutureWarning: Default solver will be changed to 'lbfgs' in 0.22. Specify a solver to silence this warning.\n",
      "  FutureWarning)\n"
     ]
    },
    {
     "name": "stdout",
     "output_type": "stream",
     "text": [
      "0.8463\n"
     ]
    }
   ],
   "source": [
    "lr_2 = LogisticRegression(penalty='l2', class_weight = \"balanced\")\n",
    "lr_2.fit(X_train_2, y_train_2)\n",
    "lr_2_acc = lr_1.score(X_val_2, y_val_2)\n",
    "print(f\"{lr_2_acc:.4f}\")"
   ]
  },
  {
   "cell_type": "markdown",
   "metadata": {},
   "source": [
    "### Build result data frame"
   ]
  },
  {
   "cell_type": "code",
   "execution_count": 240,
   "metadata": {
    "ExecuteTime": {
     "end_time": "2019-02-20T03:06:07.528766Z",
     "start_time": "2019-02-20T03:06:07.419753Z"
    }
   },
   "outputs": [
    {
     "data": {
      "text/html": [
       "<div>\n",
       "<style scoped>\n",
       "    .dataframe tbody tr th:only-of-type {\n",
       "        vertical-align: middle;\n",
       "    }\n",
       "\n",
       "    .dataframe tbody tr th {\n",
       "        vertical-align: top;\n",
       "    }\n",
       "\n",
       "    .dataframe thead th {\n",
       "        text-align: right;\n",
       "    }\n",
       "</style>\n",
       "<table border=\"1\" class=\"dataframe\">\n",
       "  <thead>\n",
       "    <tr style=\"text-align: right;\">\n",
       "      <th></th>\n",
       "      <th>user_id_hash</th>\n",
       "      <th>user_purchase_binary_7_days</th>\n",
       "      <th>user_purchase_binary_14_days</th>\n",
       "    </tr>\n",
       "  </thead>\n",
       "  <tbody>\n",
       "    <tr>\n",
       "      <th>0</th>\n",
       "      <td>bfc380aa034b08be2a4bbd79b95e8752831f60ba210181...</td>\n",
       "      <td>0.0</td>\n",
       "      <td>0.0</td>\n",
       "    </tr>\n",
       "    <tr>\n",
       "      <th>1</th>\n",
       "      <td>f4167c71f17aec508691349d5f47d15483912ffc35c129...</td>\n",
       "      <td>0.0</td>\n",
       "      <td>0.0</td>\n",
       "    </tr>\n",
       "    <tr>\n",
       "      <th>2</th>\n",
       "      <td>e7b07a39629362c297b52ae037a32b6441ecd412bc0d74...</td>\n",
       "      <td>1.0</td>\n",
       "      <td>1.0</td>\n",
       "    </tr>\n",
       "    <tr>\n",
       "      <th>3</th>\n",
       "      <td>b613547f6575992a16318bfef73a4a3f8358459309652a...</td>\n",
       "      <td>0.0</td>\n",
       "      <td>0.0</td>\n",
       "    </tr>\n",
       "    <tr>\n",
       "      <th>4</th>\n",
       "      <td>fb7619092ede061b4f7cda0f1158112e7fa8210856e77c...</td>\n",
       "      <td>0.0</td>\n",
       "      <td>0.0</td>\n",
       "    </tr>\n",
       "  </tbody>\n",
       "</table>\n",
       "</div>"
      ],
      "text/plain": [
       "                                        user_id_hash  \\\n",
       "0  bfc380aa034b08be2a4bbd79b95e8752831f60ba210181...   \n",
       "1  f4167c71f17aec508691349d5f47d15483912ffc35c129...   \n",
       "2  e7b07a39629362c297b52ae037a32b6441ecd412bc0d74...   \n",
       "3  b613547f6575992a16318bfef73a4a3f8358459309652a...   \n",
       "4  fb7619092ede061b4f7cda0f1158112e7fa8210856e77c...   \n",
       "\n",
       "   user_purchase_binary_7_days  user_purchase_binary_14_days  \n",
       "0                          0.0                           0.0  \n",
       "1                          0.0                           0.0  \n",
       "2                          1.0                           1.0  \n",
       "3                          0.0                           0.0  \n",
       "4                          0.0                           0.0  "
      ]
     },
     "execution_count": 240,
     "metadata": {},
     "output_type": "execute_result"
    }
   ],
   "source": [
    "result_df = pd.DataFrame()\n",
    "result_df[\"user_id_hash\"] = test_ml.user_hash_id.values\n",
    "result_df['user_purchase_binary_7_days'] = lr_1.predict(features_test)\n",
    "result_df['user_purchase_binary_14_days'] = lr_2.predict(features_test)\n",
    "result_df.head()"
   ]
  },
  {
   "cell_type": "code",
   "execution_count": 254,
   "metadata": {
    "ExecuteTime": {
     "end_time": "2019-02-20T03:16:34.246780Z",
     "start_time": "2019-02-20T03:16:34.241650Z"
    }
   },
   "outputs": [
    {
     "data": {
      "text/plain": [
       "311565"
      ]
     },
     "execution_count": 254,
     "metadata": {},
     "output_type": "execute_result"
    }
   ],
   "source": [
    "len(result_df)"
   ]
  },
  {
   "cell_type": "code",
   "execution_count": 253,
   "metadata": {
    "ExecuteTime": {
     "end_time": "2019-02-20T03:16:19.263022Z",
     "start_time": "2019-02-20T03:16:19.222950Z"
    }
   },
   "outputs": [
    {
     "data": {
      "text/plain": [
       "312568"
      ]
     },
     "execution_count": 253,
     "metadata": {},
     "output_type": "execute_result"
    }
   ],
   "source": [
    "sample_sub_df_adj = pd.DataFrame()\n",
    "sample_sub_df_adj[\"user_id_hash\"] = sample_sub_df.user_id_hash.values\n",
    "len(sample_sub_df_adj)"
   ]
  },
  {
   "cell_type": "code",
   "execution_count": 270,
   "metadata": {
    "ExecuteTime": {
     "end_time": "2019-02-20T03:25:04.890014Z",
     "start_time": "2019-02-20T03:25:04.415728Z"
    }
   },
   "outputs": [
    {
     "data": {
      "text/plain": [
       "user_id_hash                    0\n",
       "user_purchase_binary_7_days     0\n",
       "user_purchase_binary_14_days    0\n",
       "dtype: int64"
      ]
     },
     "execution_count": 270,
     "metadata": {},
     "output_type": "execute_result"
    }
   ],
   "source": [
    "final_result = pd.merge(sample_sub_df_adj, result_df, how = \"left\").fillna(0.0)\n",
    "final_result.isnull().sum() # Check if there is nan"
   ]
  },
  {
   "cell_type": "code",
   "execution_count": 277,
   "metadata": {
    "ExecuteTime": {
     "end_time": "2019-02-20T03:31:20.638465Z",
     "start_time": "2019-02-20T03:31:19.456432Z"
    }
   },
   "outputs": [],
   "source": [
    "final_result.to_csv('submission/sample_submission_fatpapaya_1.csv', index = False)"
   ]
  },
  {
   "cell_type": "code",
   "execution_count": null,
   "metadata": {},
   "outputs": [],
   "source": []
  }
 ],
 "metadata": {
  "kernelspec": {
   "display_name": "Python 3",
   "language": "python",
   "name": "python3"
  },
  "language_info": {
   "codemirror_mode": {
    "name": "ipython",
    "version": 3
   },
   "file_extension": ".py",
   "mimetype": "text/x-python",
   "name": "python",
   "nbconvert_exporter": "python",
   "pygments_lexer": "ipython3",
   "version": "3.6.8"
  }
 },
 "nbformat": 4,
 "nbformat_minor": 2
}
